{
 "cells": [
  {
   "cell_type": "markdown",
   "id": "7ada55f0-7707-448f-9795-88208fc0b36d",
   "metadata": {},
   "source": [
    "# Foraging"
   ]
  },
  {
   "cell_type": "code",
   "execution_count": 28,
   "id": "692367c8-9ab1-42bd-b8c5-a225ff615301",
   "metadata": {},
   "outputs": [],
   "source": [
    "import numpy as np\n",
    "import matplotlib.pyplot as plt\n",
    "from IPython.display import clear_output\n",
    "from matplotlib.colors import ListedColormap\n",
    "from tqdm import tqdm\n",
    "import time\n",
    "from torch import nn\n",
    "import torch\n",
    "\n",
    "np.random.seed(42)"
   ]
  },
  {
   "cell_type": "markdown",
   "id": "073fc3c8-d9ce-4dd6-bc90-79d37179bb07",
   "metadata": {},
   "source": [
    "# 1 - Grid"
   ]
  },
  {
   "cell_type": "markdown",
   "id": "a2c6a80a-83eb-46c0-8a49-2477e90094d4",
   "metadata": {},
   "source": [
    "## 1.1 - Grid"
   ]
  },
  {
   "cell_type": "code",
   "execution_count": 29,
   "id": "e75781ee-402e-4586-80d3-569ba8415801",
   "metadata": {},
   "outputs": [
    {
     "name": "stdout",
     "output_type": "stream",
     "text": [
      "[[0 0 0 0 0 0 0]\n",
      " [0 0 0 0 0 0 0]\n",
      " [0 0 0 0 0 0 0]\n",
      " [0 0 0 0 0 0 0]\n",
      " [0 0 0 0 0 0 0]\n",
      " [0 0 0 0 0 0 0]\n",
      " [0 0 0 0 0 0 0]]\n"
     ]
    }
   ],
   "source": [
    "grid_shape = [7, 7]\n",
    "\n",
    "grid = np.zeros(grid_shape).astype(int)\n",
    "print(grid)"
   ]
  },
  {
   "cell_type": "markdown",
   "id": "6e0c7ed5-8be7-4cfd-8db8-5114dfe29044",
   "metadata": {},
   "source": [
    "## 1.2 - Agents"
   ]
  },
  {
   "cell_type": "code",
   "execution_count": 30,
   "id": "734d43fa-4d9b-4b2c-b6a4-6a8f0c579abf",
   "metadata": {},
   "outputs": [
    {
     "name": "stdout",
     "output_type": "stream",
     "text": [
      "[[ 0  0  0  0  0  0  0]\n",
      " [ 0  0  0  0  0  0  0]\n",
      " [ 0  0  0  0  0  0  0]\n",
      " [ 0  0  0  0  0  0  0]\n",
      " [ 0  0  0  0  0  0  0]\n",
      " [ 0  0  0 -1  0  0  0]\n",
      " [ 0  0  0  0  0  0  0]]\n"
     ]
    }
   ],
   "source": [
    "n_agents = 1\n",
    "agents = list(range(-n_agents,0))\n",
    "\n",
    "# Getting all empty indexes from the grid: [[0,0], [0,1], ...]\n",
    "empty_indexes = np.stack(np.where(grid == 0)).T\n",
    "\n",
    "# Sampling 1 empty index from empty_indexes \n",
    "random_i = np.random.choice(range(empty_indexes.shape[0]), n_agents)\n",
    "agent_idxs = empty_indexes[random_i,:]\n",
    "\n",
    "# Adding prizes to grid with label 'reward_prize'\n",
    "for i, idx in enumerate(agent_idxs):\n",
    "    grid[idx[0], idx[1]] = agents[i]\n",
    "    \n",
    "print(grid)"
   ]
  },
  {
   "cell_type": "markdown",
   "id": "7275e16b-2571-48c2-aec0-37421f4dcaa0",
   "metadata": {},
   "source": [
    "## 1.3 - Apple"
   ]
  },
  {
   "cell_type": "code",
   "execution_count": 31,
   "id": "44a00e5f-2321-440c-a831-6a40cda07495",
   "metadata": {},
   "outputs": [
    {
     "name": "stdout",
     "output_type": "stream",
     "text": [
      "[[ 0  0  0  0  0  0  0]\n",
      " [ 1  0  0  0  0  0  0]\n",
      " [ 1  0  0  0  0  0  1]\n",
      " [ 0  0  0  0  0  0  0]\n",
      " [ 1  0  0  0  0  0  0]\n",
      " [ 0  0  0 -1  0  0  0]\n",
      " [ 0  1  0  0  0  0  0]]\n"
     ]
    }
   ],
   "source": [
    "# possible_values = list(range(1,n_agents+1))\n",
    "possible_values = [1]\n",
    "n_apples = 5\n",
    "\n",
    "# Symbol for the prize in the grid\n",
    "symbol_apple = 1\n",
    "\n",
    "# Getting all empty indexes from the grid: [[0,0], [0,1], ...]\n",
    "empty_indexes = np.stack(np.where(grid == 0)).T\n",
    "\n",
    "# Sampling 1 empty index from empty_indexes \n",
    "random_i = np.random.choice(range(empty_indexes.shape[0]), n_apples)\n",
    "prize_idxs = empty_indexes[random_i,:]\n",
    "\n",
    "# Sampling foraging value\n",
    "values = np.random.choice(possible_values, n_apples)\n",
    "\n",
    "# Adding prizes to grid with label 'reward_prize'\n",
    "for i, idx in enumerate(prize_idxs):\n",
    "    grid[idx[0], idx[1]] = values[i]\n",
    "    \n",
    "print(grid)"
   ]
  },
  {
   "cell_type": "markdown",
   "id": "6a9bbf69-1ec2-4cfb-a72e-637434282274",
   "metadata": {},
   "source": [
    "## 1.4 - Functions"
   ]
  },
  {
   "cell_type": "markdown",
   "id": "5b77c2e9-9ab1-4b7c-be25-b8aa8170d19a",
   "metadata": {},
   "source": [
    "#### 1.4.1 - Plotting game"
   ]
  },
  {
   "cell_type": "code",
   "execution_count": 32,
   "id": "7db6ca50-0fcb-47dc-a6ce-95e9b4e616d2",
   "metadata": {},
   "outputs": [],
   "source": [
    "# Function that plots the grid\n",
    "def plot_game(grid):\n",
    "\n",
    "    apple_locs = list(set(grid[grid>0]))\n",
    "    agent_locs = list(set(grid[grid<0]))\n",
    "\n",
    "    # Defining colors for each symbol\n",
    "    colors = {0: 'lightgrey'}\n",
    "    colors.update({loc:'red' for loc in apple_locs})\n",
    "    colors.update({loc:'cyan' for loc in agent_locs})\n",
    "\n",
    "    clear_output(wait=True)\n",
    "\n",
    "    # Convert the matrix values to a list of colors\n",
    "    unique_values = list(colors.keys())  # Extract unique values in the correct order\n",
    "    \n",
    "    color_list = [colors[val] for val in unique_values]  # Generate a list of colors in the order of unique values\n",
    "    # Create a ListedColormap using the colors\n",
    "    cmap = ListedColormap(color_list)\n",
    "    \n",
    "    # Create an index map to translate values in the matrix to their corresponding indices in the cmap\n",
    "    index_map = np.vectorize(lambda x: unique_values.index(x))(grid)\n",
    "\n",
    "    fig, ax = plt.subplots(1, figsize=(5,5))\n",
    "    \n",
    "    # Plot the matrix using imshow and the custom colormap\n",
    "    ax.imshow(index_map, cmap=cmap)\n",
    "\n",
    "    for (j,i),label in np.ndenumerate(grid):\n",
    "        if label > 0:\n",
    "            ax.text(i,j,label,ha='center',va='center', fontsize=14)\n",
    "        elif label < 0:\n",
    "            ax.text(i,j,r'$x_{}$'.format(label*-1), ha='center',va='center', fontsize=14)\n",
    "    plt.axis('off')"
   ]
  },
  {
   "cell_type": "code",
   "execution_count": 33,
   "id": "e694beb2-f612-4ef7-bf8d-97083e493ed0",
   "metadata": {},
   "outputs": [
    {
     "data": {
      "image/png": "[encoded data removed]",
      "text/plain": [
       "<Figure size 500x500 with 1 Axes>"
      ]
     },
     "metadata": {},
     "output_type": "display_data"
    }
   ],
   "source": [
    "plot_game(grid)"
   ]
  },
  {
   "cell_type": "code",
   "execution_count": 34,
   "id": "b776ea86-1a17-49f9-bd2a-cd03594e4c8e",
   "metadata": {},
   "outputs": [],
   "source": [
    "grid_init = np.copy(grid)\n",
    "def reset():\n",
    "    return np.copy(grid_init)"
   ]
  },
  {
   "cell_type": "markdown",
   "id": "09d40f18-d5e4-4fcf-9253-86e1c02ecd5d",
   "metadata": {},
   "source": [
    "#### 1.4.2 - Dynamics "
   ]
  },
  {
   "cell_type": "code",
   "execution_count": 35,
   "id": "1a208b4f-65d8-44af-8f9b-8bed161399b6",
   "metadata": {},
   "outputs": [],
   "source": [
    "# Getting the agent's [x,y] coordinates\n",
    "def get_agent_pos(grid, agent):\n",
    "    return np.hstack(np.where(grid == agent))"
   ]
  },
  {
   "cell_type": "code",
   "execution_count": 36,
   "id": "a6a187da-e017-4e0f-bff3-0c9849786b0b",
   "metadata": {},
   "outputs": [],
   "source": [
    "def rand_init(grid):\n",
    "\n",
    "    pos = np.where(grid<0)\n",
    "    for i in range(len(pos[0])):\n",
    "        grid[pos[0][i], pos[1][i]] = 0\n",
    "    \n",
    "    # Getting all empty indexes from the grid: [[0,0], [0,1], ...]\n",
    "    empty_indexes = np.stack(np.where(grid == 0)).T\n",
    "    \n",
    "    # Sampling 1 empty index from empty_indexes \n",
    "    random_i = np.random.choice(range(empty_indexes.shape[0]), n_agents)\n",
    "    agent_idxs = empty_indexes[random_i,:]\n",
    "    \n",
    "    # Adding prizes to grid with label 'reward_prize'\n",
    "    for i, idx in enumerate(agent_idxs):\n",
    "        grid[idx[0], idx[1]] = agents[i]"
   ]
  },
  {
   "cell_type": "code",
   "execution_count": 37,
   "id": "2ed4c300-a669-4513-8d3f-bf658b9f5564",
   "metadata": {},
   "outputs": [
    {
     "data": {
      "text/plain": [
       "['left', 'down', 'right', 'up', 'collect', 'rest']"
      ]
     },
     "execution_count": 37,
     "metadata": {},
     "output_type": "execute_result"
    }
   ],
   "source": [
    "# Allowed movements\n",
    "MOVEMENTS = {\n",
    "    'left': np.array([0,-1]), \n",
    "    'down':np.array([1,0]), \n",
    "    'right':np.array([0,1]), \n",
    "    'up':np.array([-1,0])\n",
    "}\n",
    "\n",
    "ACTIONS = list(MOVEMENTS.keys()) + ['collect', 'rest']\n",
    "ACTIONS"
   ]
  },
  {
   "cell_type": "code",
   "execution_count": 38,
   "id": "e3e64f99-1827-4b9b-b34a-0373a0a9b11d",
   "metadata": {},
   "outputs": [],
   "source": [
    "# Reward for each time step\n",
    "reward_timestep = -0.1"
   ]
  },
  {
   "cell_type": "code",
   "execution_count": 39,
   "id": "6b2907d0-301e-493f-8a99-0793054c5098",
   "metadata": {},
   "outputs": [
    {
     "data": {
      "text/plain": [
       "[[-1, -1], [-1, 0], [-1, 1], [0, -1], [0, 0], [0, 1], [1, -1], [1, 0], [1, 1]]"
      ]
     },
     "execution_count": 39,
     "metadata": {},
     "output_type": "execute_result"
    }
   ],
   "source": [
    "NEIGH = [[i,j] for i in [-1,0,1] for j in [-1,0,1]]\n",
    "NEIGH"
   ]
  },
  {
   "cell_type": "code",
   "execution_count": 40,
   "id": "d08822e1-4c5a-41cb-8cf7-671199d365ab",
   "metadata": {},
   "outputs": [],
   "source": [
    "def act(action, agent, grid):\n",
    "    \n",
    "    # We copy the grid so that our changes dont reflect on the grid\n",
    "    grid = grid.copy()\n",
    "\n",
    "    terminate = False\n",
    "\n",
    "    reward = reward_timestep\n",
    "    \n",
    "    # If the action is not allowed (e.g. 'banana'), we raise an error\n",
    "    if action not in ACTIONS:\n",
    "        raise ValueError(f'Possible actions are: { ACTIONS }')\n",
    "    \n",
    "    # Otherwise, perform movement\n",
    "    elif action in MOVEMENTS.keys():\n",
    "        \n",
    "        # Getting current position of the agent\n",
    "        curr_pos = get_agent_pos(grid, agent)\n",
    "        \n",
    "        # Getting the next position. \n",
    "        # Note that if the action would take the agent outside the grid, the agent stays in place.\n",
    "        next_pos = curr_pos + MOVEMENTS[action]\n",
    "        next_pos[0] = np.clip(next_pos[0], 0, grid_shape[0]-1)\n",
    "        next_pos[1] = np.clip(next_pos[1], 0, grid_shape[1]-1)\n",
    "\n",
    "        if grid[next_pos[0], next_pos[1]] == 0:\n",
    "            grid[curr_pos[0], curr_pos[1]] = 0\n",
    "            grid[next_pos[0], next_pos[1]] = agent   \n",
    "            \n",
    "    elif action == 'rest':\n",
    "        pass\n",
    "        \n",
    "    elif action == 'collect':\n",
    "\n",
    "        # Getting current position of the agent\n",
    "        curr_pos = get_agent_pos(grid, agent)\n",
    "\n",
    "        for value in sorted(possible_values, reverse=True):\n",
    "            \n",
    "            for delta in NEIGH:\n",
    "\n",
    "                # Getting neighbordhoods\n",
    "                x = np.clip(curr_pos[0] + delta[0], 0, grid.shape[0]-1)\n",
    "                y = np.clip(curr_pos[1] + delta[1], 0, grid.shape[1]-1)\n",
    "                \n",
    "                if grid[x, y] == value:\n",
    "                    neigh_agents = []\n",
    "                    \n",
    "                    for delta_app in NEIGH:\n",
    "                        \n",
    "                        # Getting neighbordhoods\n",
    "                        x2 = np.clip(x + delta_app[0], 0, grid.shape[0]-1)\n",
    "                        y2 = np.clip(y + delta_app[1], 0, grid.shape[1]-1)\n",
    "                        \n",
    "                        if grid[x2, y2] < 0:\n",
    "                            neigh_agents.append(grid[x2, y2])\n",
    "                            \n",
    "                    neigh_agents = set(neigh_agents)\n",
    "                    \n",
    "                    if len(neigh_agents) >= value:\n",
    "                        reward += 1\n",
    "                        grid[x,y] = 0\n",
    "                        break\n",
    "    if len(grid[grid>0])==0:\n",
    "        terminate = True\n",
    "    return (grid, reward, terminate)"
   ]
  },
  {
   "cell_type": "code",
   "execution_count": 41,
   "id": "fc95f5f5-e1d7-42b9-b2f6-cd196a424f09",
   "metadata": {},
   "outputs": [],
   "source": [
    "def play(policy, n_epis=10, T=100, show_games=False, plot_value=False, rand_init=False):\n",
    "    \n",
    "    V = {agent:[] for agent in agents}\n",
    "\n",
    "    for _ in tqdm(range(n_epis)):\n",
    "        grid = reset()\n",
    "        V_epi = {agent:0 for agent in agents}\n",
    "        for i in range(T):\n",
    "            actions = policy(grid)\n",
    "            for j, agent in enumerate((agents)):\n",
    "                action = actions[j]\n",
    "                grid,r,terminate = act(action, agent, grid)\n",
    "                V_epi[agent] += r\n",
    "                if show_games:\n",
    "                    time.sleep(0.001)\n",
    "                    plot_game(grid)\n",
    "                    plt.title(' || '.join([f'$x_{-agent}$: {round(V_epi[agent],2)}' for agent in sorted(agents, reverse=True)]))\n",
    "                    plt.show()\n",
    "                    \n",
    "                if terminate:\n",
    "                    return V\n",
    "        for agent in agents:\n",
    "            V[agent].append(V_epi[agent])\n",
    "\n",
    "    if plot_value:\n",
    "        for agent in agents:\n",
    "            plt.plot(V[agent], label=f'$x_{-agent}$')\n",
    "        plt.legend()\n",
    "        plt.show()\n",
    "    return V"
   ]
  },
  {
   "cell_type": "markdown",
   "id": "72b67701-a5ed-4e9e-a386-fb996377345f",
   "metadata": {},
   "source": [
    "# 2 - Single Agent Learning"
   ]
  },
  {
   "cell_type": "markdown",
   "id": "650a4216-b885-431d-8090-4895403b451b",
   "metadata": {},
   "source": [
    "### 2.1 - REINFORCE"
   ]
  },
  {
   "cell_type": "code",
   "execution_count": 42,
   "id": "2543c257-9866-497d-a2b4-80c6623be97b",
   "metadata": {},
   "outputs": [],
   "source": [
    "# Class Definition\n",
    "class PolNet(nn.Module):\n",
    "    def __init__(self, grid_size, n_actions):\n",
    "        super().__init__()\n",
    "        self.model = nn.Sequential(\n",
    "            nn.Flatten(start_dim=0, end_dim=-1),\n",
    "            nn.Linear(grid_size, n_actions),\n",
    "            nn.Softmax(dim=-1)\n",
    "        )\n",
    "    \n",
    "    def forward(self, grid):\n",
    "        grid = torch.tensor([grid], dtype=torch.float)\n",
    "        return self.model(grid)"
   ]
  },
  {
   "cell_type": "code",
   "execution_count": 43,
   "id": "0901b55b-15a5-4f37-b33b-ef5bc3fdd182",
   "metadata": {},
   "outputs": [],
   "source": [
    "# Policy\n",
    "def policy_REINFORCE(grid):\n",
    "    actions = []\n",
    "    for i, agent in enumerate(agents):\n",
    "        action_probs = PolNets[i](grid).detach().numpy()\n",
    "        action_idx = np.random.choice(range(len(ACTIONS)), p=action_probs)\n",
    "        actions.append(ACTIONS[action_idx])\n",
    "    return actions"
   ]
  },
  {
   "cell_type": "markdown",
   "id": "c20fe668-a023-4ade-bc9e-26824ef5adb2",
   "metadata": {},
   "source": [
    "**Training**"
   ]
  },
  {
   "cell_type": "code",
   "execution_count": 44,
   "id": "6810bfe9-0a9f-428c-a1b1-a3bd74c31c8a",
   "metadata": {},
   "outputs": [],
   "source": [
    "def generate_trajectory(PolNets, n_max=1000):\n",
    "    \n",
    "    grid = reset()\n",
    "    trajectory = [{\"s\":[], \"a\":[], \"probs\": [], \"s'\":[], \"r\":[]} for _ in range(n_agents)] # (state, action, state', reward)\n",
    "    \n",
    "    for _ in range(n_max):\n",
    "        for i, agent in enumerate(agents):\n",
    "                \n",
    "            # Current State\n",
    "            curr_state = grid\n",
    "            \n",
    "            # Sample Action using Policy Network\n",
    "            action_probs = PolNets[i](grid)\n",
    "            action_idx = np.random.choice(range(len(ACTIONS)), p=action_probs.detach().numpy())\n",
    "            action = ACTIONS[action_idx]\n",
    "            \n",
    "            # Transition + Reward\n",
    "            (next_grid, reward, terminate) = act(action, agent, grid)\n",
    "            next_state = next_grid\n",
    "            \n",
    "            # Save\n",
    "            trajectory[i][\"s\"].append(curr_state)\n",
    "            trajectory[i][\"a\"].append(action_idx)\n",
    "            trajectory[i][\"probs\"].append(action_probs)\n",
    "            trajectory[i][\"s'\"].append(next_state)\n",
    "            trajectory[i][\"r\"].append(reward)\n",
    "            \n",
    "            # Update Actual State\n",
    "            grid = next_grid\n",
    "            \n",
    "            if terminate:\n",
    "                return trajectory\n",
    "                \n",
    "    return trajectory"
   ]
  },
  {
   "cell_type": "code",
   "execution_count": 45,
   "id": "5f24269c-5b0c-4b28-8b30-de8035486122",
   "metadata": {},
   "outputs": [],
   "source": [
    "PolNets = [PolNet(np.size(grid), len(ACTIONS)) for i in range(n_agents)]\n",
    "optims = [torch.optim.Adam(PolNet.parameters(), lr=0.01) for PolNet in PolNets]"
   ]
  },
  {
   "cell_type": "code",
   "execution_count": 46,
   "id": "9ba4834d-58a6-4ed3-93d8-9fe12b9ef810",
   "metadata": {},
   "outputs": [
    {
     "data": {
      "image/png": "[encoded data removed]",
      "text/plain": [
       "<Figure size 500x500 with 1 Axes>"
      ]
     },
     "metadata": {},
     "output_type": "display_data"
    },
    {
     "name": "stderr",
     "output_type": "stream",
     "text": [
      "100%|█████████████████████████████████████████████| 1/1 [00:03<00:00,  3.64s/it]\n"
     ]
    }
   ],
   "source": [
    "V = play(policy_REINFORCE, n_epis=1, T=100, show_games=True)"
   ]
  },
  {
   "cell_type": "code",
   "execution_count": 47,
   "id": "9766623f-3069-4b8c-9231-96dbc1871814",
   "metadata": {},
   "outputs": [
    {
     "name": "stderr",
     "output_type": "stream",
     "text": [
      "100%|█████████████████████████████████████████| 700/700 [00:12<00:00, 57.57it/s]\n"
     ]
    },
    {
     "data": {
      "text/plain": [
       "Text(0, 0.5, 'Return')"
      ]
     },
     "execution_count": 47,
     "metadata": {},
     "output_type": "execute_result"
    },
    {
     "data": {
      "image/png": "[encoded data removed]",
      "text/plain": [
       "<Figure size 640x480 with 1 Axes>"
      ]
     },
     "metadata": {},
     "output_type": "display_data"
    }
   ],
   "source": [
    "n_episodes = 700\n",
    "gamma = 0.95\n",
    "\n",
    "V = []\n",
    "\n",
    "for _ in tqdm(range(n_episodes)):\n",
    "\n",
    "    trajectory = generate_trajectory(PolNets)\n",
    "\n",
    "    for i, agent in enumerate(agents):\n",
    "        \n",
    "        Returns = []\n",
    "        for j, s in enumerate(trajectory[i][\"s\"]):\n",
    "            G = 0\n",
    "            for k, r in enumerate(trajectory[i][\"r\"][j:]):\n",
    "                G += (gamma**k)*r\n",
    "            Returns.append(G)\n",
    "            \n",
    "        loss = 0\n",
    "        for j, (s, a_idx, probs, ret) in enumerate(zip(trajectory[i][\"s\"], trajectory[i][\"a\"], trajectory[i][\"probs\"], Returns)):\n",
    "            \n",
    "            dist = torch.distributions.Categorical(probs=probs)    \n",
    "            log_prob = dist.log_prob(torch.tensor(a_idx))\n",
    "            \n",
    "            loss += -log_prob*ret\n",
    "            \n",
    "        optims[i].zero_grad()\n",
    "        loss.backward()\n",
    "        optims[i].step()\n",
    "            \n",
    "    V.append(sum(trajectory[0][\"r\"]))\n",
    "\n",
    "plt.title('Return vs Episodes for REINFORCE')\n",
    "plt.plot(np.convolve(V, np.ones(10)/10, mode='valid'))\n",
    "plt.xlabel('Episodes')\n",
    "plt.ylabel('Return')"
   ]
  },
  {
   "cell_type": "code",
   "execution_count": 49,
   "id": "22261657-2e6c-45bb-b3c2-15a87b7b04e2",
   "metadata": {},
   "outputs": [
    {
     "data": {
      "image/png": "[encoded data removed]",
      "text/plain": [
       "<Figure size 500x500 with 1 Axes>"
      ]
     },
     "metadata": {},
     "output_type": "display_data"
    },
    {
     "name": "stderr",
     "output_type": "stream",
     "text": [
      "  0%|                                                     | 0/1 [00:01<?, ?it/s]\n"
     ]
    }
   ],
   "source": [
    "V = play(policy_REINFORCE, n_epis=1, T=100, show_games=True)"
   ]
  },
  {
   "cell_type": "markdown",
   "id": "b1b18815-99a8-4b9e-99d2-d1cd71f0d889",
   "metadata": {},
   "source": [
    "### 2.2 - Neural Fitted Q"
   ]
  },
  {
   "cell_type": "code",
   "execution_count": 210,
   "id": "951e1e82-930e-44b6-b686-78f00696d834",
   "metadata": {},
   "outputs": [],
   "source": [
    "class NFQ(nn.Module):\n",
    "    def __init__(self, grid_size, n_actions):\n",
    "        super().__init__()\n",
    "        self.fc = nn.Linear(10, n_actions)\n",
    "        self.model = nn.Sequential( nn.Flatten(start_dim=0, end_dim=-1),\n",
    "                                    nn.Linear(grid_size, n_actions)\n",
    "                                  )\n",
    "        \n",
    "    def forward(self, grid):\n",
    "        grid = torch.tensor([grid], dtype=torch.float)\n",
    "        return self.model(grid)\n"
   ]
  },
  {
   "cell_type": "markdown",
   "id": "05721894-f2c1-4060-bfe3-a52fd8dc8de0",
   "metadata": {},
   "source": [
    "### Training"
   ]
  },
  {
   "cell_type": "code",
   "execution_count": 211,
   "id": "54e3427b-05e1-434a-a1e8-a8a23af303bc",
   "metadata": {},
   "outputs": [
    {
     "name": "stderr",
     "output_type": "stream",
     "text": [
      "100%|█████████████████████████████████████████| 500/500 [00:18<00:00, 27.69it/s]\n"
     ]
    },
    {
     "data": {
      "text/plain": [
       "Text(0, 0.5, 'Return')"
      ]
     },
     "execution_count": 211,
     "metadata": {},
     "output_type": "execute_result"
    },
    {
     "data": {
      "image/png": "[encoded data removed]",
      "text/plain": [
       "<Figure size 640x480 with 1 Axes>"
      ]
     },
     "metadata": {},
     "output_type": "display_data"
    }
   ],
   "source": [
    "Qs = [NFQ(np.size(grid), len(ACTIONS)) for i in range(n_agents)]\n",
    "optims = [torch.optim.Adam(Q.parameters(), lr=1e-1) for Q in Qs]\n",
    "losses = torch.nn.HuberLoss()\n",
    "\n",
    "n_steps_per_episodes = 200\n",
    "n_episodes = 500\n",
    "eps = 0.5\n",
    "gamma = 0.99\n",
    "V = []\n",
    "\n",
    "for _ in tqdm(range(n_episodes)):\n",
    "    grid = reset()\n",
    "    epi_reward = 0\n",
    "    \n",
    "    for _ in range(n_steps_per_episodes):\n",
    "        \n",
    "        for i, agent in enumerate(agents):\n",
    "            \n",
    "            optims[i].zero_grad()\n",
    "            \n",
    "            with torch.no_grad():\n",
    "                if np.random.rand() < eps:\n",
    "                    action = np.random.choice(ACTIONS)\n",
    "                    idx = ACTIONS.index(action)\n",
    "                else:\n",
    "                    idx = Qs[i](grid).argmax()\n",
    "                    action = ACTIONS[idx]\n",
    "                    \n",
    "            (next_grid, reward, terminate) = act(action, agent, grid)\n",
    "\n",
    "            curr_value = Qs[i](grid)[idx]\n",
    "            with torch.no_grad():\n",
    "                boot_value = (reward + gamma*Qs[i](next_grid).max())\n",
    "\n",
    "            loss = losses(curr_value, boot_value)\n",
    "            loss.backward()\n",
    "\n",
    "            optims[i].step()\n",
    "\n",
    "            grid = next_grid\n",
    "\n",
    "            epi_reward += reward\n",
    "\n",
    "            if terminate:\n",
    "                break\n",
    "                \n",
    "    V.append(epi_reward)\n",
    "\n",
    "plt.title('Return vs Episodes for REINFORCE')\n",
    "plt.plot(np.convolve(V, np.ones(10)/10, mode='valid'))\n",
    "plt.xlabel('Episodes')\n",
    "plt.ylabel('Return')"
   ]
  },
  {
   "cell_type": "markdown",
   "id": "59968116-3114-457e-9e6a-7ba9c04cca8e",
   "metadata": {},
   "source": [
    "### Test"
   ]
  },
  {
   "cell_type": "code",
   "execution_count": 212,
   "id": "d89e9424-b52e-4f42-908c-dbc7f0a3cae0",
   "metadata": {},
   "outputs": [],
   "source": [
    "def policy_NFQ(grid):\n",
    "    actions = [ACTIONS[Qs[i](grid).argmax()] for i, agent in enumerate(agents)]\n",
    "    print(actions)\n",
    "    return actions"
   ]
  },
  {
   "cell_type": "code",
   "execution_count": 213,
   "id": "b6f68b05-6ec0-43c1-aa43-601a6e3b6364",
   "metadata": {},
   "outputs": [
    {
     "data": {
      "image/png": "[encoded data removed]",
      "text/plain": [
       "<Figure size 500x500 with 1 Axes>"
      ]
     },
     "metadata": {},
     "output_type": "display_data"
    },
    {
     "name": "stderr",
     "output_type": "stream",
     "text": [
      "100%|█████████████████████████████████████████████| 1/1 [00:01<00:00,  1.29s/it]\n"
     ]
    }
   ],
   "source": [
    "V = play(policy_NFQ, n_epis=1, T=30, show_games=True)"
   ]
  },
  {
   "cell_type": "code",
   "execution_count": null,
   "id": "2f729a58-0283-4952-9d4a-585259f91309",
   "metadata": {},
   "outputs": [],
   "source": []
  }
 ],
 "metadata": {
  "kernelspec": {
   "display_name": "study",
   "language": "python",
   "name": "study"
  },
  "language_info": {
   "codemirror_mode": {
    "name": "ipython",
    "version": 3
   },
   "file_extension": ".py",
   "mimetype": "text/x-python",
   "name": "python",
   "nbconvert_exporter": "python",
   "pygments_lexer": "ipython3",
   "version": "3.10.15"
  }
 },
 "nbformat": 4,
 "nbformat_minor": 5
}
