{
 "cells": [
  {
   "cell_type": "markdown",
   "id": "7ada55f0-7707-448f-9795-88208fc0b36d",
   "metadata": {},
   "source": [
    "# Foraging"
   ]
  },
  {
   "cell_type": "code",
   "execution_count": 47,
   "id": "692367c8-9ab1-42bd-b8c5-a225ff615301",
   "metadata": {},
   "outputs": [],
   "source": [
    "import numpy as np\n",
    "import matplotlib.pyplot as plt\n",
    "from IPython.display import clear_output\n",
    "from matplotlib.colors import ListedColormap\n",
    "from tqdm import tqdm\n",
    "import time\n",
    "from torch import nn\n",
    "import torch\n",
    "\n",
    "np.random.seed(42)"
   ]
  },
  {
   "cell_type": "markdown",
   "id": "073fc3c8-d9ce-4dd6-bc90-79d37179bb07",
   "metadata": {},
   "source": [
    "# 1 - Grid"
   ]
  },
  {
   "cell_type": "markdown",
   "id": "a2c6a80a-83eb-46c0-8a49-2477e90094d4",
   "metadata": {},
   "source": [
    "## 1.1 - Grid"
   ]
  },
  {
   "cell_type": "code",
   "execution_count": 72,
   "id": "e75781ee-402e-4586-80d3-569ba8415801",
   "metadata": {},
   "outputs": [
    {
     "name": "stdout",
     "output_type": "stream",
     "text": [
      "[[0 0 0 0 0]\n",
      " [0 0 0 0 0]\n",
      " [0 0 0 0 0]\n",
      " [0 0 0 0 0]\n",
      " [0 0 0 0 0]]\n"
     ]
    }
   ],
   "source": [
    "grid_shape = [5, 5]\n",
    "\n",
    "grid = np.zeros(grid_shape).astype(int)\n",
    "print(grid)"
   ]
  },
  {
   "cell_type": "markdown",
   "id": "6e0c7ed5-8be7-4cfd-8db8-5114dfe29044",
   "metadata": {},
   "source": [
    "## 1.2 - Agents"
   ]
  },
  {
   "cell_type": "code",
   "execution_count": 73,
   "id": "734d43fa-4d9b-4b2c-b6a4-6a8f0c579abf",
   "metadata": {},
   "outputs": [
    {
     "name": "stdout",
     "output_type": "stream",
     "text": [
      "[[ 0  0  0  0 -1]\n",
      " [ 0  0  0  0 -2]\n",
      " [ 0  0  0  0  0]\n",
      " [ 0  0  0  0  0]\n",
      " [ 0  0  0  0  0]]\n"
     ]
    }
   ],
   "source": [
    "n_agents = 2\n",
    "agents = list(range(-n_agents,0))\n",
    "\n",
    "# Getting all empty indexes from the grid: [[0,0], [0,1], ...]\n",
    "empty_indexes = np.stack(np.where(grid == 0)).T\n",
    "\n",
    "# Sampling 1 empty index from empty_indexes \n",
    "random_i = np.random.choice(range(empty_indexes.shape[0]), n_agents)\n",
    "agent_idxs = empty_indexes[random_i,:]\n",
    "\n",
    "# Adding prizes to grid with label 'reward_prize'\n",
    "for i, idx in enumerate(agent_idxs):\n",
    "    grid[idx[0], idx[1]] = agents[i]\n",
    "    \n",
    "print(grid)"
   ]
  },
  {
   "cell_type": "markdown",
   "id": "7275e16b-2571-48c2-aec0-37421f4dcaa0",
   "metadata": {},
   "source": [
    "## 1.3 - Apple"
   ]
  },
  {
   "cell_type": "code",
   "execution_count": 74,
   "id": "44a00e5f-2321-440c-a831-6a40cda07495",
   "metadata": {},
   "outputs": [
    {
     "name": "stdout",
     "output_type": "stream",
     "text": [
      "[[ 0  0  1  0 -1]\n",
      " [ 0  1  1  0 -2]\n",
      " [ 0  1  1  0  0]\n",
      " [ 1  0  0  0  0]\n",
      " [ 1  0  0  0  0]]\n"
     ]
    }
   ],
   "source": [
    "# possible_values = list(range(1,min(8,n_agents+1)))\n",
    "possible_values = [1]\n",
    "n_apples = 10\n",
    "\n",
    "# Symbol for the prize in the grid\n",
    "symbol_apple = 1\n",
    "\n",
    "# Getting all empty indexes from the grid: [[0,0], [0,1], ...]\n",
    "empty_indexes = np.stack(np.where(grid == 0)).T\n",
    "\n",
    "# Sampling 1 empty index from empty_indexes \n",
    "random_i = np.random.choice(range(empty_indexes.shape[0]), n_apples)\n",
    "prize_idxs = empty_indexes[random_i,:]\n",
    "\n",
    "# Sampling foraging value\n",
    "values = np.random.choice(possible_values, n_apples)\n",
    "\n",
    "# Adding prizes to grid with label 'reward_prize'\n",
    "for i, idx in enumerate(prize_idxs):\n",
    "    grid[idx[0], idx[1]] = values[i]\n",
    "    \n",
    "print(grid)"
   ]
  },
  {
   "cell_type": "markdown",
   "id": "6a9bbf69-1ec2-4cfb-a72e-637434282274",
   "metadata": {},
   "source": [
    "## 1.4 - Functions"
   ]
  },
  {
   "cell_type": "markdown",
   "id": "5b77c2e9-9ab1-4b7c-be25-b8aa8170d19a",
   "metadata": {},
   "source": [
    "#### 1.4.1 - Plotting game"
   ]
  },
  {
   "cell_type": "code",
   "execution_count": 75,
   "id": "7db6ca50-0fcb-47dc-a6ce-95e9b4e616d2",
   "metadata": {},
   "outputs": [],
   "source": [
    "# Function that plots the grid\n",
    "def plot_game(grid):\n",
    "\n",
    "    apple_locs = list(set(grid[grid>0]))\n",
    "    agent_locs = list(set(grid[grid<0]))\n",
    "\n",
    "    # Defining colors for each symbol\n",
    "    colors = {0: 'lightgrey'}\n",
    "    colors.update({loc:'red' for loc in apple_locs})\n",
    "    colors.update({loc:'cyan' for loc in agent_locs})\n",
    "\n",
    "    clear_output(wait=True)\n",
    "\n",
    "    # Convert the matrix values to a list of colors\n",
    "    unique_values = list(colors.keys())  # Extract unique values in the correct order\n",
    "    \n",
    "    color_list = [colors[val] for val in unique_values]  # Generate a list of colors in the order of unique values\n",
    "    # Create a ListedColormap using the colors\n",
    "    cmap = ListedColormap(color_list)\n",
    "    \n",
    "    # Create an index map to translate values in the matrix to their corresponding indices in the cmap\n",
    "    index_map = np.vectorize(lambda x: unique_values.index(x))(grid)\n",
    "\n",
    "    fig, ax = plt.subplots(1, figsize=(5,5))\n",
    "    \n",
    "    # Plot the matrix using imshow and the custom colormap\n",
    "    ax.imshow(index_map, cmap=cmap)\n",
    "\n",
    "    for (j,i),label in np.ndenumerate(grid):\n",
    "        if label > 0:\n",
    "            ax.text(i,j,label,ha='center',va='center', fontsize=14)\n",
    "        elif label < 0:\n",
    "            ax.text(i,j,r'$x_{}$'.format(label*-1), ha='center',va='center', fontsize=14)\n",
    "    plt.axis('off')"
   ]
  },
  {
   "cell_type": "code",
   "execution_count": 76,
   "id": "e694beb2-f612-4ef7-bf8d-97083e493ed0",
   "metadata": {},
   "outputs": [
    {
     "data": {
      "image/png": "[encoded data removed]",
      "text/plain": [
       "<Figure size 500x500 with 1 Axes>"
      ]
     },
     "metadata": {},
     "output_type": "display_data"
    }
   ],
   "source": [
    "plot_game(grid)"
   ]
  },
  {
   "cell_type": "code",
   "execution_count": 77,
   "id": "b776ea86-1a17-49f9-bd2a-cd03594e4c8e",
   "metadata": {},
   "outputs": [],
   "source": [
    "grid_init = np.copy(grid)\n",
    "def reset():\n",
    "    return np.copy(grid_init)"
   ]
  },
  {
   "cell_type": "markdown",
   "id": "09d40f18-d5e4-4fcf-9253-86e1c02ecd5d",
   "metadata": {},
   "source": [
    "#### 1.4.2 - Dynamics "
   ]
  },
  {
   "cell_type": "code",
   "execution_count": 78,
   "id": "1a208b4f-65d8-44af-8f9b-8bed161399b6",
   "metadata": {},
   "outputs": [],
   "source": [
    "# Getting the agent's [x,y] coordinates\n",
    "def get_agent_pos(grid, agent):\n",
    "    return np.hstack(np.where(grid == agent))"
   ]
  },
  {
   "cell_type": "code",
   "execution_count": 79,
   "id": "a6a187da-e017-4e0f-bff3-0c9849786b0b",
   "metadata": {},
   "outputs": [],
   "source": [
    "def rand_init(grid):\n",
    "\n",
    "    pos = np.where(grid<0)\n",
    "    for i in range(len(pos[0])):\n",
    "        grid[pos[0][i], pos[1][i]] = 0\n",
    "    \n",
    "    # Getting all empty indexes from the grid: [[0,0], [0,1], ...]\n",
    "    empty_indexes = np.stack(np.where(grid == 0)).T\n",
    "    \n",
    "    # Sampling 1 empty index from empty_indexes \n",
    "    random_i = np.random.choice(range(empty_indexes.shape[0]), n_agents)\n",
    "    agent_idxs = empty_indexes[random_i,:]\n",
    "    \n",
    "    # Adding prizes to grid with label 'reward_prize'\n",
    "    for i, idx in enumerate(agent_idxs):\n",
    "        grid[idx[0], idx[1]] = agents[i]"
   ]
  },
  {
   "cell_type": "code",
   "execution_count": 80,
   "id": "2ed4c300-a669-4513-8d3f-bf658b9f5564",
   "metadata": {},
   "outputs": [
    {
     "data": {
      "text/plain": [
       "['left', 'down', 'right', 'up', 'collect', 'rest']"
      ]
     },
     "execution_count": 80,
     "metadata": {},
     "output_type": "execute_result"
    }
   ],
   "source": [
    "# Allowed movements\n",
    "MOVEMENTS = {\n",
    "    'left': np.array([0,-1]), \n",
    "    'down':np.array([1,0]), \n",
    "    'right':np.array([0,1]), \n",
    "    'up':np.array([-1,0])\n",
    "}\n",
    "\n",
    "ACTIONS = list(MOVEMENTS.keys()) + ['collect', 'rest']\n",
    "ACTIONS"
   ]
  },
  {
   "cell_type": "code",
   "execution_count": 81,
   "id": "e3e64f99-1827-4b9b-b34a-0373a0a9b11d",
   "metadata": {},
   "outputs": [],
   "source": [
    "# Reward for each time step\n",
    "reward_timestep = -0.1"
   ]
  },
  {
   "cell_type": "code",
   "execution_count": 82,
   "id": "6b2907d0-301e-493f-8a99-0793054c5098",
   "metadata": {},
   "outputs": [
    {
     "data": {
      "text/plain": [
       "[[-1, -1], [-1, 0], [-1, 1], [0, -1], [0, 0], [0, 1], [1, -1], [1, 0], [1, 1]]"
      ]
     },
     "execution_count": 82,
     "metadata": {},
     "output_type": "execute_result"
    }
   ],
   "source": [
    "NEIGH = [[i,j] for i in [-1,0,1] for j in [-1,0,1]]\n",
    "NEIGH"
   ]
  },
  {
   "cell_type": "code",
   "execution_count": 83,
   "id": "d08822e1-4c5a-41cb-8cf7-671199d365ab",
   "metadata": {},
   "outputs": [],
   "source": [
    "def act(action, agent, grid):\n",
    "    \n",
    "    # We copy the grid so that our changes dont reflect on the grid\n",
    "    grid = grid.copy()\n",
    "\n",
    "    terminate = False\n",
    "\n",
    "    reward = reward_timestep\n",
    "    \n",
    "    # If the action is not allowed (e.g. 'banana'), we raise an error\n",
    "    if action not in ACTIONS:\n",
    "        raise ValueError(f'Possible actions are: { ACTIONS }')\n",
    "    \n",
    "    # Otherwise, perform movement\n",
    "    elif action in MOVEMENTS.keys():\n",
    "        \n",
    "        # Getting current position of the agent\n",
    "        curr_pos = get_agent_pos(grid, agent)\n",
    "        \n",
    "        # Getting the next position. \n",
    "        # Note that if the action would take the agent outside the grid, the agent stays in place.\n",
    "        next_pos = curr_pos + MOVEMENTS[action]\n",
    "        next_pos[0] = np.clip(next_pos[0], 0, grid_shape[0]-1)\n",
    "        next_pos[1] = np.clip(next_pos[1], 0, grid_shape[1]-1)\n",
    "\n",
    "        if grid[next_pos[0], next_pos[1]] == 0:\n",
    "            grid[curr_pos[0], curr_pos[1]] = 0\n",
    "            grid[next_pos[0], next_pos[1]] = agent   \n",
    "            \n",
    "    elif action == 'rest':\n",
    "        pass\n",
    "        \n",
    "    elif action == 'collect':\n",
    "\n",
    "        # Getting current position of the agent\n",
    "        curr_pos = get_agent_pos(grid, agent)\n",
    "\n",
    "        for value in sorted(possible_values, reverse=True):\n",
    "            \n",
    "            for delta in NEIGH:\n",
    "\n",
    "                # Getting neighbordhoods\n",
    "                x = np.clip(curr_pos[0] + delta[0], 0, grid.shape[0]-1)\n",
    "                y = np.clip(curr_pos[1] + delta[1], 0, grid.shape[1]-1)\n",
    "                \n",
    "                if grid[x, y] == value:\n",
    "                    neigh_agents = []\n",
    "                    \n",
    "                    for delta_app in NEIGH:\n",
    "                        \n",
    "                        # Getting neighbordhoods\n",
    "                        x2 = np.clip(x + delta_app[0], 0, grid.shape[0]-1)\n",
    "                        y2 = np.clip(y + delta_app[1], 0, grid.shape[1]-1)\n",
    "                        \n",
    "                        if grid[x2, y2] < 0:\n",
    "                            neigh_agents.append(grid[x2, y2])\n",
    "                            \n",
    "                    neigh_agents = set(neigh_agents)\n",
    "                    \n",
    "                    if len(neigh_agents) >= value:\n",
    "                        reward += 1\n",
    "                        grid[x,y] = 0\n",
    "                        break\n",
    "    if len(grid[grid>0])==0:\n",
    "        terminate = True\n",
    "    return (grid, reward, terminate)"
   ]
  },
  {
   "cell_type": "code",
   "execution_count": 84,
   "id": "fc95f5f5-e1d7-42b9-b2f6-cd196a424f09",
   "metadata": {},
   "outputs": [],
   "source": [
    "def play(policy, n_epis=10, T=100, show_games=False, plot_value=False, rand_init=False):\n",
    "    \n",
    "    V = {agent:[] for agent in agents}\n",
    "\n",
    "    for _ in tqdm(range(n_epis)):\n",
    "        grid = reset()\n",
    "        V_epi = {agent:0 for agent in agents}\n",
    "        for i in range(T):\n",
    "            actions = policy(grid)\n",
    "            for j, agent in enumerate((agents)):\n",
    "                action = actions[j]\n",
    "                grid,r,terminate = act(action, agent, grid)\n",
    "                V_epi[agent] += r\n",
    "                if show_games:\n",
    "                    time.sleep(0.001)\n",
    "                    plot_game(grid)\n",
    "                    plt.title(' || '.join([f'$x_{-agent}$: {round(V_epi[agent],2)}' for agent in sorted(agents, reverse=True)]))\n",
    "                    plt.show()\n",
    "                    \n",
    "                if terminate:\n",
    "                    return V\n",
    "        for agent in agents:\n",
    "            V[agent].append(V_epi[agent])\n",
    "\n",
    "    if plot_value:\n",
    "        for agent in agents:\n",
    "            plt.plot(V[agent], label=f'$x_{-agent}$')\n",
    "        plt.legend()\n",
    "        plt.show()\n",
    "    return V"
   ]
  },
  {
   "cell_type": "markdown",
   "id": "3fa3a70e-beaf-4cd7-ae88-5a8a495b7d3a",
   "metadata": {},
   "source": [
    "# 2 - Test Policies"
   ]
  },
  {
   "cell_type": "markdown",
   "id": "2ba3b217-efd6-4dde-8d72-cf6621fdf80c",
   "metadata": {},
   "source": [
    "### **Random Policy**"
   ]
  },
  {
   "cell_type": "code",
   "execution_count": 85,
   "id": "70f2bc5f-e022-4b07-874b-dd44e94cee72",
   "metadata": {},
   "outputs": [],
   "source": [
    "def policy_rand(grid):\n",
    "    actions = [np.random.choice(ACTIONS) for _ in agents]\n",
    "    return actions"
   ]
  },
  {
   "cell_type": "code",
   "execution_count": 86,
   "id": "007faf59-2bad-461a-ad97-804c5aacf307",
   "metadata": {},
   "outputs": [
    {
     "data": {
      "image/png": "[encoded data removed]",
      "text/plain": [
       "<Figure size 500x500 with 1 Axes>"
      ]
     },
     "metadata": {},
     "output_type": "display_data"
    },
    {
     "name": "stderr",
     "output_type": "stream",
     "text": [
      "  0%|                                                     | 0/1 [00:03<?, ?it/s]\n"
     ]
    }
   ],
   "source": [
    "V = play(policy_rand, n_epis=1, T=50, show_games=True)"
   ]
  },
  {
   "cell_type": "markdown",
   "id": "629bab10-243e-42c0-908f-b752a3eb9f2d",
   "metadata": {},
   "source": [
    "### **$x_1$ Rests Policy**"
   ]
  },
  {
   "cell_type": "code",
   "execution_count": 63,
   "id": "4eda206c-1fda-4fe7-b3dc-9bbfb6a5ad10",
   "metadata": {},
   "outputs": [],
   "source": [
    "def policy_rest(grid):\n",
    "    actions = []\n",
    "    for agent in agents:\n",
    "        if agent == -1:\n",
    "            actions.append('rest')\n",
    "        else:\n",
    "            actions.append(np.random.choice(ACTIONS))\n",
    "    return actions"
   ]
  },
  {
   "cell_type": "code",
   "execution_count": 64,
   "id": "e793ab6e-1165-4c70-a600-2e7fe16c34ee",
   "metadata": {},
   "outputs": [
    {
     "data": {
      "image/png": "[encoded data removed]",
      "text/plain": [
       "<Figure size 500x500 with 1 Axes>"
      ]
     },
     "metadata": {},
     "output_type": "display_data"
    },
    {
     "name": "stderr",
     "output_type": "stream",
     "text": [
      "100%|█████████████████████████████████████████████| 1/1 [00:03<00:00,  3.97s/it]\n"
     ]
    }
   ],
   "source": [
    "V = play(policy_rest, n_epis=1, T=50, show_games=True)"
   ]
  },
  {
   "cell_type": "markdown",
   "id": "ead2de2f-d82d-4fa4-8a5b-4e925004c84c",
   "metadata": {},
   "source": [
    "### **$x_1$ 1-Step Lookahead**"
   ]
  },
  {
   "cell_type": "code",
   "execution_count": 65,
   "id": "909f790c-d33f-4028-aac0-7a88e89afeb1",
   "metadata": {},
   "outputs": [],
   "source": [
    "def policy_lookahead(grid):\n",
    "    actions = []\n",
    "    for agent in agents:\n",
    "        if agent == -1:\n",
    "            action = np.random.choice(ACTIONS)\n",
    "            curr_pos = get_agent_pos(grid, agent)\n",
    "            for delta in NEIGH:\n",
    "                # Getting neighbordhoods\n",
    "                x = np.clip(curr_pos[0] + delta[0], 0, grid.shape[0]-1)\n",
    "                y = np.clip(curr_pos[1] + delta[1], 0, grid.shape[1]-1)\n",
    "                if grid[x,y] == 1:\n",
    "                    action = 'collect'\n",
    "                    break\n",
    "            actions.append(action)\n",
    "        else:\n",
    "            actions.append(np.random.choice(ACTIONS))\n",
    "    return actions"
   ]
  },
  {
   "cell_type": "code",
   "execution_count": 66,
   "id": "96747d85-368a-44f3-b611-29adb9bf659f",
   "metadata": {},
   "outputs": [
    {
     "data": {
      "image/png": "[encoded data removed]",
      "text/plain": [
       "<Figure size 500x500 with 1 Axes>"
      ]
     },
     "metadata": {},
     "output_type": "display_data"
    },
    {
     "name": "stderr",
     "output_type": "stream",
     "text": [
      "  0%|                                                     | 0/1 [00:11<?, ?it/s]\n"
     ]
    }
   ],
   "source": [
    "V = play(policy_lookahead, n_epis=1, T=200, show_games=True)"
   ]
  },
  {
   "cell_type": "markdown",
   "id": "72b67701-a5ed-4e9e-a386-fb996377345f",
   "metadata": {},
   "source": [
    "# 3 - MARL 1: Independent Learning"
   ]
  },
  {
   "cell_type": "markdown",
   "id": "650a4216-b885-431d-8090-4895403b451b",
   "metadata": {},
   "source": [
    "### 3.1 - REINFORCE"
   ]
  },
  {
   "cell_type": "code",
   "execution_count": 87,
   "id": "2543c257-9866-497d-a2b4-80c6623be97b",
   "metadata": {},
   "outputs": [],
   "source": [
    "class PolNet(nn.Module):\n",
    "    def __init__(self, grid_size, n_actions):\n",
    "        super().__init__()\n",
    "        self.model = nn.Sequential(\n",
    "            nn.Flatten(start_dim=0, end_dim=-1),\n",
    "            nn.Linear(grid_size, n_actions),\n",
    "            nn.Softmax(dim=-1)\n",
    "        )\n",
    "    \n",
    "    def forward(self, grid):\n",
    "        grid = torch.tensor([grid], dtype=torch.float)\n",
    "        return self.model(grid)"
   ]
  },
  {
   "cell_type": "markdown",
   "id": "c20fe668-a023-4ade-bc9e-26824ef5adb2",
   "metadata": {},
   "source": [
    "**Training**"
   ]
  },
  {
   "cell_type": "code",
   "execution_count": 88,
   "id": "6810bfe9-0a9f-428c-a1b1-a3bd74c31c8a",
   "metadata": {},
   "outputs": [],
   "source": [
    "def generate_trajectory(PolNets, n_max=1000):\n",
    "    \n",
    "    grid = reset()\n",
    "    trajectory = [{\"s\":[], \"a\":[], \"probs\": [], \"s'\":[], \"r\":[]} for _ in range(n_agents)] # (state, action, state', reward)\n",
    "    \n",
    "    for _ in range(n_max):\n",
    "        for i, agent in enumerate(agents):\n",
    "                \n",
    "            # Current State\n",
    "            curr_state = grid\n",
    "            \n",
    "            # Sample Action using Policy Network\n",
    "            action_probs = PolNets[i](grid)\n",
    "            action_idx = np.random.choice(range(len(ACTIONS)), p=action_probs.detach().numpy())\n",
    "            action = ACTIONS[action_idx]\n",
    "            \n",
    "            # Transition + Reward\n",
    "            (next_grid, reward, terminate) = act(action, agent, grid)\n",
    "            next_state = next_grid\n",
    "            \n",
    "            # Save\n",
    "            trajectory[i][\"s\"].append(curr_state)\n",
    "            trajectory[i][\"a\"].append(action_idx)\n",
    "            trajectory[i][\"probs\"].append(action_probs)\n",
    "            trajectory[i][\"s'\"].append(next_state)\n",
    "            trajectory[i][\"r\"].append(reward)\n",
    "            \n",
    "            # Update Actual State\n",
    "            grid = next_grid\n",
    "            \n",
    "            if terminate:\n",
    "                return trajectory\n",
    "                \n",
    "    return trajectory"
   ]
  },
  {
   "cell_type": "markdown",
   "id": "7b6e3053-c961-48c1-ac03-930eebfd933e",
   "metadata": {},
   "source": [
    "**Test**"
   ]
  },
  {
   "cell_type": "code",
   "execution_count": 98,
   "id": "9766623f-3069-4b8c-9231-96dbc1871814",
   "metadata": {},
   "outputs": [
    {
     "name": "stderr",
     "output_type": "stream",
     "text": [
      "100%|█████████████████████████████████████████| 200/200 [00:04<00:00, 48.14it/s]\n"
     ]
    },
    {
     "data": {
      "image/png": "[encoded data removed]",
      "text/plain": [
       "<Figure size 640x480 with 1 Axes>"
      ]
     },
     "metadata": {},
     "output_type": "display_data"
    }
   ],
   "source": [
    "n_episodes = 200\n",
    "gamma = 0.99\n",
    "\n",
    "PolNets = [PolNet(np.size(grid), len(ACTIONS)) for i in range(n_agents)]\n",
    "optims = [torch.optim.Adam(PolNet.parameters(), lr=0.01) for PolNet in PolNets]\n",
    "\n",
    "V = [[] for _ in range(n_agents)]\n",
    "\n",
    "for _ in tqdm(range(n_episodes)):\n",
    "\n",
    "    trajectory = generate_trajectory(PolNets)\n",
    "\n",
    "    for i, agent in enumerate(agents):\n",
    "        \n",
    "        Returns = []\n",
    "        for j, s in enumerate(trajectory[i][\"s\"]):\n",
    "            G = 0\n",
    "            for k, r in enumerate(trajectory[i][\"r\"][j:]):\n",
    "                G += (gamma**k)*r\n",
    "            Returns.append(G)\n",
    "            \n",
    "        loss = 0\n",
    "        for j, (s, a_idx, probs, ret) in enumerate(zip(trajectory[i][\"s\"], trajectory[i][\"a\"], trajectory[i][\"probs\"], Returns)):\n",
    "            \n",
    "            dist = torch.distributions.Categorical(probs=probs)    \n",
    "            log_prob = dist.log_prob(torch.tensor(a_idx))\n",
    "            \n",
    "            loss += -log_prob*ret\n",
    "            \n",
    "        optims[i].zero_grad()\n",
    "        loss.backward()\n",
    "        optims[i].step()\n",
    "            \n",
    "        V[i].append(sum(trajectory[i][\"r\"]))\n",
    "\n",
    "for i, agent in enumerate(agents):\n",
    "    plt.title('Return vs Episodes for REINFORCE')\n",
    "    plt.plot(np.convolve(V[i], np.ones(10)/10, mode='valid'), label=f'agent {abs(agent)}')\n",
    "    plt.xlabel('Episodes')\n",
    "    plt.ylabel('Return')\n",
    "    plt.legend()"
   ]
  },
  {
   "cell_type": "code",
   "execution_count": 90,
   "id": "db255116-a632-4d25-a39c-c6173e73e27d",
   "metadata": {},
   "outputs": [],
   "source": [
    "def policy_REINFORCE(grid):\n",
    "    actions = []\n",
    "    for i, agent in enumerate(agents):\n",
    "        action_probs = PolNets[i](grid).detach().numpy()\n",
    "        action_idx = np.random.choice(range(len(ACTIONS)), p=action_probs)\n",
    "        actions.append(ACTIONS[action_idx])\n",
    "    return actions"
   ]
  },
  {
   "cell_type": "code",
   "execution_count": 96,
   "id": "dab7d924-b82a-4351-bf22-23a1636eee19",
   "metadata": {},
   "outputs": [
    {
     "data": {
      "image/png": "[encoded data removed]",
      "text/plain": [
       "<Figure size 500x500 with 1 Axes>"
      ]
     },
     "metadata": {},
     "output_type": "display_data"
    },
    {
     "name": "stderr",
     "output_type": "stream",
     "text": [
      "  0%|                                                     | 0/1 [00:01<?, ?it/s]\n"
     ]
    },
    {
     "data": {
      "text/plain": [
       "{-2: [], -1: []}"
      ]
     },
     "execution_count": 96,
     "metadata": {},
     "output_type": "execute_result"
    }
   ],
   "source": [
    "play(policy_REINFORCE, n_epis=1, T=100, show_games=True)"
   ]
  },
  {
   "cell_type": "code",
   "execution_count": 327,
   "id": "506a9d6e-764d-42f7-b974-50c54bb10b50",
   "metadata": {},
   "outputs": [
    {
     "name": "stderr",
     "output_type": "stream",
     "text": [
      "100%|██████████████████████████████████████| 1000/1000 [00:01<00:00, 639.87it/s]\n"
     ]
    },
    {
     "data": {
      "image/png": "[encoded data removed]",
      "text/plain": [
       "<Figure size 640x480 with 1 Axes>"
      ]
     },
     "metadata": {},
     "output_type": "display_data"
    }
   ],
   "source": [
    "n_episodes = 1000\n",
    "gamma = 0.8\n",
    "\n",
    "for _ in tqdm(range(n_episodes)):\n",
    "\n",
    "    trajectory = generate_trajectory(PolNets)\n",
    "\n",
    "    for agent in [-1]:\n",
    "        i = agents.index(agent)\n",
    "        \n",
    "        Returns = []\n",
    "        for j, s in enumerate(trajectory[i][\"s\"]):\n",
    "            G = 0\n",
    "            for k, r in enumerate(trajectory[i][\"r\"][j:]):\n",
    "                G += (gamma**k)*r\n",
    "            Returns.append(G)\n",
    "            \n",
    "        loss = 0\n",
    "        for j, (s, a_idx, probs, ret) in enumerate(zip(trajectory[i][\"s\"], trajectory[i][\"a\"], trajectory[i][\"probs\"], Returns)):\n",
    "            \n",
    "            dist = torch.distributions.Categorical(probs=probs)    \n",
    "            log_prob = dist.log_prob(torch.tensor(a_idx))\n",
    "            \n",
    "            loss += -log_prob*ret\n",
    "            \n",
    "        optims[i].zero_grad()\n",
    "        loss.backward()\n",
    "        optims[i].step()\n",
    "            \n",
    "        V[i].append(sum(trajectory[i][\"r\"]))\n",
    "\n",
    "for i, agent in enumerate(agents):\n",
    "    plt.title('Return vs Episodes for REINFORCE')\n",
    "    plt.plot(np.convolve(V[i], np.ones(10)/10, mode='valid'), label=agent)\n",
    "    plt.xlabel('Episodes')\n",
    "    plt.ylabel('Return')\n",
    "    plt.legend()"
   ]
  },
  {
   "cell_type": "code",
   "execution_count": 27,
   "id": "22261657-2e6c-45bb-b3c2-15a87b7b04e2",
   "metadata": {},
   "outputs": [
    {
     "data": {
      "image/png": "[encoded data removed]",
      "text/plain": [
       "<Figure size 500x500 with 1 Axes>"
      ]
     },
     "metadata": {},
     "output_type": "display_data"
    },
    {
     "name": "stderr",
     "output_type": "stream",
     "text": [
      "  0%|                                                     | 0/1 [00:02<?, ?it/s]\n"
     ]
    },
    {
     "data": {
      "text/plain": [
       "{-2: [], -1: []}"
      ]
     },
     "execution_count": 27,
     "metadata": {},
     "output_type": "execute_result"
    }
   ],
   "source": [
    "play(policy_REINFORCE, n_epis=1, T=100, show_games=True)"
   ]
  },
  {
   "cell_type": "markdown",
   "id": "6058fb40-08f6-4af5-9d12-23c04ee4d43d",
   "metadata": {},
   "source": [
    "# 3 - MARL 2: Fully Centralized Learning"
   ]
  },
  {
   "cell_type": "code",
   "execution_count": 83,
   "id": "030f999c-8754-4c2e-bb27-508f4c95ffc6",
   "metadata": {},
   "outputs": [],
   "source": [
    "class PolNetJoint(nn.Module):\n",
    "    def __init__(self, grid_size, n_actions, n_agents, n_hidden=200):\n",
    "        super().__init__()\n",
    "        self.n_agents = n_agents\n",
    "        self.model = nn.Sequential(\n",
    "            nn.Flatten(start_dim=0, end_dim=-1),\n",
    "            nn.Linear(grid_size, n_agents*n_actions)\n",
    "        )\n",
    "        self.softmax = nn.Softmax(dim=-1)\n",
    "    \n",
    "    def forward(self, grid):\n",
    "        grid = torch.tensor([grid], dtype=torch.float)        \n",
    "        X = self.model(grid)\n",
    "        softmax = []\n",
    "        for i in range(n_agents):\n",
    "            sft = X[i*len(ACTIONS):(i+1)*len(ACTIONS)]\n",
    "            sft = self.softmax(sft)\n",
    "            softmax.extend([sft])\n",
    "        return torch.cat(softmax)"
   ]
  },
  {
   "cell_type": "code",
   "execution_count": 84,
   "id": "c0ccf37f-65e8-445e-92f0-31e7f3357672",
   "metadata": {},
   "outputs": [],
   "source": [
    "def generate_joint_trajectory(JointPolNet, n_max=1000):\n",
    "    \n",
    "    grid = reset()\n",
    "    trajectory = {\"s\":[], \"a\":[], \"probs\": [], \"s'\":[], \"r\":[]} # (state, action, state', reward)\n",
    "    \n",
    "    for _ in range(n_max):\n",
    "        \n",
    "        # Current State\n",
    "        curr_state = grid\n",
    "            \n",
    "        # Sample Action using Policy Network\n",
    "        action_probs_all_agents = JointPolNet(grid)\n",
    "\n",
    "        # Joint Reward\n",
    "        joint_reward = 0\n",
    "\n",
    "        # Actions\n",
    "        actions_idxs = []\n",
    "        \n",
    "        for i, agent in enumerate(agents):\n",
    "\n",
    "            action_probs = action_probs_all_agents[i*len(ACTIONS):(i+1)*len(ACTIONS)]\n",
    "            \n",
    "            action_idx = np.random.choice(range(len(ACTIONS)), p=action_probs.detach().numpy())\n",
    "            action = ACTIONS[action_idx]\n",
    "            \n",
    "            # Transition + Reward\n",
    "            (next_grid, reward, terminate) = act(action, agent, grid)\n",
    "            next_state = next_grid\n",
    "\n",
    "            joint_reward += reward\n",
    "            actions_idxs.append(action_idx)\n",
    "\n",
    "            # Update Actual State\n",
    "            grid = next_grid\n",
    "            \n",
    "        # Save\n",
    "        trajectory[\"s\"].append(curr_state)\n",
    "        trajectory[\"a\"].append(actions_idxs)\n",
    "        trajectory[\"probs\"].append(action_probs_all_agents)\n",
    "        trajectory[\"s'\"].append(next_state)\n",
    "        trajectory[\"r\"].append(joint_reward)\n",
    "        \n",
    "        if terminate:\n",
    "            return trajectory\n",
    "                \n",
    "    return trajectory"
   ]
  },
  {
   "cell_type": "code",
   "execution_count": 85,
   "id": "b8be801a-697c-4b74-9997-858c5c695b8b",
   "metadata": {},
   "outputs": [],
   "source": [
    "P = PolNetJoint(np.size(grid), len(ACTIONS), n_agents)"
   ]
  },
  {
   "cell_type": "code",
   "execution_count": 86,
   "id": "f4de9e60-9caa-447e-98bd-142b57a53243",
   "metadata": {},
   "outputs": [],
   "source": [
    "JoinPolicy = PolNetJoint(np.size(grid), len(ACTIONS), n_agents)"
   ]
  },
  {
   "cell_type": "code",
   "execution_count": 87,
   "id": "98fd2435-ee67-4d4e-803a-9ce762c9ac0f",
   "metadata": {},
   "outputs": [
    {
     "name": "stderr",
     "output_type": "stream",
     "text": [
      "100%|█████████████████████████████████████████| 100/100 [00:06<00:00, 14.94it/s]\n",
      "/var/folders/45/871v_dk90997hj5g88_1z7tr0000gn/T/ipykernel_15728/3011048811.py:38: UserWarning: No artists with labels found to put in legend.  Note that artists whose label start with an underscore are ignored when legend() is called with no argument.\n",
      "  plt.legend()\n"
     ]
    },
    {
     "data": {
      "text/plain": [
       "<matplotlib.legend.Legend at 0x13743ae90>"
      ]
     },
     "execution_count": 87,
     "metadata": {},
     "output_type": "execute_result"
    },
    {
     "data": {
      "image/png": "[encoded data removed]",
      "text/plain": [
       "<Figure size 640x480 with 1 Axes>"
      ]
     },
     "metadata": {},
     "output_type": "display_data"
    }
   ],
   "source": [
    "n_episodes = 100\n",
    "gamma = 0.99\n",
    "\n",
    "JointPolicy = PolNetJoint(np.size(grid), len(ACTIONS), n_agents)\n",
    "optims = torch.optim.Adam(JointPolicy.parameters(), lr=0.001)\n",
    "\n",
    "V = []\n",
    "\n",
    "for _ in tqdm(range(n_episodes)):\n",
    "\n",
    "    trajectory = generate_joint_trajectory(JoinPolicy)\n",
    "        \n",
    "    Returns = []\n",
    "    for j, s in enumerate(trajectory[\"s\"]):\n",
    "        G = 0\n",
    "        for k, r in enumerate(trajectory[\"r\"][j:]):\n",
    "            G += (gamma**k)*r\n",
    "        Returns.append(G)\n",
    "            \n",
    "    loss = 0\n",
    "    for j in range(len(trajectory[\"s\"])):\n",
    "        probs = trajectory[\"probs\"][j]\n",
    "        log_probs = torch.log(probs[torch.tensor(trajectory[\"a\"][j])])\n",
    "        sum_log_probs = torch.sum(log_probs)\n",
    "        \n",
    "        loss += -sum_log_probs*Returns[j]\n",
    "        \n",
    "    optims.zero_grad()\n",
    "    loss.backward()\n",
    "    optims.step()\n",
    "        \n",
    "    V.append(sum([np.sum(trajectory['r']) for i in agents]))\n",
    "\n",
    "plt.title('Return vs Episodes for REINFORCE')\n",
    "plt.plot(np.convolve(V, np.ones(4)/4, mode='valid'))\n",
    "plt.xlabel('Episodes')\n",
    "plt.ylabel('Return')\n",
    "plt.legend()"
   ]
  },
  {
   "cell_type": "code",
   "execution_count": 59,
   "id": "097d8be5-087a-461e-bab4-48a5089ba05f",
   "metadata": {
    "scrolled": true
   },
   "outputs": [
    {
     "data": {
      "text/plain": [
       "456"
      ]
     },
     "execution_count": 59,
     "metadata": {},
     "output_type": "execute_result"
    }
   ],
   "source": [
    "len(trajectory[i][\"probs\"])"
   ]
  },
  {
   "cell_type": "code",
   "execution_count": 60,
   "id": "ed5dde10-5b4d-4131-b644-b6172c8714dd",
   "metadata": {},
   "outputs": [
    {
     "data": {
      "text/plain": [
       "457"
      ]
     },
     "execution_count": 60,
     "metadata": {},
     "output_type": "execute_result"
    }
   ],
   "source": [
    "len(trajectory[0][\"s\"])"
   ]
  },
  {
   "cell_type": "code",
   "execution_count": null,
   "id": "076db5cd-f45e-48e0-811b-b5904ecd7b5b",
   "metadata": {},
   "outputs": [],
   "source": []
  }
 ],
 "metadata": {
  "kernelspec": {
   "display_name": "study",
   "language": "python",
   "name": "study"
  },
  "language_info": {
   "codemirror_mode": {
    "name": "ipython",
    "version": 3
   },
   "file_extension": ".py",
   "mimetype": "text/x-python",
   "name": "python",
   "nbconvert_exporter": "python",
   "pygments_lexer": "ipython3",
   "version": "3.10.15"
  }
 },
 "nbformat": 4,
 "nbformat_minor": 5
}
