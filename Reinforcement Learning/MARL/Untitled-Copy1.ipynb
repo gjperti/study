{
 "cells": [
  {
   "cell_type": "markdown",
   "id": "7ada55f0-7707-448f-9795-88208fc0b36d",
   "metadata": {},
   "source": [
    "# Foraging"
   ]
  },
  {
   "cell_type": "code",
   "execution_count": 8,
   "id": "692367c8-9ab1-42bd-b8c5-a225ff615301",
   "metadata": {},
   "outputs": [],
   "source": [
    "import numpy as np\n",
    "import matplotlib.pyplot as plt\n",
    "from IPython.display import clear_output\n",
    "from matplotlib.colors import ListedColormap"
   ]
  },
  {
   "cell_type": "markdown",
   "id": "073fc3c8-d9ce-4dd6-bc90-79d37179bb07",
   "metadata": {},
   "source": [
    "# 1. Grid"
   ]
  },
  {
   "cell_type": "code",
   "execution_count": 9,
   "id": "e75781ee-402e-4586-80d3-569ba8415801",
   "metadata": {},
   "outputs": [
    {
     "name": "stdout",
     "output_type": "stream",
     "text": [
      "[[0 0 0 0 0 0 0 0 0 0 0 0 0]\n",
      " [0 0 0 0 0 0 0 0 0 0 0 0 0]\n",
      " [0 0 0 0 0 0 0 0 0 0 0 0 0]\n",
      " [0 0 0 0 0 0 0 0 0 0 0 0 0]\n",
      " [0 0 0 0 0 0 0 0 0 0 0 0 0]\n",
      " [0 0 0 0 0 0 0 0 0 0 0 0 0]\n",
      " [0 0 0 0 0 0 0 0 0 0 0 0 0]\n",
      " [0 0 0 0 0 0 0 0 0 0 0 0 0]\n",
      " [0 0 0 0 0 0 0 0 0 0 0 0 0]\n",
      " [0 0 0 0 0 0 0 0 0 0 0 0 0]\n",
      " [0 0 0 0 0 0 0 0 0 0 0 0 0]\n",
      " [0 0 0 0 0 0 0 0 0 0 0 0 0]\n",
      " [0 0 0 0 0 0 0 0 0 0 0 0 0]]\n"
     ]
    }
   ],
   "source": [
    "grid_shape = [13, 13]\n",
    "\n",
    "grid = np.zeros(grid_shape).astype(int)\n",
    "print(grid)"
   ]
  },
  {
   "cell_type": "markdown",
   "id": "7275e16b-2571-48c2-aec0-37421f4dcaa0",
   "metadata": {},
   "source": [
    "# 2. Apple"
   ]
  },
  {
   "cell_type": "code",
   "execution_count": 10,
   "id": "44a00e5f-2321-440c-a831-6a40cda07495",
   "metadata": {},
   "outputs": [
    {
     "name": "stdout",
     "output_type": "stream",
     "text": [
      "[[2 0 0 0 0 0 0 0 0 0 0 0 0]\n",
      " [0 0 0 0 0 0 0 0 0 0 0 0 0]\n",
      " [0 0 0 0 0 0 0 0 0 0 0 0 0]\n",
      " [0 0 0 0 0 0 0 0 0 0 0 0 0]\n",
      " [0 0 0 0 0 0 0 0 1 0 0 0 0]\n",
      " [0 0 0 0 0 0 0 0 0 0 0 3 0]\n",
      " [0 0 0 0 0 0 0 2 0 0 0 0 0]\n",
      " [0 0 0 0 0 0 0 0 3 0 0 0 0]\n",
      " [0 0 0 3 0 0 0 2 0 0 0 0 0]\n",
      " [0 0 0 0 0 0 0 0 0 0 0 0 0]\n",
      " [0 0 0 0 0 0 0 0 0 0 0 0 0]\n",
      " [0 0 0 0 3 0 0 0 0 0 0 0 0]\n",
      " [0 2 0 0 1 0 0 0 0 0 0 0 0]]\n"
     ]
    }
   ],
   "source": [
    "possible_values = [1,2,3]\n",
    "n_apples = 10\n",
    "\n",
    "# Symbol for the prize in the grid\n",
    "symbol_apple = 1\n",
    "\n",
    "# Getting all empty indexes from the grid: [[0,0], [0,1], ...]\n",
    "empty_indexes = np.stack(np.where(grid == 0)).T\n",
    "\n",
    "# Sampling 1 empty index from empty_indexes \n",
    "random_i = np.random.choice(range(empty_indexes.shape[0]), n_apples)\n",
    "prize_idxs = empty_indexes[random_i,:]\n",
    "\n",
    "# Sampling foraging value\n",
    "values = np.random.choice(possible_values, n_apples)\n",
    "\n",
    "# Adding prizes to grid with label 'reward_prize'\n",
    "for i, prize_idx in enumerate(prize_idxs):\n",
    "    grid[*prize_idx] = values[i]\n",
    "    \n",
    "print(grid)"
   ]
  },
  {
   "cell_type": "markdown",
   "id": "ed95947c-d582-477a-ba06-b99073380960",
   "metadata": {},
   "source": [
    "# 3. Agent"
   ]
  },
  {
   "cell_type": "code",
   "execution_count": 11,
   "id": "0c00c98d-b0b6-420a-b0bf-0941abd61acd",
   "metadata": {},
   "outputs": [
    {
     "name": "stdout",
     "output_type": "stream",
     "text": [
      "[[ 2 -2  0  0  0  0  0  0  0  0  0  0  0]\n",
      " [ 0  0  0  0  0 -3 -4  0  0  0  0  0  0]\n",
      " [ 0  0  0  0  0  0  0  0  0  0  0  0  0]\n",
      " [ 0  0  0  0  0  0  0  0  0  0  0  0  0]\n",
      " [ 0  0  0  0  0  0  0  0  1  0  0  0  0]\n",
      " [ 0  0  0  0  0  0  0  0  0  0  0  3  0]\n",
      " [ 0  0  0  0  0  0  0  2  0  0  0  0  0]\n",
      " [ 0  0  0  0 -1  0  0  0  3  0  0  0  0]\n",
      " [ 0  0  0  3  0  0  0  2  0  0  0  0  0]\n",
      " [-5  0  0  0  0  0  0  0  0  0  0  0  0]\n",
      " [ 0  0  0  0  0  0  0  0  0  0  0  0  0]\n",
      " [ 0  0  0  0  3  0  0  0  0  0  0  0  0]\n",
      " [ 0  2  0  0  1  0  0  0  0  0  0  0  0]]\n"
     ]
    }
   ],
   "source": [
    "n_agents = 5\n",
    "symbol_agents = range(-n_agents,0)\n",
    "\n",
    "# Getting all empty indexes from the grid: [[0,0], [0,1], ...]\n",
    "empty_indexes = np.stack(np.where(grid == 0)).T\n",
    "\n",
    "# Sampling 1 empty index from empty_indexes \n",
    "random_i = np.random.choice(range(empty_indexes.shape[0]), n_agents)\n",
    "agent_idxs = empty_indexes[random_i,:]\n",
    "\n",
    "# Adding prizes to grid with label 'reward_prize'\n",
    "for i, agent_idx in enumerate(agent_idxs):\n",
    "    grid[*agent_idx] = symbol_agents[i]\n",
    "    \n",
    "print(grid)"
   ]
  },
  {
   "cell_type": "code",
   "execution_count": 12,
   "id": "7db6ca50-0fcb-47dc-a6ce-95e9b4e616d2",
   "metadata": {},
   "outputs": [],
   "source": [
    "# Function that plots the grid\n",
    "def plot_game(grid):\n",
    "\n",
    "    apple_locs = list(set(grid[grid>0]))\n",
    "    agent_locs = list(set(grid[grid<0]))\n",
    "\n",
    "    # Defining colors for each symbol\n",
    "    colors = {0: 'lightgrey'}\n",
    "    colors.update({loc:'red' for loc in apple_locs})\n",
    "    colors.update({loc:'cyan' for loc in agent_locs})\n",
    "\n",
    "    clear_output(wait=True)\n",
    "\n",
    "    # Convert the matrix values to a list of colors\n",
    "    unique_values = list(colors.keys())  # Extract unique values in the correct order\n",
    "    \n",
    "    color_list = [colors[val] for val in unique_values]  # Generate a list of colors in the order of unique values\n",
    "    # Create a ListedColormap using the colors\n",
    "    cmap = ListedColormap(color_list)\n",
    "    \n",
    "    # Create an index map to translate values in the matrix to their corresponding indices in the cmap\n",
    "    index_map = np.vectorize(lambda x: unique_values.index(x))(grid)\n",
    "\n",
    "    fig, ax = plt.subplots(1, figsize=(5,5))\n",
    "    \n",
    "    # Plot the matrix using imshow and the custom colormap\n",
    "    ax.imshow(index_map, cmap=cmap)\n",
    "\n",
    "    for (j,i),label in np.ndenumerate(grid):\n",
    "        if label > 0:\n",
    "            ax.text(i,j,label,ha='center',va='center', fontsize=14)\n",
    "        elif label < 0:\n",
    "            ax.text(i,j,r'$x_{}$'.format(label*-1), ha='center',va='center', fontsize=14)\n",
    "    plt.axis('off')"
   ]
  },
  {
   "cell_type": "code",
   "execution_count": 13,
   "id": "e694beb2-f612-4ef7-bf8d-97083e493ed0",
   "metadata": {},
   "outputs": [
    {
     "data": {
      "image/png": "[encoded data removed]",
      "text/plain": [
       "<Figure size 500x500 with 1 Axes>"
      ]
     },
     "metadata": {},
     "output_type": "display_data"
    }
   ],
   "source": [
    "plot_game(grid)"
   ]
  },
  {
   "cell_type": "raw",
   "id": "5adf529e-cf77-4299-b432-95e3bf3f5c09",
   "metadata": {},
   "source": [
    "# Getting the agent's [x,y] coordinates\n",
    "def get_agent_pos(grid, agent):\n",
    "    return np.hstack(np.where(grid == -agent))"
   ]
  },
  {
   "cell_type": "code",
   "execution_count": 7,
   "id": "2ed4c300-a669-4513-8d3f-bf658b9f5564",
   "metadata": {},
   "outputs": [
    {
     "data": {
      "text/plain": [
       "['left', 'down', 'right', 'up', 'collect', 'iop']"
      ]
     },
     "execution_count": 7,
     "metadata": {},
     "output_type": "execute_result"
    }
   ],
   "source": [
    "# Allowed movements\n",
    "MOVEMENTS = {\n",
    "    'left': np.array([0,-1]), \n",
    "    'down':np.array([1,0]), \n",
    "    'right':np.array([0,1]), \n",
    "    'up':np.array([-1,0])\n",
    "}\n",
    "\n",
    "ACTIONS = list(MOVEMENTS.keys()) + ['collect', 'iop']\n",
    "ACTIONS"
   ]
  },
  {
   "cell_type": "code",
   "execution_count": 130,
   "id": "e3e64f99-1827-4b9b-b34a-0373a0a9b11d",
   "metadata": {},
   "outputs": [],
   "source": [
    "# Reward for each time step\n",
    "reward_timestep = -1"
   ]
  },
  {
   "cell_type": "code",
   "execution_count": null,
   "id": "d08822e1-4c5a-41cb-8cf7-671199d365ab",
   "metadata": {},
   "outputs": [],
   "source": [
    "def move(action, agent, grid):\n",
    "    \n",
    "    # We copy the grid so that our changes dont reflect on the grid\n",
    "    grid = grid.copy()\n",
    "\n",
    "    terminate = False\n",
    "\n",
    "    reward = reward_timestep\n",
    "    \n",
    "    # If the action is not allowed (e.g. 'banana'), we raise an error\n",
    "    if action not in MOVEMENTS.keys():\n",
    "        raise ValueError(f'Possible movements are: { list(MOVEMENTS.keys()) }')\n",
    "    \n",
    "    # Otherwise, perform movement\n",
    "    else:\n",
    "        \n",
    "        # Getting current position of the agent\n",
    "        curr_pos = get_agent_pos(grid, agent)\n",
    "        \n",
    "        # Getting the next position. \n",
    "        # Note that if the action would take the agent outside the grid, the agent stays in place.\n",
    "        next_pos = curr_pos + MOVEMENTS[action]\n",
    "        next_pos[0] = np.clip(next_pos[0], 0, grid_shape[0]-1)\n",
    "        next_pos[1] = np.clip(next_pos[1], 0, grid_shape[1]-1)\n",
    "        \n",
    "        # We remove the agent from its current position\n",
    "        grid[*curr_pos] = 0\n",
    "        \n",
    "        # If the next position is a prize...\n",
    "        if grid[*next_pos] == symbol_prize:\n",
    "            \n",
    "            # Get prize reward\n",
    "            reward = reward_prize\n",
    "\n",
    "            terminate = True\n",
    "        \n",
    "        # Place the agent in the next position\n",
    "        grid[*next_pos] = symbol_agent\n",
    "        \n",
    "        return (grid, reward, terminate)"
   ]
  },
  {
   "cell_type": "code",
   "execution_count": null,
   "id": "94fc989e-44f7-4634-9fa4-422dccc997b1",
   "metadata": {},
   "outputs": [],
   "source": [
    "def play(grid, policies):\n",
    "    "
   ]
  }
 ],
 "metadata": {
  "kernelspec": {
   "display_name": "ass3",
   "language": "python",
   "name": "ass3"
  },
  "language_info": {
   "codemirror_mode": {
    "name": "ipython",
    "version": 3
   },
   "file_extension": ".py",
   "mimetype": "text/x-python",
   "name": "python",
   "nbconvert_exporter": "python",
   "pygments_lexer": "ipython3",
   "version": "3.12.5"
  }
 },
 "nbformat": 4,
 "nbformat_minor": 5
}
