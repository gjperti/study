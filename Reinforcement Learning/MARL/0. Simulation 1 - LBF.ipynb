{
 "cells": [
  {
   "cell_type": "markdown",
   "id": "7ada55f0-7707-448f-9795-88208fc0b36d",
   "metadata": {},
   "source": [
    "# Foraging"
   ]
  },
  {
   "cell_type": "code",
   "execution_count": 37,
   "id": "692367c8-9ab1-42bd-b8c5-a225ff615301",
   "metadata": {},
   "outputs": [],
   "source": [
    "import numpy as np\n",
    "import matplotlib.pyplot as plt\n",
    "from IPython.display import clear_output\n",
    "from matplotlib.colors import ListedColormap\n",
    "from tqdm import tqdm\n",
    "import time\n",
    "from torch import nn\n",
    "import torch\n",
    "\n",
    "np.random.seed(42)"
   ]
  },
  {
   "cell_type": "markdown",
   "id": "073fc3c8-d9ce-4dd6-bc90-79d37179bb07",
   "metadata": {},
   "source": [
    "# 1 - Grid"
   ]
  },
  {
   "cell_type": "markdown",
   "id": "a2c6a80a-83eb-46c0-8a49-2477e90094d4",
   "metadata": {},
   "source": [
    "## 1.1 - Grid"
   ]
  },
  {
   "cell_type": "code",
   "execution_count": 38,
   "id": "e75781ee-402e-4586-80d3-569ba8415801",
   "metadata": {},
   "outputs": [
    {
     "name": "stdout",
     "output_type": "stream",
     "text": [
      "[[0 0 0 0 0 0 0]\n",
      " [0 0 0 0 0 0 0]\n",
      " [0 0 0 0 0 0 0]\n",
      " [0 0 0 0 0 0 0]\n",
      " [0 0 0 0 0 0 0]\n",
      " [0 0 0 0 0 0 0]\n",
      " [0 0 0 0 0 0 0]]\n"
     ]
    }
   ],
   "source": [
    "grid_shape = [7, 7]\n",
    "\n",
    "grid = np.zeros(grid_shape).astype(int)\n",
    "print(grid)"
   ]
  },
  {
   "cell_type": "markdown",
   "id": "6e0c7ed5-8be7-4cfd-8db8-5114dfe29044",
   "metadata": {},
   "source": [
    "## 1.2 - Agents"
   ]
  },
  {
   "cell_type": "code",
   "execution_count": 39,
   "id": "734d43fa-4d9b-4b2c-b6a4-6a8f0c579abf",
   "metadata": {},
   "outputs": [
    {
     "name": "stdout",
     "output_type": "stream",
     "text": [
      "[[ 0  0  0  0  0  0  0]\n",
      " [ 0  0  0  0  0  0  0]\n",
      " [-1  0  0  0  0  0  0]\n",
      " [ 0  0  0  0  0  0  0]\n",
      " [-2  0  0  0  0  0  0]\n",
      " [ 0  0  0 -3  0  0  0]\n",
      " [ 0  0  0  0  0  0  0]]\n"
     ]
    }
   ],
   "source": [
    "n_agents = 3\n",
    "agents = list(range(-n_agents,0))\n",
    "\n",
    "# Getting all empty indexes from the grid: [[0,0], [0,1], ...]\n",
    "empty_indexes = np.stack(np.where(grid == 0)).T\n",
    "\n",
    "# Sampling 1 empty index from empty_indexes \n",
    "random_i = np.random.choice(range(empty_indexes.shape[0]), n_agents)\n",
    "agent_idxs = empty_indexes[random_i,:]\n",
    "\n",
    "# Adding prizes to grid with label 'reward_prize'\n",
    "for i, idx in enumerate(agent_idxs):\n",
    "    grid[idx[0], idx[1]] = agents[i]\n",
    "    \n",
    "print(grid)"
   ]
  },
  {
   "cell_type": "markdown",
   "id": "7275e16b-2571-48c2-aec0-37421f4dcaa0",
   "metadata": {},
   "source": [
    "## 1.3 - Apples"
   ]
  },
  {
   "cell_type": "code",
   "execution_count": 40,
   "id": "44a00e5f-2321-440c-a831-6a40cda07495",
   "metadata": {},
   "outputs": [
    {
     "name": "stdout",
     "output_type": "stream",
     "text": [
      "[[ 0  0  0  0  0  0  0]\n",
      " [ 2  0  0  1  0  0  0]\n",
      " [-1  0  0  0  0  2  0]\n",
      " [ 1  0  2  1  0  0  0]\n",
      " [-2  0  0  0  0  0  0]\n",
      " [ 0  0  2 -3  0  0  2]\n",
      " [ 0  0  0  3  0  0  0]]\n"
     ]
    }
   ],
   "source": [
    "possible_values = list(range(1,n_agents+1))\n",
    "# possible_values = [1]\n",
    "n_apples = 10\n",
    "\n",
    "# Symbol for the prize in the grid\n",
    "symbol_apple = 1\n",
    "\n",
    "# Getting all empty indexes from the grid: [[0,0], [0,1], ...]\n",
    "empty_indexes = np.stack(np.where(grid == 0)).T\n",
    "\n",
    "# Sampling 1 empty index from empty_indexes \n",
    "random_i = np.random.choice(range(empty_indexes.shape[0]), n_apples)\n",
    "prize_idxs = empty_indexes[random_i,:]\n",
    "\n",
    "# Sampling foraging value\n",
    "values = np.random.choice(possible_values, n_apples)\n",
    "\n",
    "# Adding prizes to grid with label 'reward_prize'\n",
    "for i, idx in enumerate(prize_idxs):\n",
    "    grid[idx[0], idx[1]] = values[i]\n",
    "    \n",
    "print(grid)"
   ]
  },
  {
   "cell_type": "markdown",
   "id": "6a9bbf69-1ec2-4cfb-a72e-637434282274",
   "metadata": {},
   "source": [
    "## 1.4 - Functions"
   ]
  },
  {
   "cell_type": "markdown",
   "id": "5b77c2e9-9ab1-4b7c-be25-b8aa8170d19a",
   "metadata": {},
   "source": [
    "#### 1.4.1 - Plotting game"
   ]
  },
  {
   "cell_type": "code",
   "execution_count": 41,
   "id": "7db6ca50-0fcb-47dc-a6ce-95e9b4e616d2",
   "metadata": {},
   "outputs": [],
   "source": [
    "# Function that plots the grid\n",
    "def plot_game(grid):\n",
    "\n",
    "    apple_locs = list(set(grid[grid>0]))\n",
    "    agent_locs = list(set(grid[grid<0]))\n",
    "\n",
    "    # Defining colors for each symbol\n",
    "    colors = {0: 'lightgrey'}\n",
    "    colors.update({loc:'red' for loc in apple_locs})\n",
    "    colors.update({loc:'cyan' for loc in agent_locs})\n",
    "\n",
    "    clear_output(wait=True)\n",
    "\n",
    "    # Convert the matrix values to a list of colors\n",
    "    unique_values = list(colors.keys())  # Extract unique values in the correct order\n",
    "    \n",
    "    color_list = [colors[val] for val in unique_values]  # Generate a list of colors in the order of unique values\n",
    "    # Create a ListedColormap using the colors\n",
    "    cmap = ListedColormap(color_list)\n",
    "    \n",
    "    # Create an index map to translate values in the matrix to their corresponding indices in the cmap\n",
    "    index_map = np.vectorize(lambda x: unique_values.index(x))(grid)\n",
    "\n",
    "    fig, ax = plt.subplots(1, figsize=(5,5))\n",
    "    \n",
    "    # Plot the matrix using imshow and the custom colormap\n",
    "    ax.imshow(index_map, cmap=cmap)\n",
    "\n",
    "    for (j,i),label in np.ndenumerate(grid):\n",
    "        if label > 0:\n",
    "            ax.text(i,j,label,ha='center',va='center', fontsize=14)\n",
    "        elif label < 0:\n",
    "            ax.text(i,j,r'$x_{}$'.format(label*-1), ha='center',va='center', fontsize=14)\n",
    "    plt.axis('off')"
   ]
  },
  {
   "cell_type": "code",
   "execution_count": 42,
   "id": "e694beb2-f612-4ef7-bf8d-97083e493ed0",
   "metadata": {},
   "outputs": [
    {
     "data": {
      "image/png": "[encoded data removed]",
      "text/plain": [
       "<Figure size 500x500 with 1 Axes>"
      ]
     },
     "metadata": {},
     "output_type": "display_data"
    }
   ],
   "source": [
    "plot_game(grid)"
   ]
  },
  {
   "cell_type": "code",
   "execution_count": 43,
   "id": "b776ea86-1a17-49f9-bd2a-cd03594e4c8e",
   "metadata": {},
   "outputs": [],
   "source": [
    "grid_init = np.copy(grid)\n",
    "def reset():\n",
    "    return np.copy(grid_init)"
   ]
  },
  {
   "cell_type": "markdown",
   "id": "09d40f18-d5e4-4fcf-9253-86e1c02ecd5d",
   "metadata": {},
   "source": [
    "#### 1.4.2 - Dynamics "
   ]
  },
  {
   "cell_type": "code",
   "execution_count": 44,
   "id": "1a208b4f-65d8-44af-8f9b-8bed161399b6",
   "metadata": {},
   "outputs": [],
   "source": [
    "# Getting the agent's [x,y] coordinates\n",
    "def get_agent_pos(grid, agent):\n",
    "    return np.hstack(np.where(grid == agent))"
   ]
  },
  {
   "cell_type": "code",
   "execution_count": 45,
   "id": "a6a187da-e017-4e0f-bff3-0c9849786b0b",
   "metadata": {},
   "outputs": [],
   "source": [
    "def rand_init(grid):\n",
    "\n",
    "    pos = np.where(grid<0)\n",
    "    for i in range(len(pos[0])):\n",
    "        grid[pos[0][i], pos[1][i]] = 0\n",
    "    \n",
    "    # Getting all empty indexes from the grid: [[0,0], [0,1], ...]\n",
    "    empty_indexes = np.stack(np.where(grid == 0)).T\n",
    "    \n",
    "    # Sampling 1 empty index from empty_indexes \n",
    "    random_i = np.random.choice(range(empty_indexes.shape[0]), n_agents)\n",
    "    agent_idxs = empty_indexes[random_i,:]\n",
    "    \n",
    "    # Adding prizes to grid with label 'reward_prize'\n",
    "    for i, idx in enumerate(agent_idxs):\n",
    "        grid[idx[0], idx[1]] = agents[i]"
   ]
  },
  {
   "cell_type": "code",
   "execution_count": 46,
   "id": "2ed4c300-a669-4513-8d3f-bf658b9f5564",
   "metadata": {},
   "outputs": [
    {
     "data": {
      "text/plain": [
       "['left', 'down', 'right', 'up', 'collect', 'rest']"
      ]
     },
     "execution_count": 46,
     "metadata": {},
     "output_type": "execute_result"
    }
   ],
   "source": [
    "# Allowed movements\n",
    "MOVEMENTS = {\n",
    "    'left': np.array([0,-1]), \n",
    "    'down':np.array([1,0]), \n",
    "    'right':np.array([0,1]), \n",
    "    'up':np.array([-1,0])\n",
    "}\n",
    "\n",
    "ACTIONS = list(MOVEMENTS.keys()) + ['collect', 'rest']\n",
    "ACTIONS"
   ]
  },
  {
   "cell_type": "code",
   "execution_count": 47,
   "id": "e3e64f99-1827-4b9b-b34a-0373a0a9b11d",
   "metadata": {},
   "outputs": [],
   "source": [
    "# Reward for each time step\n",
    "reward_timestep = -0.1"
   ]
  },
  {
   "cell_type": "code",
   "execution_count": 48,
   "id": "6b2907d0-301e-493f-8a99-0793054c5098",
   "metadata": {},
   "outputs": [
    {
     "data": {
      "text/plain": [
       "[[-1, -1], [-1, 0], [-1, 1], [0, -1], [0, 0], [0, 1], [1, -1], [1, 0], [1, 1]]"
      ]
     },
     "execution_count": 48,
     "metadata": {},
     "output_type": "execute_result"
    }
   ],
   "source": [
    "NEIGH = [[i,j] for i in [-1,0,1] for j in [-1,0,1]]\n",
    "NEIGH"
   ]
  },
  {
   "cell_type": "code",
   "execution_count": 49,
   "id": "d08822e1-4c5a-41cb-8cf7-671199d365ab",
   "metadata": {},
   "outputs": [],
   "source": [
    "def act(action, agent, grid):\n",
    "    \n",
    "    # We copy the grid so that our changes dont reflect on the grid\n",
    "    grid = grid.copy()\n",
    "\n",
    "    terminate = False\n",
    "\n",
    "    reward = reward_timestep\n",
    "    \n",
    "    # If the action is not allowed (e.g. 'banana'), we raise an error\n",
    "    if action not in ACTIONS:\n",
    "        raise ValueError(f'Possible actions are: { ACTIONS }')\n",
    "    \n",
    "    # Otherwise, perform movement\n",
    "    elif action in MOVEMENTS.keys():\n",
    "        \n",
    "        # Getting current position of the agent\n",
    "        curr_pos = get_agent_pos(grid, agent)\n",
    "        \n",
    "        # Getting the next position. \n",
    "        # Note that if the action would take the agent outside the grid, the agent stays in place.\n",
    "        next_pos = curr_pos + MOVEMENTS[action]\n",
    "        next_pos[0] = np.clip(next_pos[0], 0, grid_shape[0]-1)\n",
    "        next_pos[1] = np.clip(next_pos[1], 0, grid_shape[1]-1)\n",
    "\n",
    "        if grid[next_pos[0], next_pos[1]] == 0:\n",
    "            grid[curr_pos[0], curr_pos[1]] = 0\n",
    "            grid[next_pos[0], next_pos[1]] = agent   \n",
    "            \n",
    "    elif action == 'rest':\n",
    "        pass\n",
    "        \n",
    "    elif action == 'collect':\n",
    "\n",
    "        # Getting current position of the agent\n",
    "        curr_pos = get_agent_pos(grid, agent)\n",
    "\n",
    "        for value in sorted(possible_values, reverse=True):\n",
    "            \n",
    "            for delta in NEIGH:\n",
    "\n",
    "                # Getting neighbordhoods\n",
    "                x = np.clip(curr_pos[0] + delta[0], 0, grid.shape[0]-1)\n",
    "                y = np.clip(curr_pos[1] + delta[1], 0, grid.shape[1]-1)\n",
    "                \n",
    "                if grid[x, y] == value:\n",
    "                    neigh_agents = []\n",
    "                    \n",
    "                    for delta_app in NEIGH:\n",
    "                        \n",
    "                        # Getting neighbordhoods\n",
    "                        x2 = np.clip(x + delta_app[0], 0, grid.shape[0]-1)\n",
    "                        y2 = np.clip(y + delta_app[1], 0, grid.shape[1]-1)\n",
    "                        \n",
    "                        if grid[x2, y2] < 0:\n",
    "                            neigh_agents.append(grid[x2, y2])\n",
    "                            \n",
    "                    neigh_agents = set(neigh_agents)\n",
    "                    \n",
    "                    if len(neigh_agents) >= value:\n",
    "                        reward += 1\n",
    "                        grid[x,y] = 0\n",
    "                        break\n",
    "    if len(grid[grid>0])==0:\n",
    "        terminate = True\n",
    "    return (grid, reward, terminate)"
   ]
  },
  {
   "cell_type": "code",
   "execution_count": 50,
   "id": "fc95f5f5-e1d7-42b9-b2f6-cd196a424f09",
   "metadata": {},
   "outputs": [],
   "source": [
    "def play(policy, n_epis=10, T=100, show_games=False, plot_value=False, rand_init=False):\n",
    "    \n",
    "    V = {agent:[] for agent in agents}\n",
    "\n",
    "    for _ in tqdm(range(n_epis)):\n",
    "        grid = reset()\n",
    "        V_epi = {agent:0 for agent in agents}\n",
    "        for i in range(T):\n",
    "            actions = policy(grid)\n",
    "            for j, agent in enumerate((agents)):\n",
    "                action = actions[j]\n",
    "                grid,r,terminate = act(action, agent, grid)\n",
    "                V_epi[agent] += r\n",
    "                if show_games:\n",
    "                    time.sleep(0.001)\n",
    "                    plot_game(grid)\n",
    "                    plt.title(' || '.join([f'$x_{-agent}$: {round(V_epi[agent],2)}' for agent in sorted(agents, reverse=True)]))\n",
    "                    plt.show()\n",
    "                    \n",
    "                if terminate:\n",
    "                    return V\n",
    "        for agent in agents:\n",
    "            V[agent].append(V_epi[agent])\n",
    "\n",
    "    if plot_value:\n",
    "        for agent in agents:\n",
    "            plt.plot(V[agent], label=f'$x_{-agent}$')\n",
    "        plt.legend()\n",
    "        plt.show()\n",
    "    return V"
   ]
  },
  {
   "cell_type": "markdown",
   "id": "3fa3a70e-beaf-4cd7-ae88-5a8a495b7d3a",
   "metadata": {},
   "source": [
    "# 2 - Test Policies"
   ]
  },
  {
   "cell_type": "markdown",
   "id": "2ba3b217-efd6-4dde-8d72-cf6621fdf80c",
   "metadata": {},
   "source": [
    "### **Random Policy**"
   ]
  },
  {
   "cell_type": "code",
   "execution_count": 51,
   "id": "70f2bc5f-e022-4b07-874b-dd44e94cee72",
   "metadata": {},
   "outputs": [],
   "source": [
    "def policy_rand(grid):\n",
    "    actions = [np.random.choice(ACTIONS) for _ in agents]\n",
    "    return actions"
   ]
  },
  {
   "cell_type": "code",
   "execution_count": 52,
   "id": "007faf59-2bad-461a-ad97-804c5aacf307",
   "metadata": {},
   "outputs": [
    {
     "data": {
      "image/png": "[encoded data removed]",
      "text/plain": [
       "<Figure size 500x500 with 1 Axes>"
      ]
     },
     "metadata": {},
     "output_type": "display_data"
    },
    {
     "name": "stderr",
     "output_type": "stream",
     "text": [
      "100%|█████████████████████████████████████████████| 1/1 [00:06<00:00,  6.21s/it]\n"
     ]
    }
   ],
   "source": [
    "V = play(policy_rand, n_epis=1, T=50, show_games=True)"
   ]
  },
  {
   "cell_type": "markdown",
   "id": "e477ee67-4772-4e22-99dc-2de8ddce0daa",
   "metadata": {},
   "source": [
    "### **$x_1$ Rests**"
   ]
  },
  {
   "cell_type": "code",
   "execution_count": 53,
   "id": "5001db65-b49a-4625-a821-bbd788af705e",
   "metadata": {},
   "outputs": [],
   "source": [
    "def policy_rest(grid):\n",
    "    actions = []\n",
    "    for agent in agents:\n",
    "        if agent == -1:\n",
    "            actions.append('rest')\n",
    "        else:\n",
    "            actions.append(np.random.choice(ACTIONS))\n",
    "    return actions"
   ]
  },
  {
   "cell_type": "code",
   "execution_count": 54,
   "id": "7aee81d1-9111-489b-8279-fe822778c69e",
   "metadata": {},
   "outputs": [
    {
     "data": {
      "image/png": "[encoded data removed]",
      "text/plain": [
       "<Figure size 500x500 with 1 Axes>"
      ]
     },
     "metadata": {},
     "output_type": "display_data"
    },
    {
     "name": "stderr",
     "output_type": "stream",
     "text": [
      "100%|█████████████████████████████████████████████| 1/1 [00:06<00:00,  6.42s/it]\n"
     ]
    }
   ],
   "source": [
    "V = play(policy_rest, n_epis=1, T=50, show_games=True)"
   ]
  },
  {
   "cell_type": "markdown",
   "id": "ead2de2f-d82d-4fa4-8a5b-4e925004c84c",
   "metadata": {},
   "source": [
    "### **$x_1$ 1-Step Lookahead**"
   ]
  },
  {
   "cell_type": "code",
   "execution_count": 55,
   "id": "909f790c-d33f-4028-aac0-7a88e89afeb1",
   "metadata": {},
   "outputs": [],
   "source": [
    "def policy_lookahead(grid):\n",
    "    actions = []\n",
    "    for agent in agents:\n",
    "        if agent == -1:\n",
    "            action = np.random.choice(ACTIONS)\n",
    "            curr_pos = get_agent_pos(grid, agent)\n",
    "            for delta in NEIGH:\n",
    "                # Getting neighbordhoods\n",
    "                x = np.clip(curr_pos[0] + delta[0], 0, grid.shape[0]-1)\n",
    "                y = np.clip(curr_pos[1] + delta[1], 0, grid.shape[1]-1)\n",
    "                if grid[x,y] == 1:\n",
    "                    action = 'collect'\n",
    "                    break\n",
    "            actions.append(action)\n",
    "        else:\n",
    "            actions.append(np.random.choice(ACTIONS))\n",
    "    return actions"
   ]
  },
  {
   "cell_type": "code",
   "execution_count": 56,
   "id": "96747d85-368a-44f3-b611-29adb9bf659f",
   "metadata": {},
   "outputs": [
    {
     "data": {
      "image/png": "[encoded data removed]",
      "text/plain": [
       "<Figure size 500x500 with 1 Axes>"
      ]
     },
     "metadata": {},
     "output_type": "display_data"
    },
    {
     "name": "stderr",
     "output_type": "stream",
     "text": [
      "100%|█████████████████████████████████████████████| 1/1 [00:06<00:00,  6.20s/it]\n"
     ]
    }
   ],
   "source": [
    "V = play(policy_lookahead, n_epis=1, T=50, show_games=True)"
   ]
  },
  {
   "cell_type": "code",
   "execution_count": null,
   "id": "17ae0a60-9330-4227-97d9-8aef4ebdf53d",
   "metadata": {},
   "outputs": [],
   "source": []
  }
 ],
 "metadata": {
  "kernelspec": {
   "display_name": "study",
   "language": "python",
   "name": "study"
  },
  "language_info": {
   "codemirror_mode": {
    "name": "ipython",
    "version": 3
   },
   "file_extension": ".py",
   "mimetype": "text/x-python",
   "name": "python",
   "nbconvert_exporter": "python",
   "pygments_lexer": "ipython3",
   "version": "3.10.15"
  }
 },
 "nbformat": 4,
 "nbformat_minor": 5
}
