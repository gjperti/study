{
 "cells": [
  {
   "cell_type": "markdown",
   "id": "b150fcb4",
   "metadata": {},
   "source": [
    "# **Classical RL**: Single Agent in a Grid World\n",
    "\n",
    "The topics in this notebook are basically the ones convered in [Sutton & Barto's seminal book](http://incompleteideas.net/book/RLbook2020.pdf)."
   ]
  },
  {
   "cell_type": "markdown",
   "id": "8a1697dd-d18f-4d77-9576-c478d9ec9371",
   "metadata": {
    "jp-MarkdownHeadingCollapsed": true
   },
   "source": [
    "# An Extremely Brief Introduction to Classical RL\n",
    "\n",
    "Common to all Reinforcement Learning problems is the existence of an agent in a dynamic system having to pick an action $a_t$ when it finds itself in a state $s_t$ with the goal of optimizing an accumulation of future rewards, also called value. In chess, for instance, $a_t$ would be your next move, $s_t$ is the current chess board and the value is some measure of how 'good' the position is for you.\n",
    "\n",
    "The goal of RL, then, is to build some mapping $\\pi : \\mathcal{S} \\rightarrow \\mathcal{A}$ that is able to generate actions that will yield a big expected long-term value for the agent, even at the cost of smaller immediate rewards (e.g. sacrificing a piece in chess). \n",
    "\n",
    "This mapping $\\pi$ is called a **policy**.\n",
    "\n",
    "## 1 - Optimal Policy, $\\pi^{\\star}$\n",
    "\n",
    "Given a state $s$, the 'quality' of policy $\\bar\\pi$ is measured by the expected value the agent will get from it:\n",
    "- $V_{\\bar \\pi}(s) = \\mathbb{E}_{a_t = \\bar \\pi(s_t), \\; s_{t+1} \\sim \\mathcal{T}(s_t,a_t)}[\\sum_{t=0}^T \\gamma^t R(s_t, a_t) | s_0=s]$.\n",
    "\n",
    "A policy $\\pi^{\\star}$ is said to be optimal if $V_{\\pi^{\\star}}(s) \\geq V_{\\pi}(s), \\forall \\pi, s$. It means all other policies yield an expected value that is either equal to or smaller than $\\pi^{\\star}$ in every single state. In this case, we define $V_{\\star} := V_{\\pi^{\\star}}$. \n",
    "\n",
    "\n",
    "## 2- How to find $\\pi^{\\star}$?\n",
    "\n",
    "The ultimate goal of RL is to find an optimal policy for a given problem. \n",
    "\n",
    "As we will see in this notebook, there are many ways to approach this, though in most interesting problems only 'good enough' suboptimal policies can be found.\n",
    "\n",
    "### 2.1 - Extract $\\pi^{\\star}$ from $V^{\\star}$\n",
    "\n",
    "In some problems, it is possible to find $V^{\\star}(s), \\forall s$ and then build $\\pi^{\\star}$ from it by chosing the action $a_t$ that will take the agent from $s_t$ to $s_{t+1} = \\text{argmax} \\left( R(s,a) + V^{\\star}(s') \\right)$. That is, we will pick an action that can take the agent to the next state with highest possible optimal value (i.e. the most convient next state). \n",
    "\n",
    "From the definition above, note that an algorithm can only extract $\\pi^{\\star}$ from $V^{\\star}$ if it is able to simulate the system dynamics, given by $s_{t+1} \\sim \\mathcal{T}(s_t,a), \\forall a$. Although this is true for some systems, it is certainly not true for many.\n",
    "\n",
    "Finding $V^{\\star}$ is generally impossible, even with full knowledge of the system dynamics. So we will almost always rely on some approximation $\\hat V \\approx V^{\\star}$.\n",
    "\n",
    "\n",
    "### 2.2 -  Extract $\\pi^{\\star}$ from $Q^{\\star}$\n",
    "\n",
    "As mentioned in 2.2.1, if we do not know anything about the system dynamics, it's not possible to extract $\\pi^{\\star}$ from $V^{\\star}$. We can, however, use a better suited measure for the quality of choosing $(s,a)$ instead of just $s$, and then following $a_{t} = \\pi_{t}(s_{t})$.\n",
    "\n",
    "This measure, $Q$, is called a state-action value:\n",
    "\n",
    "- $Q_{\\bar \\pi}(s,a) = \\mathbb{E}_{a_t = \\bar \\pi(s_t),  \\; s_{t+1} \\sim \\mathcal{T}(s_t,a_t)}[R(s,a) + \\sum_{t=1}^T \\gamma^t R(s_t, a_t) | s_0 = s]$\n",
    "\n",
    "If we can find $Q^{\\star}$, that is, how convenient it is to perform $a$ in $s$ and then follow an optimal policy, then we can easily extract $\\pi^{\\star}$ by finding:\n",
    "\n",
    "$$\n",
    "    \\pi^{\\star}(s) = \\underset{a \\in \\mathcal{A}}{\\text{argmax}} \\left( Q^*(s,a) \\right)\n",
    "$$\n",
    "\n",
    "As is the case of $V^{\\star}$, it is generally impossible to find $Q^{\\star}$. So we will almost always rely on some approximation $\\hat Q \\approx Q^{\\star}$.\n",
    "\n",
    "### 2.3 - Find $\\pi^{\\star}$ from some random $\\pi_0$\n",
    "\n",
    "Other methods involve starting off with some random policy $\\pi_0$ and using an interative process to generate $\\pi_0 \\rightarrow \\pi_1 \\rightarrow \\pi_2 \\rightarrow ...$ such that $V_{\\pi_{k+1}}(s) \\geq V_{\\pi_k}(s)$ , $\\forall k,s$. That is, a process that generates better and better policies.\n",
    "\n",
    "## 3 - Learning v. Planning\n",
    "\n",
    "As mentioned in the last section, some approaches assume some knowledge about the system dynamics, while others don't assume any knowledge at all. The first case is called **Planning**, while the second is called **Learning**.\n",
    "\n",
    "Let's take a maze-solving agent as an example:\n",
    "- **Planning**: Allows the agent to simulate how close it would be to the exit by  choosing directions $a_0a_1...a_n$ before taking any step in real life. Solving this becomes, then, a Dynamic Programming task (e.g. a tree search of action $\\rightarrow$ states $\\rightarrow$ action $\\rightarrow$ ...). The biggest restriction here is the sheer size of the state-space, which often makes an optimal solution impossible to be obtained.\n",
    "\n",
    "- **Learning**: Requires the agent to take action $a_0$ and observing state $s_1$ in real life. By trial-and-error, the agent will learn from experience how convenient it is to perform $a_t$ while in $s_t$, as no model or simulator is provided.\n",
    "\n",
    "The interplay between Planning and Learning happens a lot in Reinforcement Learning, and the difference can be blurry. Some models, like DynaQ, uses both methods to learn an optimal action-value function $Q^*$.\n"
   ]
  },
  {
   "cell_type": "markdown",
   "id": "3e30583f-f7ff-4bf4-b22c-ec6c248ba5d0",
   "metadata": {},
   "source": [
    "---\n",
    "# **Practical Example**: Single Agent in a Grid World"
   ]
  },
  {
   "cell_type": "markdown",
   "id": "2d634b11-2807-4d7c-919d-75a84a9b288b",
   "metadata": {},
   "source": [
    "In this notebook, we will analyze a very simple game. It consists of a grid where a single agent (blue) can move either up, down, left or right at every turn, in search for a prize (green). "
   ]
  },
  {
   "cell_type": "markdown",
   "id": "b8f078bd-7b69-493a-a480-eb9564b1c7a0",
   "metadata": {},
   "source": [
    "<center><img src=\"game_example.png\" heigh=600, width=400> </center>"
   ]
  },
  {
   "cell_type": "markdown",
   "id": "ede5befb-d2ad-4919-97a1-39f1c56abb36",
   "metadata": {},
   "source": [
    "\n",
    "The prize (green) is unique and the game is over (with a big reward) if the agent reaches it.\n",
    "\n",
    "In the grid, there are also barriers (black), which block the agents movement, as if it is hitting a wall. Finally, there are also bombs (red), which kill the agent if he reaches it. \n",
    "\n",
    "Thus, the game ends if one of the following happens:\n",
    "- the agent has played for a predefined $T$ steps\n",
    "- the agent reaches the prize\n",
    "- the agent reaches a bomb\n",
    "\n",
    "For simplicity, we'll only consider the deterministic case."
   ]
  },
  {
   "cell_type": "markdown",
   "id": "e93e43a3",
   "metadata": {},
   "source": [
    "# 1. Game Setup\n",
    "\n",
    "In this section, we will build the grid and place the prize, the agent's initial position, the bombs and the barriers randomly in it. We will also build the game's dynamics (i.e. changing the grid as actions are taken)."
   ]
  },
  {
   "cell_type": "code",
   "execution_count": 8,
   "id": "7f863912",
   "metadata": {},
   "outputs": [],
   "source": [
    "import numpy as np\n",
    "import matplotlib.pyplot as plt\n",
    "from matplotlib.colors import ListedColormap\n",
    "from IPython.display import clear_output\n",
    "import time\n",
    "\n",
    "np.random.seed(31)\n",
    "np.set_printoptions(formatter={'float': '{:10f}'.format})"
   ]
  },
  {
   "cell_type": "markdown",
   "id": "33d9d3a6",
   "metadata": {},
   "source": [
    "## 1.1 - The Grid\n",
    "\n",
    "The grid will start off as a ```grid_shape[0]``` by ```grid_shape[1]``` matrix of zeros."
   ]
  },
  {
   "cell_type": "code",
   "execution_count": 9,
   "id": "2bd04506",
   "metadata": {},
   "outputs": [
    {
     "name": "stdout",
     "output_type": "stream",
     "text": [
      "[[0 0 0 0 0 0 0 0 0 0]\n",
      " [0 0 0 0 0 0 0 0 0 0]\n",
      " [0 0 0 0 0 0 0 0 0 0]\n",
      " [0 0 0 0 0 0 0 0 0 0]\n",
      " [0 0 0 0 0 0 0 0 0 0]\n",
      " [0 0 0 0 0 0 0 0 0 0]\n",
      " [0 0 0 0 0 0 0 0 0 0]\n",
      " [0 0 0 0 0 0 0 0 0 0]\n",
      " [0 0 0 0 0 0 0 0 0 0]\n",
      " [0 0 0 0 0 0 0 0 0 0]]\n"
     ]
    }
   ],
   "source": [
    "# Grid Shape\n",
    "grid_shape = [10, 10]\n",
    "\n",
    "# Creating grid\n",
    "grid = np.zeros(grid_shape).astype(int)\n",
    "print(grid)"
   ]
  },
  {
   "cell_type": "markdown",
   "id": "4b9bf566",
   "metadata": {},
   "source": [
    "## 1.2 - The Prize\n",
    "\n"
   ]
  },
  {
   "cell_type": "markdown",
   "id": "a1267a26-e743-44ea-bd5f-0b96168f62ca",
   "metadata": {},
   "source": [
    "We'll then insert a prize in a random location on the grid.\n",
    "\n",
    "Its symbol will be ```symbol_prize```.\n",
    "\n",
    "The reward for collecting it will be ```reward_prize```."
   ]
  },
  {
   "cell_type": "code",
   "execution_count": 10,
   "id": "f4c5cf65",
   "metadata": {},
   "outputs": [
    {
     "name": "stdout",
     "output_type": "stream",
     "text": [
      "[[ 0  0  0  0  0  0  0  0  0  0]\n",
      " [ 0  0  0  0  0  0  0  0  0  0]\n",
      " [ 0  0  0  0  0  0  0  0  0  0]\n",
      " [ 0  0  0  0  0  0  0  0  0  0]\n",
      " [ 0  0  0  0  0  0  0  0  0  0]\n",
      " [ 0  0  0  0  0  0  0  0  0  0]\n",
      " [ 0  0  0  0  0  0  0  0  0  0]\n",
      " [ 0  0  0  0  0  0  0  0  0  0]\n",
      " [ 0  0 10  0  0  0  0  0  0  0]\n",
      " [ 0  0  0  0  0  0  0  0  0  0]]\n"
     ]
    }
   ],
   "source": [
    "# Reward of the prize\n",
    "reward_prize = 10\n",
    "\n",
    "# Symbol for the prize in the grid\n",
    "symbol_prize = reward_prize\n",
    "\n",
    "# Getting all empty indexes from the grid: [[0,0], [0,1], ...]\n",
    "empty_indexes = np.stack(np.where(grid == 0)).T\n",
    "\n",
    "# Sampling 1 empty index from empty_indexes \n",
    "random_i = np.random.choice(range(empty_indexes.shape[0]), 1)[0]\n",
    "prize_idx = empty_indexes[random_i,:]\n",
    "\n",
    "# Adding prizes to grid with label 'reward_prize'\n",
    "grid[*prize_idx] = symbol_prize\n",
    "print(grid)"
   ]
  },
  {
   "cell_type": "markdown",
   "id": "459bdae3",
   "metadata": {},
   "source": [
    "## 1.3 - The Barriers"
   ]
  },
  {
   "cell_type": "markdown",
   "id": "86c00f98-c3db-49f3-a39d-a4190b6e20a7",
   "metadata": {},
   "source": [
    "We'll then insert ```n_barriers``` barriers in random non-empty location on the grid.\n",
    "\n",
    "Its symbol will be ```symbol_barrier```."
   ]
  },
  {
   "cell_type": "code",
   "execution_count": 11,
   "id": "b5396d23",
   "metadata": {},
   "outputs": [
    {
     "name": "stdout",
     "output_type": "stream",
     "text": [
      "[[-1  0  0 -1  0  0  0  0 -1  0]\n",
      " [ 0  0  0  0  0  0  0 -1  0  0]\n",
      " [ 0  0  0  0  0  0  0  0  0  0]\n",
      " [ 0  0  0 -1  0  0  0 -1  0  0]\n",
      " [ 0  0  0  0  0  0  0  0  0  0]\n",
      " [ 0  0  0  0  0  0 -1  0  0  0]\n",
      " [-1  0  0  0  0  0  0 -1  0  0]\n",
      " [ 0  0  0  0  0  0 -1  0  0  0]\n",
      " [ 0  0 10  0  0  0  0  0  0  0]\n",
      " [ 0  0  0  0  0  0  0  0  0  0]]\n"
     ]
    }
   ],
   "source": [
    "# Number of bombs\n",
    "n_barriers = 10\n",
    "\n",
    "# Symbol for the bomb on the grid\n",
    "symbol_barrier = -1\n",
    "\n",
    "# Getting all empty indexes from the grid: [[0,0], [0,1], ...]\n",
    "empty_indexes = np.stack(np.where(grid == 0)).T\n",
    "\n",
    "# Sampling 'n_barriers' empty indexes for our prize locations\n",
    "random_i = np.random.choice(range(empty_indexes.shape[0]), n_barriers, replace=False)\n",
    "barrier_idxs = empty_indexes[random_i,:]\n",
    "\n",
    "# Adding bombs to grid with label 'reward_bomb'\n",
    "for idx in barrier_idxs:\n",
    "    grid[*idx] = symbol_barrier\n",
    "    \n",
    "print(grid)"
   ]
  },
  {
   "cell_type": "markdown",
   "id": "d886d32c-f725-477e-8bd9-855cd1aa820b",
   "metadata": {},
   "source": [
    "## 1.4 - The Bombs"
   ]
  },
  {
   "cell_type": "markdown",
   "id": "2f23abf2-f4bb-419c-9196-bea5d76a755b",
   "metadata": {},
   "source": [
    "We'll then insert ```n_bombs``` bombs in random non-empty location on the grid.\n",
    "\n",
    "Its symbol will be ```symbol_bomb```."
   ]
  },
  {
   "cell_type": "code",
   "execution_count": 12,
   "id": "889f9e6b-a755-432d-a36e-b7c94d42dbc9",
   "metadata": {},
   "outputs": [
    {
     "name": "stdout",
     "output_type": "stream",
     "text": [
      "[[ -1   0   0  -1   0   0   0   0  -1   0]\n",
      " [-10 -10   0   0   0   0   0  -1   0   0]\n",
      " [  0   0   0   0   0   0 -10   0 -10   0]\n",
      " [-10   0   0  -1   0   0   0  -1   0   0]\n",
      " [  0   0   0 -10   0   0   0   0   0   0]\n",
      " [  0   0   0   0   0   0  -1   0   0   0]\n",
      " [ -1   0   0 -10   0   0   0  -1   0   0]\n",
      " [  0   0   0   0   0   0  -1   0   0   0]\n",
      " [-10   0  10   0   0 -10   0   0   0   0]\n",
      " [  0   0 -10   0   0   0   0   0   0   0]]\n"
     ]
    }
   ],
   "source": [
    "# Number of bombs\n",
    "n_bombs = 10\n",
    "\n",
    "# Symbol for the bomb on the grid\n",
    "reward_bomb = -10\n",
    "symbol_bomb = reward_bomb\n",
    "\n",
    "# Getting all empty indexes from the grid: [[0,0], [0,1], ...]\n",
    "empty_indexes = np.stack(np.where(grid == 0)).T\n",
    "\n",
    "# Sampling 'n_bombs' empty indexes for our prize locations\n",
    "random_i = np.random.choice(range(empty_indexes.shape[0]), n_bombs, replace=False)\n",
    "bomb_idxs = empty_indexes[random_i,:]\n",
    "\n",
    "# Adding bombs to grid with label 'reward_bomb'\n",
    "for idx in bomb_idxs:\n",
    "    grid[*idx] = symbol_bomb\n",
    "    \n",
    "print(grid)"
   ]
  },
  {
   "cell_type": "markdown",
   "id": "80c5c5f8",
   "metadata": {},
   "source": [
    "## 1.4 - The Agent"
   ]
  },
  {
   "cell_type": "markdown",
   "id": "437da504-648d-4d27-873f-1fece55abd25",
   "metadata": {},
   "source": [
    "We'll then insert an agent in a random location on the grid.\n",
    "\n",
    "It will be identified with ```symbol_agent```."
   ]
  },
  {
   "cell_type": "code",
   "execution_count": 13,
   "id": "984bcc4a",
   "metadata": {},
   "outputs": [
    {
     "name": "stdout",
     "output_type": "stream",
     "text": [
      "Agent symbol: 11\n",
      "\n",
      "[[ -1   0   0  -1   0   0   0   0  -1   0]\n",
      " [-10 -10   0   0   0   0   0  -1   0   0]\n",
      " [  0   0   0   0   0   0 -10   0 -10   0]\n",
      " [-10   0   0  -1   0   0   0  -1   0   0]\n",
      " [  0   0   0 -10   0   0   0   0   0   0]\n",
      " [  0   0   0   0   0   0  -1   0   0   0]\n",
      " [ -1   0   0 -10   0   0   0  -1   0   0]\n",
      " [  0   0   0   0   0   0  -1   0  11   0]\n",
      " [-10   0  10   0   0 -10   0   0   0   0]\n",
      " [  0   0 -10   0   0   0   0   0   0   0]]\n"
     ]
    }
   ],
   "source": [
    "# The symbol for the agents on the grid, which should be different from all other\n",
    "symbol_agent = max(symbol_prize, symbol_barrier, symbol_bomb) + 1\n",
    "\n",
    "# Getting all empty indexes from the grid: [[0,0], [0,1], ...]\n",
    "empty_indexes = np.stack(np.where(grid == 0)).T\n",
    "\n",
    "# Sampling 1 empty index for our agent location\n",
    "random_i = np.random.choice(range(empty_indexes.shape[0]), 1, replace=False)[0]\n",
    "agent_idx = empty_indexes[random_i,:]\n",
    "\n",
    "# Adding agent to grid with label ''\n",
    "grid[*agent_idx] = symbol_agent\n",
    "\n",
    "print(f'Agent symbol: {symbol_agent}\\n')\n",
    "print(grid)"
   ]
  },
  {
   "cell_type": "markdown",
   "id": "75ef142f",
   "metadata": {},
   "source": [
    "## 1.6 - Plotting"
   ]
  },
  {
   "cell_type": "code",
   "execution_count": 14,
   "id": "ee8cd36b-8227-4656-b212-8f3f15ba4656",
   "metadata": {},
   "outputs": [],
   "source": [
    "# Getting the agent's [x,y] coordinates\n",
    "def get_agent_pos(grid):\n",
    "    return np.hstack(np.where(grid == symbol_agent))"
   ]
  },
  {
   "cell_type": "code",
   "execution_count": 15,
   "id": "0fb03258",
   "metadata": {},
   "outputs": [],
   "source": [
    "# Function that plots the grid\n",
    "def plot_game(grid, rewards=[0]):\n",
    "\n",
    "    # Defining colors for each symbol\n",
    "    colors = {\n",
    "        0: 'white',\n",
    "        symbol_prize: 'green',\n",
    "        symbol_barrier: 'black',\n",
    "        symbol_bomb: 'red',\n",
    "        symbol_agent: 'blue'\n",
    "    }\n",
    "\n",
    "    clear_output(wait=True)\n",
    "\n",
    "    # Convert the matrix values to a list of colors\n",
    "    unique_values = list(colors.keys())  # Extract unique values in the correct order\n",
    "    \n",
    "    color_list = [colors[val] for val in unique_values]  # Generate a list of colors in the order of unique values\n",
    "    # Create a ListedColormap using the colors\n",
    "    cmap = ListedColormap(color_list)\n",
    "    \n",
    "    # Create an index map to translate values in the matrix to their corresponding indices in the cmap\n",
    "    index_map = np.vectorize(lambda x: unique_values.index(x))(grid)\n",
    "    \n",
    "    # Plot the matrix using imshow and the custom colormap\n",
    "    plt.imshow(index_map, cmap=cmap)\n",
    "    \n",
    "    scoreboard = f'Rewards: {float(np.sum(rewards))}'\n",
    "    plt.title(scoreboard)\n"
   ]
  },
  {
   "cell_type": "code",
   "execution_count": 16,
   "id": "9405d2ed",
   "metadata": {},
   "outputs": [
    {
     "data": {
      "image/png": "[encoded data removed]",
      "text/plain": [
       "<Figure size 640x480 with 1 Axes>"
      ]
     },
     "metadata": {},
     "output_type": "display_data"
    }
   ],
   "source": [
    "plot_game(grid)"
   ]
  },
  {
   "cell_type": "code",
   "execution_count": 17,
   "id": "0bae8b01",
   "metadata": {},
   "outputs": [],
   "source": [
    "# Saving the configartion as the initial state of the game\n",
    "initial_grid = grid.copy()"
   ]
  },
  {
   "cell_type": "markdown",
   "id": "5280814c",
   "metadata": {},
   "source": [
    "## 1.7 - Dynamics"
   ]
  },
  {
   "cell_type": "markdown",
   "id": "7c47325d-7760-4941-8403-5ac3a2fea0d5",
   "metadata": {},
   "source": [
    "Below is a dicitionary with the allowed movements and their displacement effect on the agent's position."
   ]
  },
  {
   "cell_type": "code",
   "execution_count": 18,
   "id": "24b0798a",
   "metadata": {},
   "outputs": [
    {
     "data": {
      "text/plain": [
       "['left', 'down', 'right', 'up']"
      ]
     },
     "execution_count": 18,
     "metadata": {},
     "output_type": "execute_result"
    }
   ],
   "source": [
    "# Allowed movements\n",
    "MOVEMENTS = {\n",
    "    'left': np.array([0,-1]), \n",
    "    'down':np.array([1,0]), \n",
    "    'right':np.array([0,1]), \n",
    "    'up':np.array([-1,0])\n",
    "}\n",
    "\n",
    "ACTIONS = list(MOVEMENTS.keys())\n",
    "ACTIONS"
   ]
  },
  {
   "cell_type": "code",
   "execution_count": 19,
   "id": "96331fec",
   "metadata": {},
   "outputs": [],
   "source": [
    "# Reward for each time step\n",
    "reward_timestep = -1"
   ]
  },
  {
   "cell_type": "markdown",
   "id": "71cc3928-f5f3-4a63-a82b-24043a3cbef4",
   "metadata": {},
   "source": [
    "The function ```move``` outputs the new grid configuration after an ```action``` has been performed when in current grid configuration ```grid```. \n",
    "\n",
    "- If such action takes the agent to an empty cell, then the operation is simply removing the agent symbol from the old cell in the grid, and moving it to the new one.\n",
    "\n",
    "- If such action takes the agent to a barrier or the border of the matrix, then it return the old configuration.\n",
    "\n",
    "- If such action takes the agent to a bomb or a prize, then it return the final configuration with output ```terminate``` equal to True."
   ]
  },
  {
   "cell_type": "code",
   "execution_count": 20,
   "id": "9c2083bf",
   "metadata": {},
   "outputs": [],
   "source": [
    "def move(action, grid):\n",
    "    \n",
    "    # We copy the grid so that our changes dont reflect on the grid\n",
    "    grid = grid.copy()\n",
    "\n",
    "    terminate = False\n",
    "    \n",
    "    reward = reward_timestep\n",
    "    \n",
    "    # If the action is not allowed (e.g. 'banana'), we raise an error\n",
    "    if action not in MOVEMENTS.keys():\n",
    "        raise ValueError(f'Possible movements are: { list(MOVEMENTS.keys()) }')\n",
    "    \n",
    "    # Otherwise, perform movement\n",
    "    else:\n",
    "        \n",
    "        # Getting current position of the agent\n",
    "        curr_pos = get_agent_pos(grid)\n",
    "        \n",
    "        # Getting the next position. \n",
    "        # Note that if the action would take the agent outside the grid, the agent stays in place.\n",
    "        next_pos = curr_pos + MOVEMENTS[action]\n",
    "        next_pos[0] = np.clip(next_pos[0], 0, grid_shape[0]-1)\n",
    "        next_pos[1] = np.clip(next_pos[1], 0, grid_shape[1]-1)\n",
    "        \n",
    "        # We remove the agent from its current position\n",
    "        grid[*curr_pos] = 0\n",
    "        \n",
    "        # If the next position is a prize...\n",
    "        if grid[*next_pos] == symbol_prize:\n",
    "            \n",
    "            # Get prize reward\n",
    "            reward = reward_prize\n",
    "\n",
    "            terminate = True\n",
    "\n",
    "        # If the next position is a prize...\n",
    "        elif grid[*next_pos] == symbol_bomb:\n",
    "            \n",
    "            # Get prize reward\n",
    "            reward = reward_bomb\n",
    "\n",
    "            terminate = True\n",
    "        \n",
    "        # If the next position is a barrier...\n",
    "        elif grid[*next_pos] == symbol_barrier:\n",
    "\n",
    "            # Agent's position wont change\n",
    "            next_pos = curr_pos\n",
    "        \n",
    "        # Place the agent in the next position\n",
    "        grid[*next_pos] = symbol_agent\n",
    "        \n",
    "        return (grid, reward, terminate)"
   ]
  },
  {
   "cell_type": "markdown",
   "id": "68946460",
   "metadata": {},
   "source": [
    "_Example: moving the agent to the right in one turn_"
   ]
  },
  {
   "cell_type": "code",
   "execution_count": 21,
   "id": "5b317910",
   "metadata": {},
   "outputs": [
    {
     "data": {
      "image/png": "[encoded data removed]",
      "text/plain": [
       "<Figure size 640x480 with 2 Axes>"
      ]
     },
     "metadata": {},
     "output_type": "display_data"
    }
   ],
   "source": [
    "# Initial grid\n",
    "plt.subplot(1,2,1)\n",
    "plot_game(grid)\n",
    "\n",
    "# Moving agent to down\n",
    "(grid, reward, _) = move('down', grid)\n",
    "\n",
    "# Plotting next grid\n",
    "plt.subplot(1,2,2)\n",
    "plot_game(grid, rewards=[reward])\n"
   ]
  },
  {
   "cell_type": "markdown",
   "id": "19f2576c-7dd7-4687-aa78-5cae63f97c88",
   "metadata": {},
   "source": [
    "The game as defined above is a Markov Decision Process (MDP) with:\n",
    "- Action space $\\mathcal{A} = \\{ \\text{left, right, up, down} \\}$\n",
    "  \n",
    "- State space $\\mathcal{S} = $ all possible grid configurations\n",
    "\n",
    "- Reward function $R(s,a) = \\begin{cases} \\texttt{reward_prize}, & \\text{if the agent reaches the prize when performing $a$ in $s$} \\\\ \n",
    "\\texttt{reward_bomb}, & \\text{if the agent reaches a bomb when performing $a$ in $s$}  \\\\ \\texttt{reward_timestep}, & \\text{otherwise} \\end{cases}$\n",
    "\n",
    "- Transition $\\mathcal{T}$ as expected. For instance, the agents move to the left if $a$ = left and there is no barrier nor border to the left of it."
   ]
  },
  {
   "cell_type": "markdown",
   "id": "39d6a3c9-a1d5-4510-8052-b0c3f971fab6",
   "metadata": {},
   "source": [
    "Note that since bombs and reward are terminal states, the number of possible grid configurations is just the number of cells in the grid minus the the number of cells that the agent cannot be in (i.e. barriers). This is essentially all the cells that the agent can be in:\n",
    "\n",
    "$$\n",
    "    |\\mathcal{S}| = |\\text{Grid}| - |\\text{Barriers}|\n",
    "$$\n",
    "\n",
    "If we were to allow the bombs to just disappear (or randomly respawn) after the agent reaches it, and let it keep playing, then the number of states would be considerably larger. We would, for instance, need to consider one configuration where a bomb is in its initial position, and another where there is no bomb there as two distinct configurations, even if the agent is in the same cell in both cases."
   ]
  },
  {
   "cell_type": "markdown",
   "id": "97a2e1b3-db26-4f42-a253-64f8f90e3f02",
   "metadata": {},
   "source": [
    "Below, we will create a function that receives and applies ```policy``` for ```T``` steps."
   ]
  },
  {
   "cell_type": "code",
   "execution_count": 22,
   "id": "f51ff081-05e9-4b69-a162-1ecb801154cf",
   "metadata": {},
   "outputs": [],
   "source": [
    "def play(policy, T, wait=0.05, *args, **kwargs):\n",
    "\n",
    "    # Starts with the initial grid\n",
    "    grid = initial_grid\n",
    "\n",
    "    # Starts with an empty reward array\n",
    "    rewards = []\n",
    "    \n",
    "    for _ in range(T):\n",
    "        \n",
    "        # Picking action\n",
    "        action = policy(grid, **kwargs)\n",
    "\n",
    "        # Performing action\n",
    "        (grid, reward, terminate) = move(action, grid)\n",
    "        rewards.append(reward)\n",
    "\n",
    "        plot_game(grid, rewards)\n",
    "        plt.show()\n",
    "\n",
    "        # Wait 'wait' seconds\n",
    "        time.sleep(wait)\n",
    "\n",
    "        # If there is no more prizes, the game ends\n",
    "        if terminate:\n",
    "            break\n",
    "                \n",
    "    return (rewards, terminate)"
   ]
  },
  {
   "cell_type": "markdown",
   "id": "07b8608f-dbe6-44e2-954a-68e0eea93a47",
   "metadata": {},
   "source": [
    "For all tests below, we will use the following value for ```T```:"
   ]
  },
  {
   "cell_type": "code",
   "execution_count": 23,
   "id": "09456f3f-3000-47a0-89db-c544dd48d786",
   "metadata": {},
   "outputs": [],
   "source": [
    "T=100"
   ]
  },
  {
   "cell_type": "markdown",
   "id": "8d691e93-8a32-4ffd-bdcf-55ba5f063ea2",
   "metadata": {},
   "source": [
    "# 2 - Planning\n",
    "\n",
    "As explained in the first part, these algorithms rely on the ability to simulate actions before taking any steps in the real game."
   ]
  },
  {
   "cell_type": "markdown",
   "id": "cd5920e3-a459-46aa-91fa-911ab91d9c2a",
   "metadata": {},
   "source": [
    "## 2.1 - Myopic Algorithm\n",
    "\n",
    "This is the most simple planning algorithm that exists. It simply simulates one step ahead for each available action $a \\in \\mathcal{A}$, observes and stores their reward and then performs the action that maximizes the immediate reward. That is, there is no long-term planning.\n",
    "\n",
    "$$\n",
    "    \\pi(s) = \\underset{a \\in \\mathcal{A}}{\\text{argmax}} \\left( R(s,a) \\right)\n",
    "$$\n",
    "\n",
    "If $\\text{argmax} \\left( R(s,a) \\right)$ is a set, then it just randomly samples one action from it.\n",
    "\n",
    "This method is not optimal at all in general, but particularly so in cases with sparse reward (i.e. many steps with all one-step head actions resulting in 0 reward), like ours."
   ]
  },
  {
   "cell_type": "code",
   "execution_count": 24,
   "id": "181f8a12-beb8-4cfa-9ace-6328c08f90f6",
   "metadata": {},
   "outputs": [],
   "source": [
    "def myopic_policy(grid, **kwargs):\n",
    "\n",
    "    # Simulated rewards for all possible actions\n",
    "    sim_rewards = []\n",
    "\n",
    "    # Simulating all actions\n",
    "    for action in MOVEMENTS.keys():\n",
    "\n",
    "        # Observes immediate reward\n",
    "        # Note that this movement is not recorded in the 'real game'\n",
    "        (_,r,_) = move(action, grid)\n",
    "\n",
    "        # Stores immediate reward\n",
    "        sim_rewards.append(r)\n",
    "\n",
    "    # Transforming it into a numpy array\n",
    "    sim_rewards = np.array(sim_rewards)\n",
    "\n",
    "    # Finding actions that maximize the immediate reward\n",
    "    argmax = np.argwhere(sim_rewards == sim_rewards.max()).T[0]\n",
    "\n",
    "    # Picking a random action from the maximizers\n",
    "    best_action = np.random.choice(argmax,1)[0]\n",
    "    \n",
    "    return ACTIONS[best_action]"
   ]
  },
  {
   "cell_type": "code",
   "execution_count": 25,
   "id": "4497c19e-13af-4aad-8886-3569b3cae02f",
   "metadata": {},
   "outputs": [
    {
     "data": {
      "image/png": "[encoded data removed]",
      "text/plain": [
       "<Figure size 640x480 with 1 Axes>"
      ]
     },
     "metadata": {},
     "output_type": "display_data"
    },
    {
     "name": "stdout",
     "output_type": "stream",
     "text": [
      "Reached terminal state?: False\n"
     ]
    }
   ],
   "source": [
    "(R_myopic, terminate) = play(myopic_policy, T)\n",
    "print(f'Reached terminal state?: {terminate}')"
   ]
  },
  {
   "cell_type": "markdown",
   "id": "719368bc-1870-4ab4-91fb-54271f7fa927",
   "metadata": {},
   "source": [
    "## 2.2 - Next-Closest Policy\n",
    "\n",
    "This policy picks the action that will the agent closest (Euclidean distance) to the prize.\n",
    "\n",
    "It also simulates one-step ahead (like the Myopic Policy), but instead of relying on the game rewards, it 'builds' a new reward function with the knowledge from the prize's position. So, this policy assumes not only the ability to simulate actions, but also the knowledge about the prize's $(x,y)$ coordinates.\n",
    "\n",
    "$$\n",
    "\\pi(s) = \\underset{a \\in \\mathcal{A}}{\\text{argmin}} \\left( \\; || \\text{prize} - \\text{agent}(a) ||_2 \\; \\right)\n",
    "$$\n",
    "\n",
    "Here, $ \\text{agent}(a)$ is the next position of the agent after $a$ has been performed."
   ]
  },
  {
   "cell_type": "code",
   "execution_count": 26,
   "id": "92977ef4-780e-44d7-a48d-828115f5a03c",
   "metadata": {},
   "outputs": [],
   "source": [
    "def nextclosest_policy(grid, **kwargs):\n",
    "\n",
    "    # Get position of the prize\n",
    "    prize_pos = np.stack(np.where(grid == reward_prize)).T\n",
    "\n",
    "    # Simulated rewards for all possible actions\n",
    "    next_distances = []\n",
    "\n",
    "    # Simulating all actions\n",
    "    for action in MOVEMENTS.keys():\n",
    "\n",
    "        # Getting agent's position when 'action' is taken\n",
    "        (next_grid,_,_) = move(action, grid)\n",
    "        next_pos = get_agent_pos(next_grid)\n",
    "\n",
    "        # Getting Euclidean distance from the agent's next position to the prize\n",
    "        next_dist_to_prize = min(np.linalg.norm(prize_pos - next_pos, 2, axis=1))\n",
    "\n",
    "        # Storing in 'next_distances' array\n",
    "        next_distances.append(next_dist_to_prize)\n",
    "        \n",
    "    next_distances = np.array(next_distances)\n",
    "\n",
    "    # Getting the action index with smallest distance\n",
    "    best_action = np.argmin(next_distances)\n",
    "\n",
    "    return ACTIONS[best_action]"
   ]
  },
  {
   "cell_type": "code",
   "execution_count": 27,
   "id": "96350cd1-a849-4bf3-b667-2bb5972fe943",
   "metadata": {},
   "outputs": [
    {
     "data": {
      "image/png": "[encoded data removed]",
      "text/plain": [
       "<Figure size 640x480 with 1 Axes>"
      ]
     },
     "metadata": {},
     "output_type": "display_data"
    },
    {
     "name": "stdout",
     "output_type": "stream",
     "text": [
      "Reached terminal state?: True\n"
     ]
    }
   ],
   "source": [
    "(R_next, terminate) = play(nextclosest_policy, T)\n",
    "print(f'Reached terminal state?: {terminate}')"
   ]
  },
  {
   "cell_type": "markdown",
   "id": "086998c6-1301-4743-a8e2-2d7986ac4f2b",
   "metadata": {},
   "source": [
    "## 2.1 - Value Iteration"
   ]
  },
  {
   "cell_type": "markdown",
   "id": "a3e111b1-8ae9-4fa2-b508-9c16399d6464",
   "metadata": {},
   "source": [
    "Value Iteration works by initializing $V_0(s)=0, \\forall s$, and then iteratively building $V_0 \\rightarrow V_1 \\rightarrow V_2 \\rightarrow ...$, such that $V_k(s) \\xrightarrow{k \\rightarrow \\infty} V^{\\star}(s), \\forall s$.\n",
    "\n",
    "This iterative process here is the Bellman Operator, wherein for all $s \\in \\mathcal{S}$:\n",
    "\n",
    "$$\n",
    "    V_{k+1}(s) = \\underset{a \\in \\mathcal{A}}{\\max} \\left( R(s,a) + V_k(s'_a) \\right), \\text{ where } (s,a) \\rightarrow s'_a\n",
    "$$\n",
    "\n",
    "After iterating through big enough $k$, we'll have $V_{k} \\approx V^{\\star}$. \n",
    "\n",
    "Then, we can use the following policy to control the agent:\n",
    "\n",
    "$$\n",
    "    \\pi(s) = \\underset{a \\in \\mathcal{A}}{\\text{argmax}} \\left( R(s,a) + V_k(s'_a) \\right)\n",
    "$$\n",
    "\n",
    "Let's start by building $V_k$:"
   ]
  },
  {
   "cell_type": "code",
   "execution_count": 28,
   "id": "b760971b-e0c2-46c3-b799-d8cbe6266232",
   "metadata": {},
   "outputs": [
    {
     "name": "stdout",
     "output_type": "stream",
     "text": [
      "Number of states: 79\n"
     ]
    }
   ],
   "source": [
    "# Creating a grid that is the initial grid, but without agents\n",
    "template_state = initial_grid.copy()\n",
    "template_state[template_state==symbol_agent] = 0\n",
    "\n",
    "# Saving the indexes of all empty cells as states (agent can be in anyone of them)\n",
    "states = np.stack(np.where(template_state == 0)).T\n",
    "\n",
    "print(f'Number of states: {len(states)}')"
   ]
  },
  {
   "cell_type": "code",
   "execution_count": 29,
   "id": "e786cee2-7442-4ae6-8a88-f3a0fbe56a9b",
   "metadata": {},
   "outputs": [
    {
     "data": {
      "image/png": "[encoded data removed]",
      "text/plain": [
       "<Figure size 640x480 with 2 Axes>"
      ]
     },
     "metadata": {},
     "output_type": "display_data"
    }
   ],
   "source": [
    "# Initializating values as 0\n",
    "V = np.zeros(len(states))\n",
    "\n",
    "# Setting number of iterations\n",
    "N_iter = 20\n",
    "\n",
    "# Running 'N_iter' iterations of Value Iteration\n",
    "for _ in range(N_iter):\n",
    "\n",
    "    # Creating a temporary vector that will replace V\n",
    "    V_next = V.copy()\n",
    "\n",
    "    # Iterating through all states\n",
    "    for i, state in enumerate(states):\n",
    "\n",
    "        # Build first grid configuration\n",
    "        curr_grid = template_state.copy()\n",
    "        curr_grid[*state] = symbol_agent\n",
    "\n",
    "        # Vector that will save the value for each action\n",
    "        V_actions = []\n",
    "    \n",
    "        for action in ACTIONS:\n",
    "\n",
    "            # Perform action\n",
    "            (next_grid, r, _) = move(action, curr_grid)\n",
    "\n",
    "            # Getting index of the next state \n",
    "            next_agent_pos = get_agent_pos(next_grid)\n",
    "            next_state = np.where((states == next_agent_pos).all(1))[0]\n",
    "\n",
    "            # If next_state is not in the state (its a terminal state), set value as r only\n",
    "            if len(next_state)==0:\n",
    "                V_actions.append(r)\n",
    "\n",
    "            # Else, set value as r + Value of next state\n",
    "            else:\n",
    "                V_actions.append(r + float(V[next_state][0]))\n",
    "\n",
    "        # Saving max(V_actions) as the new iteration for the value function\n",
    "        V_next[i] = np.max(V_actions)\n",
    "\n",
    "    # Replacing old value function with new\n",
    "    V = V_next.copy()\n",
    "\n",
    "    # Plotting everything\n",
    "    value_grid = np.zeros(grid.shape)\n",
    "    for i, state in enumerate(states):\n",
    "        value_grid[*state] = V[i]\n",
    "    plt.subplot(1,2,1)\n",
    "    plot_game(initial_grid)\n",
    "    plt.subplot(1,2,2)\n",
    "    plt.gca().cla()\n",
    "    plt.imshow(value_grid)\n",
    "    plt.title('Value')\n",
    "    plt.show()\n",
    "    time.sleep(0.05)\n",
    "    \n",
    "Value = value_grid"
   ]
  },
  {
   "cell_type": "markdown",
   "id": "527c3fba-fbad-474b-8ecd-e76c38dcf1b8",
   "metadata": {},
   "source": [
    "Now, let's build the policy extracted from $V_k$."
   ]
  },
  {
   "cell_type": "code",
   "execution_count": 30,
   "id": "cf9f2477-8e93-4925-9e2d-dbbe631684c7",
   "metadata": {},
   "outputs": [],
   "source": [
    "def v_iteration_policy(grid, **kwargs):\n",
    "    \n",
    "    # Simulated rewards for all possible actions\n",
    "    sim_values = []\n",
    "\n",
    "    # Simulating all actions\n",
    "    for action in ACTIONS:\n",
    "\n",
    "        # Observes immediate reward\n",
    "        # Note that this movement is not recorded in the 'real game'\n",
    "        (next_grid, r, _) = move(action, grid)\n",
    "        next_pos = get_agent_pos(next_grid)\n",
    "\n",
    "        # Stores immediate reward + Value of next state\n",
    "        sim_values.append(r + Value[*next_pos])\n",
    "\n",
    "    # Transforming it into a numpy array\n",
    "    sim_values = np.array(sim_values)\n",
    "\n",
    "    # Finding actions that maximize the immediate reward + V(next state)\n",
    "    argmax = np.argwhere(sim_values == sim_values.max()).T[0]\n",
    "\n",
    "    # Picking a random action from the maximizers\n",
    "    best_action = np.random.choice(argmax,1)[0]\n",
    "    \n",
    "    return ACTIONS[best_action]"
   ]
  },
  {
   "cell_type": "code",
   "execution_count": 31,
   "id": "1adf2eec-5c6d-45cb-9971-4edf17b23f10",
   "metadata": {},
   "outputs": [
    {
     "data": {
      "image/png": "[encoded data removed]",
      "text/plain": [
       "<Figure size 640x480 with 1 Axes>"
      ]
     },
     "metadata": {},
     "output_type": "display_data"
    },
    {
     "name": "stdout",
     "output_type": "stream",
     "text": [
      "Reached terminal state?: True\n"
     ]
    }
   ],
   "source": [
    "(R_value, terminate) = play(v_iteration_policy, T, Value=Value)\n",
    "print(f'Reached terminal state?: {terminate}')"
   ]
  },
  {
   "cell_type": "markdown",
   "id": "148fdb03",
   "metadata": {},
   "source": [
    "# 3 - Model-Free Learning\n",
    "\n",
    "These algorithms do not rely on any model or simulator for the system dynamics. It must learn from experience "
   ]
  },
  {
   "cell_type": "markdown",
   "id": "ed54e20b",
   "metadata": {},
   "source": [
    "## 3.1 - Random Policy\n",
    "\n",
    "Although this policy does not use knowledge from the system dynamics, it also learns nothing. It is the most simples model-free learning possible.\n",
    "\n",
    "This policy picks a random action in each state: $\\pi(s) \\sim \\mathcal{U}(\\mathcal{A})$"
   ]
  },
  {
   "cell_type": "code",
   "execution_count": 32,
   "id": "8499d3f8",
   "metadata": {},
   "outputs": [],
   "source": [
    "def random_policy(grid, **kwargs):\n",
    "\n",
    "    # Picks a random action from ACTIONS\n",
    "    random_action = np.random.choice(ACTIONS,1)[0]\n",
    "    \n",
    "    return str(random_action)"
   ]
  },
  {
   "cell_type": "code",
   "execution_count": 33,
   "id": "d76d830c",
   "metadata": {},
   "outputs": [
    {
     "data": {
      "image/png": "[encoded data removed]",
      "text/plain": [
       "<Figure size 640x480 with 1 Axes>"
      ]
     },
     "metadata": {},
     "output_type": "display_data"
    },
    {
     "name": "stdout",
     "output_type": "stream",
     "text": [
      "Reached terminal state?: True\n"
     ]
    }
   ],
   "source": [
    "(R_rand, terminate) = play(random_policy, T)\n",
    "print(f'Reached terminal state?: {terminate}')"
   ]
  },
  {
   "cell_type": "markdown",
   "id": "92df8045",
   "metadata": {},
   "source": [
    "## 3.2 - [Q-Learning (Watkins et al)](https://link.springer.com/content/pdf/10.1007/BF00992698.pdf)"
   ]
  },
  {
   "cell_type": "markdown",
   "id": "b91fca3e",
   "metadata": {},
   "source": [
    "This method assumed no knowledge about the environment, but it does require the agent to play many times in the environment.\n",
    "\n",
    "It first builds a matrix $\\hat Q \\in \\mathbb{R}^{|S| \\times |A|}$, such that $\\hat Q(s,a)$ captures how good it is to perform $a$ when in state $s$.\n",
    "\n",
    "Then, we just perform:\n",
    "\n",
    "$$\n",
    "\\pi(s) = \\underset{a \\in \\mathcal{A}}{\\text{argmin}} \\left( \\hat Q(s,a) \\right)\n",
    "$$\n",
    "\n",
    "The trick is learning how to build $\\hat Q$ in the first place."
   ]
  },
  {
   "cell_type": "markdown",
   "id": "48a1f127-0e3e-48d5-8070-e23351e8563a",
   "metadata": {},
   "source": [
    "**Building $\\hat Q$**\n",
    "\n",
    "Starting with $\\hat Q^{(0)}(s,a) = 0, \\forall a,s$ and $s_0 \\in \\mathcal{S}$, we will perform for $t=1,2,...,N_{train}$:\n",
    "\n",
    "- Perform 1 action:\n",
    "\n",
    "$$\n",
    "    a_{t-1} \\sim \\epsilon\\text{-greedy} \\left( \\hat Q^{(t-1)}(s_{t-1},:) \\right)\n",
    "$$\n",
    "\n",
    "$$\n",
    "    s_t \\sim \\mathcal{P}(s_{t-1}, a_{t-1},:)\n",
    "$$\n",
    "\n",
    "$$\n",
    "    r \\sim R(s_{t-1}, a_{t-1})\n",
    "$$\n",
    "\n",
    "- Update $\\hat Q$:\n",
    "  \n",
    "$$\n",
    "    \\hat Q^{(t)}(s_{t-1},a_{t-1}) \\gets (1-\\alpha) \\hat Q^{(t-1)}(s_{t-1},a_{t-1}) + \\alpha \\left( r + \\gamma \\underset{a \\in \\mathcal{A}}{\\text{argmax}} \\left( \\hat Q^{(t-1)}(s_t,a) \\right) \\right)\n",
    "$$\n",
    "\n",
    "It can be shown that $\\hat Q^{(t)}(s,a) \\xrightarrow{t \\rightarrow \\infty} Q^*(s,a), \\forall s,a$"
   ]
  },
  {
   "cell_type": "code",
   "execution_count": 34,
   "id": "35459559",
   "metadata": {},
   "outputs": [],
   "source": [
    "# Hyper-parameters\n",
    "alpha = 0.5\n",
    "N_train = int(2e4)\n",
    "epsilon = 0.2\n",
    "discount = 1\n",
    "\n",
    "# Restarting grid\n",
    "grid = initial_grid\n",
    "\n",
    "# Initializing Q as zeros\n",
    "Q = np.zeros([len(ACTIONS), grid_shape[0], grid_shape[1]])\n",
    "\n",
    "for t in range(N_train):\n",
    "\n",
    "        # S <- agent's current position\n",
    "        S = get_agent_pos(grid)\n",
    "\n",
    "        # Epsilon-Greedy over Q(s,a) to pick a\n",
    "        if np.random.rand() < epsilon:\n",
    "            action = random_policy(grid)\n",
    "            action_idx = ACTIONS.index(action)\n",
    "        else:\n",
    "            action_idx = Q[:, S[0], S[1]].argmax().astype(int)\n",
    "            action = ACTIONS[action_idx]\n",
    "\n",
    "        # Perform action a, get next state and reward\n",
    "        (grid, reward, _) = move(action, grid)\n",
    "        S_next = get_agent_pos(grid)\n",
    "\n",
    "        # Update Q\n",
    "        Q[action_idx, S[0], S[1]] = (1-alpha)*Q[action_idx, S[0], S[1]] + alpha*(reward + discount*Q[:, S_next[0], S_next[1]].max())\n",
    "\n",
    "        # If the state is terminal, start over\n",
    "        if (~np.any(grid == reward_prize)):\n",
    "\n",
    "            # Restarting grid\n",
    "            grid = initial_grid\n",
    "            "
   ]
  },
  {
   "cell_type": "markdown",
   "id": "c71fe465",
   "metadata": {},
   "source": [
    "**Using $\\hat Q$**\n",
    "\n",
    "Now that we have $Q^{(N_{train})}(s,a)$, we can maximize over it as our policy: $ \\pi(s) = \\underset{a \\in \\mathcal{A}}{\\text{argmin}} \\left( \\hat Q^{(N_{train})}(s,a) \\right)$"
   ]
  },
  {
   "cell_type": "code",
   "execution_count": 35,
   "id": "1662a194",
   "metadata": {},
   "outputs": [],
   "source": [
    "def qlearning_policy(grid, **kwargs):\n",
    "\n",
    "    # Get agent's current position\n",
    "    S = get_agent_pos(grid)\n",
    "\n",
    "    # Pick action that maximizes Q at S\n",
    "    best_action = np.argmax(Q[:, *S])\n",
    "    \n",
    "    return ACTIONS[best_action]"
   ]
  },
  {
   "cell_type": "code",
   "execution_count": 36,
   "id": "48008590",
   "metadata": {},
   "outputs": [
    {
     "data": {
      "image/png": "[encoded data removed]",
      "text/plain": [
       "<Figure size 640x480 with 1 Axes>"
      ]
     },
     "metadata": {},
     "output_type": "display_data"
    }
   ],
   "source": [
    "(R_Q, _) = play(qlearning_policy, T, Q=Q)"
   ]
  },
  {
   "cell_type": "markdown",
   "id": "8b89c53c",
   "metadata": {},
   "source": [
    "# 3 - Comparing Policies"
   ]
  },
  {
   "cell_type": "markdown",
   "id": "a19176a8-a43a-4b49-9a55-75dbf3fabe8c",
   "metadata": {},
   "source": [
    "We will now plot the value, $V_{s_0}^{(\\pi)} = \\sum_{t=1}^T R(s_t, a_t)$, where $s_0$ is given and $a_t = \\pi(s_t)$ for policy $\\pi$.\n",
    "\n",
    "In most cases, Q-Learning will be the best performing policy out of the four, at least if ```N_train``` is big enough."
   ]
  },
  {
   "cell_type": "code",
   "execution_count": 37,
   "id": "29c62f67-2978-4d66-afc2-ce4b5007d38d",
   "metadata": {},
   "outputs": [
    {
     "data": {
      "image/png": "[encoded data removed]",
      "text/plain": [
       "<Figure size 1000x700 with 1 Axes>"
      ]
     },
     "metadata": {},
     "output_type": "display_data"
    }
   ],
   "source": [
    "Values =    [sum(R_myopic), sum(R_value),      sum(R_rand), sum(R_next),     sum(R_Q)]\n",
    "Policies = ['Myopic',      'Value Iteration',  'Random',    'Next-Closest', 'Q-Learning']\n",
    "\n",
    "fig, ax = plt.subplots(figsize=(10,7))\n",
    "plt.bar(Policies, Values)\n",
    "plt.title('Comparison between Value of each Policy')\n",
    "plt.xlabel(r'Policy, $\\pi$')\n",
    "plt.ylabel(r'$V_{s_0}^{(\\pi)}$')\n",
    "plt.grid()\n",
    "\n",
    "plt.show()"
   ]
  },
  {
   "cell_type": "markdown",
   "id": "91260024-2113-42c9-bc65-cc76f1e66a04",
   "metadata": {},
   "source": [
    "Feel free to experiment how these results would change if the rewards or dynamics were different."
   ]
  }
 ],
 "metadata": {
  "kernelspec": {
   "display_name": "ass3",
   "language": "python",
   "name": "ass3"
  },
  "language_info": {
   "codemirror_mode": {
    "name": "ipython",
    "version": 3
   },
   "file_extension": ".py",
   "mimetype": "text/x-python",
   "name": "python",
   "nbconvert_exporter": "python",
   "pygments_lexer": "ipython3",
   "version": "3.12.5"
  }
 },
 "nbformat": 4,
 "nbformat_minor": 5
}
