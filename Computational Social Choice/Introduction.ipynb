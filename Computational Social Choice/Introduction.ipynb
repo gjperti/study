{
 "cells": [
  {
   "cell_type": "markdown",
   "metadata": {},
   "source": [
    "# Computational Social Choice\n",
    "\n",
    "This field explores and analyzes methods to aggregate collective choices made by numerous agents in a fair and efficient way. One such example is the 'plurality rule', used to define a president in the majority of the democratic countries."
   ]
  },
  {
   "cell_type": "markdown",
   "metadata": {},
   "source": [
    "## 1. Setting\n",
    "\n",
    "The general setting of a computational social choice problem contains:\n",
    "1. autonomous agents\n",
    "2. a set of items (also called candidates or alternatives)\n",
    "3. some preference of each agent towards each item\n",
    "4. some voting rule that will be used to make a collective choice given the agents' preferences\n",
    "\n",
    "_Example_:\n",
    "- two agents: $a_1$ and $a_2$\n",
    "- three items: A, B and C\n",
    "- $a_1$ might have the following preference $A \\geq B = C$\n",
    "- $a_2$ might have the following preference $A \\geq C \\geq B$\n",
    "- one example of a voting rule is the plurality rule, which means the group will choose the item that appears as a top-ranked choice most frequently (A in our case)\n",
    "\n",
    "Key questions:\n",
    "- how computationally expensive is it to compute collective choices?\n",
    "- what is a rational choice? can we humans rank every set of items according to some underlying preference?\n",
    "- given a voting rule, can votes manipulate their declared preferences in order to rig the voting process and avoid a terrible candidate?"
   ]
  },
  {
   "cell_type": "markdown",
   "metadata": {},
   "source": [
    "## 2. Five Common Voting Rules\n",
    "\n",
    "Before we explore some of the most common voting rules, let's assume that a population of 14 agents has the following preferene profile over items $a,b,c,d$:"
   ]
  },
  {
   "cell_type": "code",
   "execution_count": 41,
   "metadata": {},
   "outputs": [],
   "source": [
    "CANDIDATES = set(['a', 'b', 'c', 'd', 'e'])\n",
    "\n",
    "pref_dic = {\n",
    "    5: ['a', 'c', 'b', 'd', 'e'], # 5 people rank a as highest, then c, ....\n",
    "    4: ['e', 'b', 'c', 'd', 'a'], # 4 people rank e as highest, then b, ....\n",
    "    3: ['d', 'c', 'b', 'e', 'a'], # 3 people rank d as highest, then c, ....\n",
    "    2: ['b', 'd', 'e', 'c', 'a']  # 2 people rank b as highest, then d, ....\n",
    "}"
   ]
  },
  {
   "cell_type": "markdown",
   "metadata": {},
   "source": [
    "#### 2.1 Plurality\n",
    "\n",
    "Pick the candidate that appears most frequently as the top-ranked choice across all agents. Note that this rule compeltely ignores the remaining preference relation (i.e., which candidate is second, third etc)."
   ]
  },
  {
   "cell_type": "code",
   "execution_count": 2,
   "metadata": {},
   "outputs": [
    {
     "name": "stdout",
     "output_type": "stream",
     "text": [
      "Plurality rule yields 'a' as the right choice for the group.\n"
     ]
    }
   ],
   "source": [
    "def plurality(pref_dic):\n",
    "    candidates_prefs = {cand: 0 for cand in CANDIDATES}\n",
    "    for nbr, prefs in pref_dic.items():\n",
    "        candidates_prefs[prefs[0]] += nbr\n",
    "    return max(candidates_prefs, key=candidates_prefs.get)\n",
    "\n",
    "choice = plurality(pref_dic)\n",
    "print(f\"Plurality rule yields '{choice}' as the right choice for the group.\")"
   ]
  },
  {
   "cell_type": "markdown",
   "metadata": {},
   "source": [
    "#### 2.2 Borda's Rule\n",
    "\n",
    "If there are $m$ candidates, ach agent gives a score $m - r$ to the candidate ranked in position $r$, and the candidate with the most votes is chosen.\n",
    "\n",
    "In our example, $m=5$, so 'a' gets $5 \\times (5 - 1) + 9 \\times (5-5) = 20$ points."
   ]
  },
  {
   "cell_type": "code",
   "execution_count": 3,
   "metadata": {},
   "outputs": [
    {
     "name": "stdout",
     "output_type": "stream",
     "text": [
      "scores: {'e': 23, 'b': 36, 'd': 27, 'a': 20, 'c': 34}\n",
      "Borda's Rule yields 'b' as the right choice for the group.\n"
     ]
    }
   ],
   "source": [
    "def bordas(pref_dic):\n",
    "    candidates_prefs = {cand: 0 for cand in CANDIDATES}\n",
    "    for nbr, prefs in pref_dic.items():\n",
    "        for i, cand in enumerate(prefs):\n",
    "            candidates_prefs[cand] += nbr * (5-(i+1))\n",
    "    print(f'scores: {candidates_prefs}')\n",
    "    return max(candidates_prefs, key=candidates_prefs.get)\n",
    "\n",
    "choice = bordas(pref_dic)\n",
    "print(f\"Borda's Rule yields '{choice}' as the right choice for the group.\")"
   ]
  },
  {
   "cell_type": "markdown",
   "metadata": {},
   "source": [
    "#### 2.3 Sequential Majority Comparison (SMC)\n",
    "\n",
    "A plurality rule is applied in a pre-defined sequence of pair-wise comparison.\n",
    "\n",
    "E.g., if the order is ((a vs b) vs c), then first the agents vote on a vs b, and then the winner gets to be compared with c to yield the final choice."
   ]
  },
  {
   "cell_type": "code",
   "execution_count": 15,
   "metadata": {},
   "outputs": [
    {
     "name": "stdout",
     "output_type": "stream",
     "text": [
      "SMC rule yields 'c' as the right choice for the group.\n"
     ]
    }
   ],
   "source": [
    "import numpy as np\n",
    "\n",
    "def smc(pref_dic, order = ['a', 'b', 'c', 'd', 'e']):\n",
    "    prev_winner = order[0]\n",
    "    for i in range(1, len(order)):\n",
    "        tally = [0,0]\n",
    "        pair = [prev_winner, order[i]]\n",
    "        for nbr, prefs in pref_dic.items():\n",
    "            rank1 = prefs.index(pair[0])\n",
    "            rank2 = prefs.index(pair[1])\n",
    "            if rank1 < rank2:\n",
    "                tally[0] += nbr\n",
    "            else:\n",
    "                tally[1] += nbr\n",
    "        prev_winner = pair[np.argmax(tally)]\n",
    "    return prev_winner\n",
    "\n",
    "choice = smc(pref_dic)\n",
    "print(f\"SMC rule yields '{choice}' as the right choice for the group.\")"
   ]
  },
  {
   "cell_type": "markdown",
   "metadata": {},
   "source": [
    "#### 2.4 - Instant-Runoff\n",
    "\n",
    "The candidate with the least amount of top-ranked appearances is deleted, then the voting is done again. This happens until a single candidate is left standing."
   ]
  },
  {
   "cell_type": "code",
   "execution_count": 78,
   "metadata": {},
   "outputs": [
    {
     "name": "stdout",
     "output_type": "stream",
     "text": [
      "Instant-runoff rule yields 'd' as the right choice for the group.\n"
     ]
    }
   ],
   "source": [
    "from copy import deepcopy\n",
    "\n",
    "def plurality_runoff(pref_dic):\n",
    "    to_be_deleted = None\n",
    "    pref_dic_cp = deepcopy(pref_dic)\n",
    "    while len(pref_dic_cp[5])>1:\n",
    "        candidates_prefs = {cand: 0 for cand in pref_dic_cp[5] if cand != to_be_deleted}\n",
    "        for nbr, prefs in pref_dic_cp.items():\n",
    "            if to_be_deleted:\n",
    "                prefs.remove(to_be_deleted)\n",
    "            candidates_prefs[prefs[0]] += nbr\n",
    "        to_be_deleted = min(candidates_prefs, key=candidates_prefs.get)\n",
    "    return max(candidates_prefs, key=candidates_prefs.get)\n",
    "    \n",
    "choice = plurality_runoff(pref_dic)\n",
    "print(f\"Instant-runoff rule yields '{choice}' as the right choice for the group.\")"
   ]
  },
  {
   "cell_type": "markdown",
   "metadata": {},
   "source": [
    "#### 2.5 - Plurality with Runoff\n",
    "\n",
    "First, a plurality rule is applied and the top two candidates face off in a second round."
   ]
  },
  {
   "cell_type": "code",
   "execution_count": 27,
   "metadata": {},
   "outputs": [
    {
     "name": "stdout",
     "output_type": "stream",
     "text": [
      "Plurality rule yields 'e' as the right choice for the group.\n"
     ]
    }
   ],
   "source": [
    "def plurality_runoff(pref_dic):\n",
    "    candidates_prefs = {cand: 0 for cand in CANDIDATES}\n",
    "    for nbr, prefs in pref_dic.items():\n",
    "        candidates_prefs[prefs[0]] += nbr\n",
    "    top_2 = sorted(candidates_prefs, key=candidates_prefs.get, reverse=True)[:2]\n",
    "\n",
    "    candidates_prefs = {cand: 0 for cand in top_2}\n",
    "    for nbr, prefs in pref_dic.items():\n",
    "        rank1 = prefs.index(top_2[0])\n",
    "        rank2 = prefs.index(top_2[1])\n",
    "        if rank1 < rank2:\n",
    "            candidates_prefs[top_2[0]] += nbr\n",
    "        else:\n",
    "            candidates_prefs[top_2[1]] += nbr\n",
    "\n",
    "    return max(candidates_prefs, key=candidates_prefs.get)\n",
    "    \n",
    "choice = plurality_runoff(pref_dic)\n",
    "print(f\"Plurality rule yields '{choice}' as the right choice for the group.\")"
   ]
  },
  {
   "cell_type": "markdown",
   "metadata": {},
   "source": [
    "## Challenges\n",
    "\n",
    "As the previous exercise shows, the same preference profiles can lead to completely different outcomes depending on the voting rule. So, we must come up with a way to measure their fairness and effectiveness.\n"
   ]
  },
  {
   "cell_type": "markdown",
   "metadata": {},
   "source": [
    "# Voting Axioms\n",
    "\n",
    "In Social Choice Theory, we usually define what it means for a voting rule to be 'fair' by checking if it satisfies some common sense axioms. Two of them will be described below.\n",
    "\n",
    "1. *Monotonicity*: If the picked choice is reinforced (i.e., some agents increase its ranking while keeping the other ones constant), then the new picked choice will be the same\n",
    "\n",
    "2. *Pareto-Optimality*: If there is a candidate B that is preferred over candidate A across every single agent, then candidate A cannot be picked."
   ]
  },
  {
   "cell_type": "markdown",
   "metadata": {},
   "source": []
  }
 ],
 "metadata": {
  "kernelspec": {
   "display_name": "rl",
   "language": "python",
   "name": "rl"
  },
  "language_info": {
   "codemirror_mode": {
    "name": "ipython",
    "version": 3
   },
   "file_extension": ".py",
   "mimetype": "text/x-python",
   "name": "python",
   "nbconvert_exporter": "python",
   "pygments_lexer": "ipython3",
   "version": "3.10.15"
  }
 },
 "nbformat": 4,
 "nbformat_minor": 2
}
