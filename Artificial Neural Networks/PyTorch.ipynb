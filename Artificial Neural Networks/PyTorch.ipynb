{
 "cells": [
  {
   "cell_type": "markdown",
   "id": "0ecb9088-1ce6-4bab-a703-daab36667775",
   "metadata": {},
   "source": [
    "# PyTorch\n",
    "\n",
    "PyTorch is a ubiquitous deep learning framework for Python. It was developed by Meta AI and is currently maintained by the Linux Foundation.\n",
    "\n",
    "Just like the basic element being manipulated in NumPy is an nd.array, PyTorch deals mostly with tensors. A tensor is a multi-dimensional array of numbers, and tensor operations (e.g. multiplication) have strong GPU support in PyTorch, which makes it very fast."
   ]
  },
  {
   "cell_type": "markdown",
   "id": "24bf9855-e352-4bb6-9427-5e75a6ba23d2",
   "metadata": {},
   "source": [
    "# 1. Creating Tensors\n",
    "Let's first learn to initialize a tensor."
   ]
  },
  {
   "cell_type": "code",
   "execution_count": 1,
   "id": "01ccbe91-6d3a-42e0-b0b2-3b1102919387",
   "metadata": {},
   "outputs": [
    {
     "name": "stdout",
     "output_type": "stream",
     "text": [
      "- scalar: \n",
      "tensor([0.]), torch.Size([1])\n",
      "\n",
      "- list: \n",
      "tensor([0., 0., 0., 0., 0.]), torch.Size([5])\n",
      "\n",
      "- vector: \n",
      "tensor([[0.],\n",
      "        [0.],\n",
      "        [0.],\n",
      "        [0.],\n",
      "        [0.]]), torch.Size([5, 1])\n",
      "\n",
      "- matrix: \n",
      "tensor([[0., 0.],\n",
      "        [0., 0.],\n",
      "        [0., 0.],\n",
      "        [0., 0.]]), torch.Size([4, 2])\n",
      "\n",
      "- 3-d tensor: \n",
      "tensor([[[0., 0., 0., 0.],\n",
      "         [0., 0., 0., 0.]],\n",
      "\n",
      "        [[0., 0., 0., 0.],\n",
      "         [0., 0., 0., 0.]],\n",
      "\n",
      "        [[0., 0., 0., 0.],\n",
      "         [0., 0., 0., 0.]],\n",
      "\n",
      "        [[0., 0., 0., 0.],\n",
      "         [0., 0., 0., 0.]]]), torch.Size([4, 2, 4])\n",
      "\n"
     ]
    }
   ],
   "source": [
    "import torch\n",
    "\n",
    "# Creating a tensor of shape=1 with one element (scalar)\n",
    "t1 = torch.zeros(1)\n",
    "print(f'- scalar: \\n{t1}, {t1.shape}\\n')\n",
    "\n",
    "# Creating a tensor of shape=1 with multiple elements (list)\n",
    "t2 = torch.zeros(5)\n",
    "print(f'- list: \\n{t2}, {t2.shape}\\n')\n",
    "\n",
    "# Creating a tensor of shape=2 with one column (vector)\n",
    "t3 = torch.zeros(5,1)\n",
    "print(f'- vector: \\n{t3}, {t3.shape}\\n')\n",
    "\n",
    "# Creating a tensor of shape=2 with multiple columns (matrix)\n",
    "t4 = torch.zeros(4,2)\n",
    "print(f'- matrix: \\n{t4}, {t4.shape}\\n')\n",
    "\n",
    "# Creating a tensor of shape=3 (3-d tensor)\n",
    "t5 = torch.zeros(4,2,4)\n",
    "print(f'- 3-d tensor: \\n{t5}, {t5.shape}\\n')\n"
   ]
  },
  {
   "cell_type": "markdown",
   "id": "d341058d-461e-4c02-9f01-04e54170e791",
   "metadata": {},
   "source": [
    "We can obviously initialize a tensor with zeros, ones and random numbers as well.\n",
    "The same arguments as above can be used to create tensors of different shapes and dimensions."
   ]
  },
  {
   "cell_type": "code",
   "execution_count": 2,
   "id": "0cc69177-24ad-4856-a272-8c94efbc372a",
   "metadata": {},
   "outputs": [
    {
     "data": {
      "text/plain": [
       "tensor([[1.],\n",
       "        [1.],\n",
       "        [1.]])"
      ]
     },
     "execution_count": 2,
     "metadata": {},
     "output_type": "execute_result"
    }
   ],
   "source": [
    "# Tensor of 1s\n",
    "torch.ones(3,1)"
   ]
  },
  {
   "cell_type": "code",
   "execution_count": 3,
   "id": "d3b257d0-eab0-407a-9699-022fdb10504e",
   "metadata": {},
   "outputs": [
    {
     "data": {
      "text/plain": [
       "tensor([[[0.6285, 0.0801, 0.8471, 0.9713],\n",
       "         [0.5111, 0.4222, 0.1517, 0.8243]],\n",
       "\n",
       "        [[0.8393, 0.9194, 0.5662, 0.4095],\n",
       "         [0.9963, 0.9323, 0.0046, 0.2094]],\n",
       "\n",
       "        [[0.7417, 0.4106, 0.8642, 0.9888],\n",
       "         [0.2480, 0.2471, 0.6250, 0.9146]],\n",
       "\n",
       "        [[0.6358, 0.7061, 0.9771, 0.1118],\n",
       "         [0.1496, 0.8927, 0.8932, 0.1767]],\n",
       "\n",
       "        [[0.6152, 0.6130, 0.4162, 0.6864],\n",
       "         [0.6391, 0.3714, 0.0926, 0.0037]]])"
      ]
     },
     "execution_count": 3,
     "metadata": {},
     "output_type": "execute_result"
    }
   ],
   "source": [
    "# Tensor of unif. sampled values from 0 to 1\n",
    "torch.rand(5,2,4)"
   ]
  },
  {
   "cell_type": "markdown",
   "id": "5a9a2c1c-2a3e-477f-88e2-30002e236ee1",
   "metadata": {},
   "source": [
    "Finally, we can convert a list into a tensor using torch.tensor"
   ]
  },
  {
   "cell_type": "code",
   "execution_count": 4,
   "id": "718ed962-9e32-4be1-8e65-2f80d6261373",
   "metadata": {},
   "outputs": [
    {
     "data": {
      "text/plain": [
       "tensor([ 1,  2,  9, -1])"
      ]
     },
     "execution_count": 4,
     "metadata": {},
     "output_type": "execute_result"
    }
   ],
   "source": [
    "torch.tensor([1,2,9,-1])"
   ]
  },
  {
   "cell_type": "markdown",
   "id": "bbfa7800-f1a2-46bc-814f-beff0434a099",
   "metadata": {},
   "source": [
    "### Changing Tensors Data Types ###\n",
    "\n",
    "Note that all tensors so far have float values. We can change this using tensor.type"
   ]
  },
  {
   "cell_type": "code",
   "execution_count": 5,
   "id": "83318421-6b1a-49df-9e2e-146405df1731",
   "metadata": {},
   "outputs": [
    {
     "name": "stdout",
     "output_type": "stream",
     "text": [
      "tensor([[0.9203, 0.3194, 0.8026]]) -> torch.float32\n"
     ]
    }
   ],
   "source": [
    "t = torch.rand(1,3)\n",
    "print(f'{t} -> {t.dtype}')"
   ]
  },
  {
   "cell_type": "code",
   "execution_count": 6,
   "id": "b8fa9743-14c8-4528-8b72-bbdc9b10b159",
   "metadata": {},
   "outputs": [
    {
     "name": "stdout",
     "output_type": "stream",
     "text": [
      "tensor([[0.9203, 0.3194, 0.8026]]) -> torch.float64\n"
     ]
    }
   ],
   "source": [
    "t_int = t.type(torch.double)\n",
    "print(f'{t} -> {t_int.dtype}')"
   ]
  },
  {
   "cell_type": "code",
   "execution_count": 7,
   "id": "63781896-2ec8-4be7-9b53-7f0365df5b7c",
   "metadata": {},
   "outputs": [
    {
     "name": "stdout",
     "output_type": "stream",
     "text": [
      "tensor([[0.9203, 0.3194, 0.8026]]) -> torch.int32\n"
     ]
    }
   ],
   "source": [
    "t_int = t.type(torch.int)\n",
    "print(f'{t} -> {t_int.dtype}')"
   ]
  },
  {
   "cell_type": "code",
   "execution_count": 8,
   "id": "168ae61d-59e3-4f5d-acc4-c44d0a36654d",
   "metadata": {},
   "outputs": [
    {
     "name": "stdout",
     "output_type": "stream",
     "text": [
      "tensor([[0.9203, 0.3194, 0.8026]]) -> torch.int64\n"
     ]
    }
   ],
   "source": [
    "t_int = t.type(torch.long)\n",
    "print(f'{t} -> {t_int.dtype}')"
   ]
  },
  {
   "cell_type": "markdown",
   "id": "134123b7-f62f-4d00-9cf1-8d0f99a448ad",
   "metadata": {},
   "source": [
    "# 2. Basic Operations\n"
   ]
  },
  {
   "cell_type": "code",
   "execution_count": 9,
   "id": "e172e233-0ab5-4b80-9e81-7874897b641b",
   "metadata": {},
   "outputs": [
    {
     "name": "stdout",
     "output_type": "stream",
     "text": [
      "t1: tensor([[0.1750, 0.9092, 0.7823]])\n"
     ]
    }
   ],
   "source": [
    "t1 = torch.rand(1,3)\n",
    "print(f't1: {t1}')"
   ]
  },
  {
   "cell_type": "code",
   "execution_count": 10,
   "id": "eac55ff7-00cf-4393-ab2f-ac33a76c544d",
   "metadata": {},
   "outputs": [
    {
     "name": "stdout",
     "output_type": "stream",
     "text": [
      "t2: tensor([[0.7202, 0.7435, 0.9428]])\n"
     ]
    }
   ],
   "source": [
    "t2 = torch.rand(1,3)\n",
    "print(f't2: {t2}')"
   ]
  },
  {
   "cell_type": "code",
   "execution_count": 11,
   "id": "ebe312fe-5f6c-415e-95b0-a02abaa6676e",
   "metadata": {},
   "outputs": [
    {
     "name": "stdout",
     "output_type": "stream",
     "text": [
      "addition: t1 + t2 = tensor([[0.8952, 1.6527, 1.7251]])\n",
      "\n",
      "subtraction: t1 - t2 = tensor([[-0.5451,  0.1657, -0.1605]])\n",
      "\n",
      "element-wise product: t1 .* t2 = tensor([[0.1261, 0.6760, 0.7376]])\n",
      "\n",
      "element-wise division: t1 ./ t2 = tensor([[0.2431, 1.2229, 0.8298]])\n",
      "\n"
     ]
    }
   ],
   "source": [
    "print(f'addition: t1 + t2 = {t1 + t2}\\n')\n",
    "\n",
    "print(f'subtraction: t1 - t2 = {t1 - t2}\\n')\n",
    "\n",
    "print(f'element-wise product: t1 .* t2 = {t1 * t2}\\n')\n",
    "\n",
    "print(f'element-wise division: t1 ./ t2 = {t1 / t2}\\n')"
   ]
  },
  {
   "cell_type": "markdown",
   "id": "3aba2bb0-8813-40ee-b0c2-c5bc6625936c",
   "metadata": {},
   "source": [
    "The dot product is only defined for 1-D tensors. Therefore, we need to flatten t1 and t2"
   ]
  },
  {
   "cell_type": "code",
   "execution_count": 12,
   "id": "0b21764a-e5ce-48b6-aa4b-8ef361a27d54",
   "metadata": {},
   "outputs": [
    {
     "name": "stdout",
     "output_type": "stream",
     "text": [
      "dot product: <t1,t2> = 1.5395761728286743\n",
      "\n"
     ]
    }
   ],
   "source": [
    "t1 = t1.squeeze()\n",
    "t2 = t2.squeeze()\n",
    "\n",
    "print(f'dot product: <t1,t2> = {torch.dot(t1, t2)}\\n')"
   ]
  },
  {
   "cell_type": "markdown",
   "id": "bc4c8e95-5f13-4064-9c93-89cdb5f709b7",
   "metadata": {},
   "source": [
    "Transpose can be easily done with .T, but the tensors must be 2-D"
   ]
  },
  {
   "cell_type": "code",
   "execution_count": 13,
   "id": "e1dd7728-82b9-4d09-9d0a-3acd251bbe09",
   "metadata": {},
   "outputs": [
    {
     "name": "stdout",
     "output_type": "stream",
     "text": [
      "tensor([0.2896, 0.5563, 0.4948])\n",
      "tensor([0.2896, 0.5563, 0.4948])\n"
     ]
    },
    {
     "name": "stderr",
     "output_type": "stream",
     "text": [
      "/var/folders/45/871v_dk90997hj5g88_1z7tr0000gn/T/ipykernel_2814/2248846859.py:4: UserWarning: The use of `x.T` on tensors of dimension other than 2 to reverse their shape is deprecated and it will throw an error in a future release. Consider `x.mT` to transpose batches of matrices or `x.permute(*torch.arange(x.ndim - 1, -1, -1))` to reverse the dimensions of a tensor. (Triggered internally at /Users/runner/work/pytorch/pytorch/pytorch/aten/src/ATen/native/TensorShape.cpp:3687.)\n",
      "  print(t.T)\n"
     ]
    }
   ],
   "source": [
    "# List\n",
    "t = torch.rand(3)\n",
    "print(t)\n",
    "print(t.T)"
   ]
  },
  {
   "cell_type": "code",
   "execution_count": 14,
   "id": "54650845-8e5c-4a90-82e2-f3e3bc575ba2",
   "metadata": {},
   "outputs": [
    {
     "name": "stdout",
     "output_type": "stream",
     "text": [
      "tensor([[0.8409, 0.9538, 0.5117, 0.1530]])\n",
      "tensor([[0.8409],\n",
      "        [0.9538],\n",
      "        [0.5117],\n",
      "        [0.1530]])\n"
     ]
    }
   ],
   "source": [
    "# Vector\n",
    "t = torch.rand(1,4)\n",
    "print(t)\n",
    "print(t.T)"
   ]
  },
  {
   "cell_type": "code",
   "execution_count": 15,
   "id": "5d6239a8-2d65-4be3-bacb-3d387fc80faa",
   "metadata": {},
   "outputs": [
    {
     "name": "stdout",
     "output_type": "stream",
     "text": [
      "tensor([[0.5221, 0.5084, 0.5487, 0.9452],\n",
      "        [0.6070, 0.6775, 0.8995, 0.0872]])\n",
      "tensor([[0.5221, 0.6070],\n",
      "        [0.5084, 0.6775],\n",
      "        [0.5487, 0.8995],\n",
      "        [0.9452, 0.0872]])\n"
     ]
    }
   ],
   "source": [
    "# Matrix\n",
    "t = torch.rand(2,4)\n",
    "print(t)\n",
    "print(t.T)"
   ]
  },
  {
   "cell_type": "code",
   "execution_count": 16,
   "id": "0baf7377-2e89-46de-9725-d2282b30e2f1",
   "metadata": {},
   "outputs": [
    {
     "name": "stdout",
     "output_type": "stream",
     "text": [
      "tensor([[[0.7430, 0.6094, 0.9116],\n",
      "         [0.0425, 0.5221, 0.9946],\n",
      "         [0.9525, 0.0013, 0.9133],\n",
      "         [0.9508, 0.2101, 0.7193]],\n",
      "\n",
      "        [[0.6168, 0.5844, 0.9384],\n",
      "         [0.3413, 0.4368, 0.7137],\n",
      "         [0.5756, 0.6314, 0.5133],\n",
      "         [0.6859, 0.4566, 0.2353]]])\n",
      "tensor([[[0.7430, 0.6168],\n",
      "         [0.0425, 0.3413],\n",
      "         [0.9525, 0.5756],\n",
      "         [0.9508, 0.6859]],\n",
      "\n",
      "        [[0.6094, 0.5844],\n",
      "         [0.5221, 0.4368],\n",
      "         [0.0013, 0.6314],\n",
      "         [0.2101, 0.4566]],\n",
      "\n",
      "        [[0.9116, 0.9384],\n",
      "         [0.9946, 0.7137],\n",
      "         [0.9133, 0.5133],\n",
      "         [0.7193, 0.2353]]])\n"
     ]
    }
   ],
   "source": [
    "# Tensor\n",
    "t = torch.rand(2,4,3)\n",
    "print(t)\n",
    "print(t.T)"
   ]
  },
  {
   "cell_type": "markdown",
   "id": "e4985ff1-445d-41a8-bb2f-074f0079a791",
   "metadata": {},
   "source": [
    "If the dimensions match, we can also use @ or torch.matmul for matrix multiplication."
   ]
  },
  {
   "cell_type": "code",
   "execution_count": 17,
   "id": "5c3ed473-b4c3-4073-8a23-4b5f4f15bde4",
   "metadata": {},
   "outputs": [
    {
     "data": {
      "text/plain": [
       "tensor([[0.5539, 0.1832],\n",
       "        [1.2856, 0.4638],\n",
       "        [0.8821, 0.3677],\n",
       "        [2.4266, 1.2929]])"
      ]
     },
     "execution_count": 17,
     "metadata": {},
     "output_type": "execute_result"
    }
   ],
   "source": [
    "t1 = torch.rand(4,3)\n",
    "t2 = torch.rand(3,2)\n",
    "\n",
    "t1 @ t2"
   ]
  },
  {
   "cell_type": "markdown",
   "id": "ec5b0225-f837-4525-8fc7-a230216ab161",
   "metadata": {},
   "source": [
    "# 3. Broadcasting\n",
    "\n",
    "Like in NumPy, if the dimensions of some operations do not match (e.g. addition of scalar and vector), PyTorch tries to stretch one of the tensors to make everything work."
   ]
  },
  {
   "cell_type": "code",
   "execution_count": 18,
   "id": "a73a859d-30b4-4089-8980-b1bc565ba2d1",
   "metadata": {},
   "outputs": [
    {
     "name": "stdout",
     "output_type": "stream",
     "text": [
      "t1 = tensor([1.])\n",
      "\n",
      "t2 = tensor([[0.9257, 0.0668, 0.1409, 0.7467, 0.5037],\n",
      "        [0.1641, 0.4604, 0.1349, 0.3702, 0.4914]])\n",
      "\n",
      "t1 + t2 = tensor([[1.9257, 1.0668, 1.1409, 1.7467, 1.5037],\n",
      "        [1.1641, 1.4604, 1.1349, 1.3702, 1.4914]])\n"
     ]
    }
   ],
   "source": [
    "t1 = torch.ones(1)\n",
    "t2 = torch.rand(2,5)\n",
    "\n",
    "print(f't1 = {t1}\\n')\n",
    "print(f't2 = {t2}\\n')\n",
    "print(f't1 + t2 = {t2 + t1}')"
   ]
  },
  {
   "cell_type": "code",
   "execution_count": 19,
   "id": "1aff2533-9870-45f7-b603-d3c651358cfd",
   "metadata": {},
   "outputs": [
    {
     "name": "stdout",
     "output_type": "stream",
     "text": [
      "t1 = tensor([[1., 1., 1.]])\n",
      "\n",
      "t2 = tensor([[0.9792],\n",
      "        [0.3334],\n",
      "        [0.1550]])\n",
      "\n",
      "t1 + t2 = tensor([[1.9792, 1.9792, 1.9792],\n",
      "        [1.3334, 1.3334, 1.3334],\n",
      "        [1.1550, 1.1550, 1.1550]])\n"
     ]
    }
   ],
   "source": [
    "t1 = torch.ones(1,3)\n",
    "t2 = torch.rand(3,1)\n",
    "\n",
    "print(f't1 = {t1}\\n') # becomes ones(3,3)\n",
    "print(f't2 = {t2}\\n') # becomes 3 columns of t2 stacked\n",
    "print(f't1 + t2 = {t2 + t1}')"
   ]
  },
  {
   "cell_type": "markdown",
   "id": "c6d893ec-f34b-4790-9408-719ca3f72b9f",
   "metadata": {},
   "source": [
    "# 3. Device\n",
    "\n",
    "If GPU(s) are available, then we can use torch.device to create a device object and then either and then either move "
   ]
  },
  {
   "cell_type": "code",
   "execution_count": 20,
   "id": "ee2dbefd-adc6-418f-84d8-88c370fae505",
   "metadata": {},
   "outputs": [
    {
     "data": {
      "text/plain": [
       "device(type='cpu')"
      ]
     },
     "execution_count": 20,
     "metadata": {},
     "output_type": "execute_result"
    }
   ],
   "source": [
    "device = torch.device('cuda' if torch.cuda.is_available() else 'cpu')\n",
    "device"
   ]
  },
  {
   "cell_type": "code",
   "execution_count": 21,
   "id": "26998dde-0d72-418b-9319-ca3774e1d880",
   "metadata": {},
   "outputs": [
    {
     "data": {
      "text/plain": [
       "tensor([[0.9599, 0.8938],\n",
       "        [0.6229, 0.4873],\n",
       "        [0.8177, 0.3606]])"
      ]
     },
     "execution_count": 21,
     "metadata": {},
     "output_type": "execute_result"
    }
   ],
   "source": [
    "# Creating x on CPU, then sending to device\n",
    "x = torch.rand(3,2)\n",
    "x.to(device)"
   ]
  },
  {
   "cell_type": "code",
   "execution_count": 22,
   "id": "5da8ba5c-8636-4347-ab41-9297c314a3ca",
   "metadata": {},
   "outputs": [],
   "source": [
    "# Creating x on device\n",
    "x = torch.rand(3,2, device=device)"
   ]
  },
  {
   "cell_type": "markdown",
   "id": "4539e1d4-6727-4db8-b3f9-dc26eacee5a2",
   "metadata": {},
   "source": [
    "# 3. Gradients \n",
    "\n",
    "In PyTorch, tensors can be built in a way that gradients of future operations are stored. This enables the famous backpropagation algorithm to tweak weights based on some gradient descent variation of the gradient of a loss function w.r.t each weight."
   ]
  },
  {
   "cell_type": "code",
   "execution_count": 23,
   "id": "0940c6ed-724a-483f-96dd-7925d048cdd2",
   "metadata": {},
   "outputs": [
    {
     "name": "stdout",
     "output_type": "stream",
     "text": [
      "tensor([0.1483], requires_grad=True)\n",
      "None\n"
     ]
    }
   ],
   "source": [
    "# By default, requires_grad=False\n",
    "t1 = torch.rand(1, requires_grad=True)\n",
    "print(t1)\n",
    "print(t1.grad)"
   ]
  },
  {
   "cell_type": "code",
   "execution_count": 24,
   "id": "6c5cc75a-201d-4c0b-bd35-5002ab4993ac",
   "metadata": {},
   "outputs": [
    {
     "name": "stdout",
     "output_type": "stream",
     "text": [
      "tensor([0.2966], grad_fn=<MulBackward0>)\n",
      "tensor([2.])\n"
     ]
    }
   ],
   "source": [
    "# At first, t1.grad is None. For it to be computed, we must perform some operation with it....\n",
    "y = t1 * 2\n",
    "print(y)\n",
    "\n",
    "#... and run y.backward() to explicitly calculate the gradients...\n",
    "y.backward()\n",
    "\n",
    "#... then finally find the gradient\n",
    "print(t1.grad)"
   ]
  },
  {
   "cell_type": "markdown",
   "id": "ebbedf55-f50c-4d37-8ef1-e164103f6edb",
   "metadata": {},
   "source": [
    "Note that dy/dt1 = 2, so the gradient is correct, and that y must be a scalar for it to work."
   ]
  },
  {
   "cell_type": "markdown",
   "id": "32cb38c9-4c2e-4813-a885-765a9100c814",
   "metadata": {},
   "source": [
    "# 4. Simple Training Loop: Linear Regression"
   ]
  },
  {
   "cell_type": "markdown",
   "id": "8eae239e-f300-42e6-9a1f-c0aa4be73bc3",
   "metadata": {},
   "source": [
    "Now, let's run a simple linear regression using gradient descent."
   ]
  },
  {
   "cell_type": "code",
   "execution_count": 25,
   "id": "6c176a02-aa0e-454b-a42e-06fc7e8d8c06",
   "metadata": {},
   "outputs": [
    {
     "data": {
      "image/png": "[encoded data removed]",
      "text/plain": [
       "<Figure size 640x480 with 1 Axes>"
      ]
     },
     "metadata": {},
     "output_type": "display_data"
    },
    {
     "data": {
      "image/png": "[encoded data removed]",
      "text/plain": [
       "<Figure size 640x480 with 1 Axes>"
      ]
     },
     "metadata": {},
     "output_type": "display_data"
    }
   ],
   "source": [
    "import matplotlib.pyplot as plt\n",
    "import numpy as np\n",
    "\n",
    "# Generating Data\n",
    "N = 1000\n",
    "x = torch.rand(N,1)             # input\n",
    "w_true = torch.tensor([[-20.91]]) # true weight\n",
    "b_true = torch.tensor([[100.42]]) # true bias\n",
    "y = x@w_true + b_true           # output with true weight and bias\n",
    "\n",
    "# Weights\n",
    "w = torch.zeros(1,1, requires_grad=True)\n",
    "b = torch.zeros(1,1, requires_grad=True)\n",
    "\n",
    "# Hyperparameter\n",
    "lr = 1e-1\n",
    "n_epochs = 300\n",
    "\n",
    "# Plotting colors\n",
    "colors = plt.cm.cool(np.linspace(0,1,n_epochs))\n",
    "\n",
    "# Empty lists to store values for w and b\n",
    "ws = []\n",
    "bs = []\n",
    "\n",
    "# Performing gradient descent n_epochs-times\n",
    "for i in range(n_epochs):\n",
    "\n",
    "    # find y_pred with current w and b\n",
    "    y_pred = x@w + b\n",
    "\n",
    "    # calculate MSE loss\n",
    "    loss = ((y - y_pred)**2).mean()\n",
    "\n",
    "    # backpropagate loss\n",
    "    loss.backward()\n",
    "\n",
    "    # update weights (without saving operation in grad)\n",
    "    with torch.no_grad():\n",
    "        w -= lr*w.grad\n",
    "        b -= lr*b.grad\n",
    "\n",
    "    # zeroing the gradients (otherwise, they accumulate)\n",
    "    w.grad.zero_()\n",
    "    b.grad.zero_()\n",
    "\n",
    "    # Save values and plot line\n",
    "    ws.append(w.item())\n",
    "    bs.append(b.item())\n",
    "    plt.plot(x,y_pred.detach(), color=colors[i], linewidth=0.5)\n",
    "\n",
    "plt.plot(x,y, c='black', label='true line', linewidth=3)\n",
    "plt.xlabel('x')\n",
    "plt.ylabel('y')\n",
    "plt.title('Evolution of Curve (w*x+b) over Epochs')\n",
    "plt.legend()\n",
    "plt.show()\n",
    "\n",
    "# Plotting ws and bs over epochs\n",
    "plt.plot(ws, label='w')\n",
    "plt.plot(bs, label='b')\n",
    "plt.hlines(w_true.item(), 0, n_epochs, label='true w', color='blue', linestyle='dashed')\n",
    "plt.hlines(b_true.item(), 0, n_epochs, label='true b', color='orange', linestyle='dashed')\n",
    "plt.xlabel('Epochs')\n",
    "plt.title('Values of w and b after each Epoch')\n",
    "plt.legend()\n",
    "plt.show()"
   ]
  },
  {
   "cell_type": "markdown",
   "id": "9600e303-2222-418d-bf63-c390e1a0c5ca",
   "metadata": {},
   "source": [
    "# 5. A More Realistic Training Loop\n",
    "\n",
    "We'll now use the famous MNIST dataset as a toy example to showcase how PyTorch's training loop works.\n",
    "\n",
    "First, we'll import the mnist training and test data."
   ]
  },
  {
   "cell_type": "code",
   "execution_count": 26,
   "id": "dadee50f-47d9-4ba0-901d-4e844c54f8ef",
   "metadata": {},
   "outputs": [
    {
     "name": "stderr",
     "output_type": "stream",
     "text": [
      "/Users/user1/Desktop/MSc. Machine Learning, Systems and Control/study/venv/lib/python3.10/site-packages/tqdm/auto.py:21: TqdmWarning: IProgress not found. Please update jupyter and ipywidgets. See https://ipywidgets.readthedocs.io/en/stable/user_install.html\n",
      "  from .autonotebook import tqdm as notebook_tqdm\n"
     ]
    },
    {
     "name": "stdout",
     "output_type": "stream",
     "text": [
      "train size: 60000\n",
      "train size: 10000\n"
     ]
    }
   ],
   "source": [
    "from datasets import load_dataset\n",
    "\n",
    "train = load_dataset(\"ylecun/mnist\", split=\"train\")\n",
    "print(f'train size: {len(train)}')\n",
    "\n",
    "test = load_dataset(\"ylecun/mnist\", split=\"test\")\n",
    "print(f'train size: {len(test)}')"
   ]
  },
  {
   "cell_type": "markdown",
   "id": "5adccfb2-86ee-435a-8fef-c81eec7c8078",
   "metadata": {},
   "source": [
    "We will now build a PyTorch Dataset with this data. The Dataset is used to transform the PIL images into a PyTorch tensor."
   ]
  },
  {
   "cell_type": "code",
   "execution_count": 28,
   "id": "338f4e56-180f-4a8c-a1d7-8666ba566e34",
   "metadata": {},
   "outputs": [],
   "source": [
    "from torch.utils.data import DataLoader, Dataset\n",
    "from torchvision.transforms import ToTensor\n",
    "from tqdm import tqdm\n",
    "from torch import nn\n",
    "\n",
    "# Custom PyTorch Dataset wrapper for the Hugging Face dataset\n",
    "class MNISTDataset(Dataset):\n",
    "    def __init__(self, dataset):\n",
    "        self.dataset = dataset\n",
    "        self.transform = ToTensor()\n",
    "\n",
    "    def __len__(self):\n",
    "        return len(self.dataset)\n",
    "\n",
    "    def __getitem__(self, idx):\n",
    "        # Convert dataset samples to PyTorch tensors\n",
    "        data = self.dataset[idx]\n",
    "        image = self.transform(data['image']).squeeze(1)  # Normalize to [0, 1] and add channel dimension\n",
    "        label = torch.tensor(data['label'], dtype=torch.long)\n",
    "        return image, label"
   ]
  },
  {
   "cell_type": "markdown",
   "id": "00191356-90b0-4d76-9ab6-d74981a43c02",
   "metadata": {},
   "source": [
    "We now create a train and test dataset"
   ]
  },
  {
   "cell_type": "code",
   "execution_count": 29,
   "id": "40e1ee1b-373b-4c4f-be23-4a63c77e9f94",
   "metadata": {},
   "outputs": [],
   "source": [
    "train_data = MNISTDataset(train)\n",
    "test_data = MNISTDataset(test)"
   ]
  },
  {
   "cell_type": "markdown",
   "id": "5b5da399-c808-4dd7-a851-b10b07b64fd0",
   "metadata": {},
   "source": [
    "We now build a DataLoader with these datasets. The DataLoader will create shuffled batches of (images, labels), which will be loaded until the entire dataset has been seen (i.e. an epoch as has passed)."
   ]
  },
  {
   "cell_type": "code",
   "execution_count": 30,
   "id": "8b215b81-64e5-40a2-80b1-da1816a3c29d",
   "metadata": {},
   "outputs": [],
   "source": [
    "train_dl = DataLoader(train_data, batch_size=32, shuffle=True)\n",
    "test_dl = DataLoader(test_data, batch_size=32, shuffle=True)"
   ]
  },
  {
   "cell_type": "markdown",
   "id": "b06dc94b-0e20-4607-8bb5-58379083f02d",
   "metadata": {},
   "source": [
    "We now create the CNN with a sequence of three convolution blocks (Conv + Pool + ReLU), followed by a simple flatenning and 2 lienar layers."
   ]
  },
  {
   "cell_type": "code",
   "execution_count": 41,
   "id": "ec4a6326-a84e-47f3-a63f-612cf2b0e7e0",
   "metadata": {},
   "outputs": [
    {
     "name": "stdout",
     "output_type": "stream",
     "text": [
      "# params: 6218\n"
     ]
    }
   ],
   "source": [
    "class CNet(nn.Module):\n",
    "    \n",
    "    def __init__(self):\n",
    "        super().__init__()\n",
    "        self.model = nn.Sequential(\n",
    "            \n",
    "            nn.Conv2d(1, 8, 3),\n",
    "            nn.MaxPool2d(2,2),\n",
    "            nn.ReLU(),\n",
    "            \n",
    "            nn.Conv2d(8, 16, 3),\n",
    "            nn.MaxPool2d(2,2),\n",
    "            nn.ReLU(),\n",
    "            \n",
    "            nn.Conv2d(16, 32, 3),\n",
    "            nn.MaxPool2d(2,2),\n",
    "            nn.ReLU(),\n",
    "            \n",
    "            nn.Flatten(1),\n",
    "            nn.Linear(32, 10),\n",
    "\n",
    "        )\n",
    "\n",
    "    def forward(self, image):\n",
    "        return self.model(image)\n",
    "\n",
    "model = CNet()\n",
    "print(f'# params: {np.sum([p.numel() for p in model.parameters()])}')"
   ]
  },
  {
   "cell_type": "markdown",
   "id": "4294aa8f-e455-44c3-9094-88f0a828dbb5",
   "metadata": {},
   "source": [
    "We now initialize PyTorch's implementation of the Cross Entropy loss and the Adam optimizer"
   ]
  },
  {
   "cell_type": "code",
   "execution_count": 42,
   "id": "9f5e7ba9-a87c-4a13-a9d7-fecac083ab55",
   "metadata": {},
   "outputs": [],
   "source": [
    "loss_fn = nn.CrossEntropyLoss()\n",
    "optim = torch.optim.Adam(model.parameters(), lr=1e-4)"
   ]
  },
  {
   "cell_type": "markdown",
   "id": "7f0542a7-b26b-41b8-bb90-4570db5c9e79",
   "metadata": {},
   "source": [
    "Finally, we can train the model using a simple loop."
   ]
  },
  {
   "cell_type": "code",
   "execution_count": 43,
   "id": "74904611-3330-4ac7-80d4-246c45705aa3",
   "metadata": {},
   "outputs": [
    {
     "name": "stderr",
     "output_type": "stream",
     "text": [
      "\n",
      "\n",
      "00%|████████████████████████████████████████| 313/313 [00:00<00:00, 314.61it/s]"
     ]
    },
    {
     "name": "stdout",
     "output_type": "stream",
     "text": [
      "1/10 -> training loss: 0.587311863899231 | test loss: 0.4771125042400421\n"
     ]
    },
    {
     "name": "stderr",
     "output_type": "stream",
     "text": [
      "\n",
      "\n",
      "00%|████████████████████████████████████████| 313/313 [00:00<00:00, 313.33it/s]"
     ]
    },
    {
     "name": "stdout",
     "output_type": "stream",
     "text": [
      "2/10 -> training loss: 0.36713913083076477 | test loss: 0.30417467161013295\n"
     ]
    },
    {
     "name": "stderr",
     "output_type": "stream",
     "text": [
      "\n",
      "\n",
      "00%|████████████████████████████████████████| 313/313 [00:00<00:00, 314.56it/s]"
     ]
    },
    {
     "name": "stdout",
     "output_type": "stream",
     "text": [
      "3/10 -> training loss: 0.5261218547821045 | test loss: 0.2505687914860134\n"
     ]
    },
    {
     "name": "stderr",
     "output_type": "stream",
     "text": [
      "\n",
      "\n",
      "00%|████████████████████████████████████████| 313/313 [00:00<00:00, 313.60it/s]"
     ]
    },
    {
     "name": "stdout",
     "output_type": "stream",
     "text": [
      "4/10 -> training loss: 0.31330713629722595 | test loss: 0.21423409002038618\n"
     ]
    },
    {
     "name": "stderr",
     "output_type": "stream",
     "text": [
      "\n",
      "\n",
      "00%|████████████████████████████████████████| 313/313 [00:00<00:00, 316.12it/s]"
     ]
    },
    {
     "name": "stdout",
     "output_type": "stream",
     "text": [
      "5/10 -> training loss: 0.10870707780122757 | test loss: 0.19150976111558965\n"
     ]
    },
    {
     "name": "stderr",
     "output_type": "stream",
     "text": [
      "\n",
      "\n",
      "00%|████████████████████████████████████████| 313/313 [00:00<00:00, 313.89it/s]"
     ]
    },
    {
     "name": "stdout",
     "output_type": "stream",
     "text": [
      "6/10 -> training loss: 0.05444721877574921 | test loss: 0.17351951267415533\n"
     ]
    },
    {
     "name": "stderr",
     "output_type": "stream",
     "text": [
      "\n",
      "\n",
      "00%|████████████████████████████████████████| 313/313 [00:01<00:00, 306.58it/s]"
     ]
    },
    {
     "name": "stdout",
     "output_type": "stream",
     "text": [
      "7/10 -> training loss: 0.17417490482330322 | test loss: 0.15993865279736705\n"
     ]
    },
    {
     "name": "stderr",
     "output_type": "stream",
     "text": [
      "\n",
      "\n",
      "00%|████████████████████████████████████████| 313/313 [00:00<00:00, 313.46it/s]"
     ]
    },
    {
     "name": "stdout",
     "output_type": "stream",
     "text": [
      "8/10 -> training loss: 0.13710765540599823 | test loss: 0.15510257193372368\n"
     ]
    },
    {
     "name": "stderr",
     "output_type": "stream",
     "text": [
      "\n",
      "\n",
      "00%|████████████████████████████████████████| 313/313 [00:00<00:00, 313.77it/s]"
     ]
    },
    {
     "name": "stdout",
     "output_type": "stream",
     "text": [
      "9/10 -> training loss: 0.04521583393216133 | test loss: 0.14169804063051367\n"
     ]
    },
    {
     "name": "stderr",
     "output_type": "stream",
     "text": [
      "\n",
      "100%|████████████████████████████████████████| 313/313 [00:00<00:00, 313.32it/s]"
     ]
    },
    {
     "name": "stdout",
     "output_type": "stream",
     "text": [
      "10/10 -> training loss: 0.01961393840610981 | test loss: 0.13491623969480823\n"
     ]
    },
    {
     "name": "stderr",
     "output_type": "stream",
     "text": [
      "\n"
     ]
    }
   ],
   "source": [
    "n_epochs = 10\n",
    "\n",
    "for i in range(n_epochs):\n",
    "\n",
    "    # Training over the entire training dataset\n",
    "    model.train()\n",
    "    for images, labels in tqdm(train_dl):\n",
    "        \n",
    "        labels_pred = model(images)\n",
    "        \n",
    "        loss = loss_fn(labels_pred, labels)\n",
    "\n",
    "        optim.zero_grad()\n",
    "        loss.backward()\n",
    "        optim.step()\n",
    "\n",
    "    # Testing over the entire test dataset\n",
    "    model.eval()\n",
    "    loss_tests = []\n",
    "    for images, labels in tqdm(test_dl):\n",
    "        labels_pred = model(images)\n",
    "        loss_tests.append(loss_fn(labels_pred, labels).item())\n",
    "        \n",
    "    print(f'{i+1}/{n_epochs} -> training loss: {loss.item()} | test loss: {np.mean(loss_tests)}')"
   ]
  },
  {
   "cell_type": "markdown",
   "id": "7e52b2e8-d744-473b-9ca1-584d3c507bfd",
   "metadata": {},
   "source": [
    "Let's now check some test pictures and their predicted labels."
   ]
  },
  {
   "cell_type": "code",
   "execution_count": 44,
   "id": "ca9cb606-35c9-4603-9280-4d3c9678e048",
   "metadata": {},
   "outputs": [
    {
     "data": {
      "image/png": "[encoded data removed]",
      "text/plain": [
       "<Figure size 640x480 with 1 Axes>"
      ]
     },
     "metadata": {},
     "output_type": "display_data"
    },
    {
     "data": {
      "image/png": "[encoded data removed]",
      "text/plain": [
       "<Figure size 640x480 with 1 Axes>"
      ]
     },
     "metadata": {},
     "output_type": "display_data"
    },
    {
     "data": {
      "image/png": "[encoded data removed]",
      "text/plain": [
       "<Figure size 640x480 with 1 Axes>"
      ]
     },
     "metadata": {},
     "output_type": "display_data"
    }
   ],
   "source": [
    "for i in range(3):\n",
    "    image = test_data[i][0]\n",
    "    label_pred = model(image.unsqueeze(0))\n",
    "    plt.imshow(image[0])\n",
    "    plt.title(label_pred.argmax())\n",
    "    plt.show()"
   ]
  },
  {
   "cell_type": "code",
   "execution_count": null,
   "id": "efbd8374-7bac-45f8-b39f-f4c50914e807",
   "metadata": {},
   "outputs": [],
   "source": []
  }
 ],
 "metadata": {
  "kernelspec": {
   "display_name": "def",
   "language": "python",
   "name": "def"
  },
  "language_info": {
   "codemirror_mode": {
    "name": "ipython",
    "version": 3
   },
   "file_extension": ".py",
   "mimetype": "text/x-python",
   "name": "python",
   "nbconvert_exporter": "python",
   "pygments_lexer": "ipython3",
   "version": "3.10.15"
  }
 },
 "nbformat": 4,
 "nbformat_minor": 5
}
