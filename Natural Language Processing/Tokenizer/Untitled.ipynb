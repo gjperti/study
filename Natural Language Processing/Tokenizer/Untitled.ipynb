{
 "cells": [
  {
   "cell_type": "markdown",
   "id": "33b4b232-89f8-4aa6-a0ba-e3830bae3b61",
   "metadata": {},
   "source": [
    "# Subwork Tokenizer\n",
    "\n",
    "In this notebook, "
   ]
  },
  {
   "cell_type": "code",
   "execution_count": 1,
   "id": "5d222cf8-0b0a-4381-820c-f376b2961aca",
   "metadata": {},
   "outputs": [],
   "source": [
    "import torch\n",
    "import torch.nn as nn"
   ]
  },
  {
   "cell_type": "code",
   "execution_count": null,
   "id": "4be1ca7f-af92-4d05-bb81-30905933380c",
   "metadata": {},
   "outputs": [],
   "source": [
    "class "
   ]
  }
 ],
 "metadata": {
  "kernelspec": {
   "display_name": "study",
   "language": "python",
   "name": "study"
  },
  "language_info": {
   "codemirror_mode": {
    "name": "ipython",
    "version": 3
   },
   "file_extension": ".py",
   "mimetype": "text/x-python",
   "name": "python",
   "nbconvert_exporter": "python",
   "pygments_lexer": "ipython3",
   "version": "3.10.15"
  }
 },
 "nbformat": 4,
 "nbformat_minor": 5
}
