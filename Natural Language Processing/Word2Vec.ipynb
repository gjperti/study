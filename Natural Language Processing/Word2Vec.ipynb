{
 "cells": [
  {
   "cell_type": "code",
   "execution_count": 1,
   "id": "e5181873",
   "metadata": {},
   "outputs": [],
   "source": [
    "import numpy as np"
   ]
  },
  {
   "cell_type": "code",
   "execution_count": 47,
   "id": "7302eaeb",
   "metadata": {},
   "outputs": [
    {
     "data": {
      "text/plain": [
       "['* I am happy *', '* I am sad *', '* I am very happy *', '* I am very sad *']"
      ]
     },
     "execution_count": 47,
     "metadata": {},
     "output_type": "execute_result"
    }
   ],
   "source": [
    "data = ['I am happy', 'I am sad', 'I am very happy', 'I am very sad']\n",
    "data = ['* ' + sentence + ' *' for sentence in data]\n",
    "data"
   ]
  },
  {
   "cell_type": "code",
   "execution_count": 25,
   "id": "76ed04bb",
   "metadata": {},
   "outputs": [
    {
     "name": "stdout",
     "output_type": "stream",
     "text": [
      "vocabulary: {'I', 'am', 'very', '*', 'happy', 'sad'}\n"
     ]
    }
   ],
   "source": [
    "vocabulary = set([word for sentence in data for word in sentence.split(' ')])\n",
    "print(f'vocabulary: {vocabulary}')\n",
    "\n",
    "word2idx = {word: idx for idx, word in enumerate(vocabulary)}\n",
    "idx2word = {idx: word for word, idx in word2idx.items()}"
   ]
  },
  {
   "cell_type": "code",
   "execution_count": 41,
   "id": "7b07fa62",
   "metadata": {},
   "outputs": [],
   "source": [
    "embedding_dim = 300\n",
    "embedding = np.random.rand(len(vocabulary), 2, embedding_dim)"
   ]
  },
  {
   "cell_type": "code",
   "execution_count": null,
   "id": "654cc58b",
   "metadata": {},
   "outputs": [],
   "source": [
    "context_size = 1\n",
    "learning_rate = 1e-3\n",
    "\n",
    "for sentence in data:\n",
    "    sentence = sentence.split(' ')\n",
    "    sentence_length = len(sentence)\n",
    "\n",
    "    for t, center_word in enumerate(sentence[1:-1]):\n",
    "        t = t+1\n",
    "        context_words_before = [sentence[t-i] for i in range(1, context_size+1) if t-i >= 0]\n",
    "        context_words_after = [sentence[t+i] for i in range(1, context_size+1) if t+i <= sentence_length]\n",
    "        context_words = context_words_before + context_words_after\n",
    "\n",
    "        center_word_idx = word2idx[center_word]\n",
    "        center_word_embedding = embedding[center_word_idx, 0, :]\n",
    "\n",
    "        for context_word in context_words:\n",
    "            context_word_idx = word2idx[context_word]\n",
    "            context_word_embedding = embedding[context_word_idx, 1, :]\n",
    "            \n",
    "            res = 0\n",
    "            total_prob = 0\n",
    "\n",
    "            for word in vocabulary:\n",
    "                word_embedding = embedding[word2idx[word],1,:]\n",
    "                res += np.exp(np.dot(context_word_embedding, word_embedding)) * word_embedding\n",
    "                total_prob += np.exp(np.dot(context_word_embedding, word_embedding))\n",
    "\n",
    "            dLdcenter = context_word_embedding - res / total_prob\n",
    "            embedding[center_word_idx, 1, :] -= learning_rate * dLdcenter\n",
    "            dLdcontext = center_word_embedding\n",
    "            embedding[context_word_idx, 1, :] -= learning_rate * dLdcenter"
   ]
  },
  {
   "cell_type": "code",
   "execution_count": null,
   "id": "42c01cbc",
   "metadata": {},
   "outputs": [
    {
     "data": {
      "text/plain": [
       "array([[[0.96799714, 0.42948181, 0.38970512, ..., 0.89831622,\n",
       "         0.00290295, 0.30598807],\n",
       "        [0.94035048, 0.41866055, 0.71654228, ..., 0.60068021,\n",
       "         0.2026971 , 0.66046643]],\n",
       "\n",
       "       [[0.82937081, 0.60430388, 0.2251811 , ..., 0.35670636,\n",
       "         0.49727887, 0.22723934],\n",
       "        [0.42022963, 0.97849019, 0.95352043, ..., 0.51935515,\n",
       "         0.12965886, 0.05580098]],\n",
       "\n",
       "       [[0.06137012, 0.58493653, 0.83118717, ..., 0.99788455,\n",
       "         0.0053244 , 0.17152835],\n",
       "        [0.1328322 , 0.97687069, 0.14740255, ..., 0.82247519,\n",
       "         0.65690515, 0.79848608]],\n",
       "\n",
       "       [[0.03096125, 0.34144617, 0.55209207, ..., 0.4454744 ,\n",
       "         0.84293434, 0.03805454],\n",
       "        [0.25034318, 0.03912687, 0.17865286, ..., 0.94728976,\n",
       "         0.47652886, 0.08564847]],\n",
       "\n",
       "       [[0.55234437, 0.29772116, 0.89966045, ..., 0.53866964,\n",
       "         0.73971994, 0.29952712],\n",
       "        [0.2837925 , 0.80956791, 0.2232075 , ..., 0.23414363,\n",
       "         0.91605919, 0.94446949]],\n",
       "\n",
       "       [[0.33549116, 0.3310254 , 0.94608591, ..., 0.2542085 ,\n",
       "         0.42120708, 0.36048633],\n",
       "        [0.59310485, 0.49119705, 0.88201143, ..., 0.80920941,\n",
       "         0.407224  , 0.06610186]]])"
      ]
     },
     "execution_count": 46,
     "metadata": {},
     "output_type": "execute_result"
    }
   ],
   "source": []
  },
  {
   "cell_type": "code",
   "execution_count": 55,
   "id": "117523c0",
   "metadata": {},
   "outputs": [],
   "source": [
    "from tqdm import tqdm"
   ]
  },
  {
   "cell_type": "code",
   "execution_count": 63,
   "id": "da7706b2",
   "metadata": {},
   "outputs": [
    {
     "name": "stdout",
     "output_type": "stream",
     "text": [
      "Epoch 1/3, Loss: -0.0010\n",
      "Epoch 2/3, Loss: -0.0029\n",
      "Epoch 3/3, Loss: -0.0049\n"
     ]
    },
    {
     "data": {
      "image/png": "[encoded data removed]",
      "text/plain": [
       "<Figure size 640x480 with 1 Axes>"
      ]
     },
     "metadata": {},
     "output_type": "display_data"
    }
   ],
   "source": [
    "import torch\n",
    "import torch.nn as nn\n",
    "import torch.optim as optim\n",
    "import matplotlib.pyplot as plt\n",
    "from torchvision import datasets, transforms\n",
    "from torch.utils.data import DataLoader\n",
    "\n",
    "# -------------------------\n",
    "# Hyperparameters\n",
    "# -------------------------\n",
    "x_dim = 28*28\n",
    "y_dim = 10\n",
    "hidden_dim = 256\n",
    "batch_size = 64\n",
    "lr = 1e-6\n",
    "epochs = 3\n",
    "steps_sampling = 200\n",
    "sampling_lr = 1e-3\n",
    "\n",
    "device = torch.device(\"cuda\" if torch.cuda.is_available() else \"cpu\")\n",
    "\n",
    "# -------------------------\n",
    "# Prepare MNIST\n",
    "# -------------------------\n",
    "transform = transforms.ToTensor()\n",
    "train_dataset = datasets.MNIST(root='./data', train=True, download=True, transform=transform)\n",
    "train_loader = DataLoader(train_dataset, batch_size=batch_size, shuffle=True)\n",
    "\n",
    "# -------------------------\n",
    "# Define EBM network\n",
    "# -------------------------\n",
    "class EBMMnist(nn.Module):\n",
    "    def __init__(self):\n",
    "        super().__init__()\n",
    "        self.fc1 = nn.Linear(x_dim + y_dim, hidden_dim)\n",
    "        self.fc2 = nn.Linear(hidden_dim, hidden_dim)\n",
    "        self.fc_out = nn.Linear(hidden_dim, 1)  # energy scalar\n",
    "        self.relu = nn.ReLU()\n",
    "    \n",
    "    def forward(self, x, y):\n",
    "        # x: (B, x_dim), y: (B, y_dim one-hot)\n",
    "        h = torch.cat([x, y], dim=1)\n",
    "        h = self.relu(self.fc1(h))\n",
    "        h = self.relu(self.fc2(h))\n",
    "        energy = self.fc_out(h)\n",
    "        return energy  # lower energy = more likely\n",
    "\n",
    "# -------------------------\n",
    "# Initialize\n",
    "# -------------------------\n",
    "model = EBMMnist().to(device)\n",
    "optimizer = optim.Adam(model.parameters(), lr=lr)\n",
    "\n",
    "# -------------------------\n",
    "# Training (Contrastive / simple)\n",
    "# -------------------------\n",
    "for epoch in range(epochs):\n",
    "    total_loss = 0\n",
    "    for imgs, labels in train_loader:\n",
    "        imgs = imgs.view(-1, x_dim).to(device)\n",
    "        labels_oh = nn.functional.one_hot(labels, num_classes=y_dim).float().to(device)\n",
    "\n",
    "        # Positive pairs: real (x, y)\n",
    "        energy_pos = model(imgs, labels_oh)\n",
    "\n",
    "        # Negative pairs: shuffle y\n",
    "        labels_neg = labels[torch.randperm(labels.size(0))]\n",
    "        labels_neg_oh = nn.functional.one_hot(labels_neg, num_classes=y_dim).float().to(device)\n",
    "        energy_neg = model(imgs, labels_neg_oh)\n",
    "\n",
    "        # Loss: push positive energies lower than negative energies\n",
    "        loss = torch.mean(energy_pos) - torch.mean(energy_neg)\n",
    "\n",
    "        optimizer.zero_grad()\n",
    "        loss.backward()\n",
    "        optimizer.step()\n",
    "        total_loss += loss.item()\n",
    "    \n",
    "    print(f\"Epoch {epoch+1}/{epochs}, Loss: {total_loss/len(train_loader):.4f}\")\n",
    "\n",
    "# -------------------------\n",
    "# Forward: predict y given x\n",
    "# -------------------------\n",
    "def predict_y(x):\n",
    "    x = x.view(1, -1).to(device)\n",
    "    energies = []\n",
    "    for c in range(y_dim):\n",
    "        y_oh = torch.zeros(1, y_dim, device=device)\n",
    "        y_oh[0, c] = 1.0\n",
    "        energies.append(model(x, y_oh).item())\n",
    "    # Lowest energy = predicted class\n",
    "    return energies.index(min(energies))\n",
    "\n",
    "# -------------------------\n",
    "# Backward: generate x given y\n",
    "# -------------------------\n",
    "def sample_x_given_y(target_class):\n",
    "    y = torch.zeros(1, y_dim, device=device)\n",
    "    y[0, target_class] = 1.0\n",
    "    x = torch.randn(1, x_dim, device=device, requires_grad=True)\n",
    "\n",
    "    optimizer_x = optim.SGD([x], lr=sampling_lr)\n",
    "    for step in range(steps_sampling):\n",
    "        optimizer_x.zero_grad()\n",
    "        energy = model(x, y)\n",
    "        energy.backward()\n",
    "        optimizer_x.step()\n",
    "        x.data.clamp_(0, 1)  # keep pixel range valid\n",
    "\n",
    "    return x.detach().cpu().view(28,28)\n",
    "\n",
    "# -------------------------\n",
    "# Example: generate digit 7\n",
    "# -------------------------\n",
    "digit = 7\n",
    "x_sample = sample_x_given_y(digit)\n",
    "plt.imshow(x_sample, cmap='gray')\n",
    "plt.title(f\"Generated digit {digit}\")\n",
    "plt.show()"
   ]
  },
  {
   "cell_type": "markdown",
   "id": "373f7955",
   "metadata": {},
   "source": [
    "memory.shape"
   ]
  },
  {
   "cell_type": "code",
   "execution_count": 52,
   "id": "76f11e45",
   "metadata": {},
   "outputs": [
    {
     "data": {
      "text/plain": [
       "np.float64(28.178005607210743)"
      ]
     },
     "execution_count": 52,
     "metadata": {},
     "output_type": "execute_result"
    }
   ],
   "source": [
    "np.sqrt(794)"
   ]
  },
  {
   "cell_type": "code",
   "execution_count": null,
   "id": "af994179",
   "metadata": {},
   "outputs": [],
   "source": []
  }
 ],
 "metadata": {
  "kernelspec": {
   "display_name": "study",
   "language": "python",
   "name": "study"
  },
  "language_info": {
   "codemirror_mode": {
    "name": "ipython",
    "version": 3
   },
   "file_extension": ".py",
   "mimetype": "text/x-python",
   "name": "python",
   "nbconvert_exporter": "python",
   "pygments_lexer": "ipython3",
   "version": "3.10.17"
  }
 },
 "nbformat": 4,
 "nbformat_minor": 5
}
