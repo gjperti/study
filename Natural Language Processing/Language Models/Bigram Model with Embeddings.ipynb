{
 "cells": [
  {
   "cell_type": "markdown",
   "id": "c9a8363a-bd57-42b8-8105-654759118919",
   "metadata": {},
   "source": [
    "# Building a Bigram Model\n",
    "\n",
    "In this document, we'll build a simple bigram model to create fake Greek Mythology names.\n",
    "We will use tokens as the smallest possible subwords, i.e. inidividual characters. The bigram model will consist of first tokenizing the corpus, and then using an embedding (i.e. a table with one vector for each unique character) as the logits of the next token prediction.\n"
   ]
  },
  {
   "cell_type": "markdown",
   "id": "88d774f2-9a23-4896-9b9d-203bffdba74a",
   "metadata": {},
   "source": [
    "### 0. Importing Libraries\n",
    "\n",
    "We'll use PyTorch to build our Bigram model."
   ]
  },
  {
   "cell_type": "code",
   "execution_count": 1,
   "id": "cb38322b-3b89-4b00-8b9d-f85bb8a729dc",
   "metadata": {},
   "outputs": [],
   "source": [
    "import requests\n",
    "import torch\n",
    "from torch import nn\n",
    "import torch.nn.functional as F\n",
    "import numpy as np\n",
    "from torch.utils.data import DataLoader, TensorDataset\n",
    "from tqdm import tqdm\n",
    "import regex as re"
   ]
  },
  {
   "cell_type": "markdown",
   "id": "b485eb21-192f-4d9b-9183-e9230bb94071",
   "metadata": {},
   "source": [
    "### 1. Download Corpus\n",
    "\n",
    "Reading the file with the names of characters in Greek Mythology as a single string."
   ]
  },
  {
   "cell_type": "code",
   "execution_count": 2,
   "id": "429a2f93-0f8e-49a4-9a27-0642662ba4be",
   "metadata": {},
   "outputs": [
    {
     "data": {
      "text/plain": [
       "'Aphrodite\\nApollo\\nAres\\nArtemis\\nAthena\\nDemeter\\nDiony'"
      ]
     },
     "execution_count": 2,
     "metadata": {},
     "output_type": "execute_result"
    }
   ],
   "source": [
    "path = 'data/greek_gods.txt'\n",
    "\n",
    "with open(path, 'r') as f:\n",
    "    corpus = f.read()\n",
    "\n",
    "corpus[:50]"
   ]
  },
  {
   "cell_type": "markdown",
   "id": "e19d17b9-8b1b-4e23-99e0-ccefeaefd9cf",
   "metadata": {},
   "source": [
    "Adding the special character '_' to denote the start and end of a name"
   ]
  },
  {
   "cell_type": "code",
   "execution_count": 3,
   "id": "dbf4eb8f-ed11-4116-92d3-bf5f7cc92303",
   "metadata": {},
   "outputs": [],
   "source": [
    "corpus = re.sub(r'\\n', '_', corpus)\n",
    "corpus = '_' + corpus + '_'"
   ]
  },
  {
   "cell_type": "code",
   "execution_count": 4,
   "id": "c16fc76f-0fe5-42be-9b2b-c60450638d88",
   "metadata": {},
   "outputs": [
    {
     "data": {
      "text/plain": [
       "'_Aphrodite_Apollo_Ar'"
      ]
     },
     "execution_count": 4,
     "metadata": {},
     "output_type": "execute_result"
    }
   ],
   "source": [
    "corpus[:20]"
   ]
  },
  {
   "cell_type": "markdown",
   "id": "0ee84199-358f-470f-a73e-cb12108da5b6",
   "metadata": {},
   "source": [
    "### 2. Vocabulary Building and Tokenization\n",
    "\n",
    "For simplicity, we'll use characters as tokens. \n",
    "\n",
    "So, first we'll extract all unique characters and use it as our vocabulary."
   ]
  },
  {
   "cell_type": "code",
   "execution_count": 5,
   "id": "9fa59f35-52b1-41ea-8616-a388c8e8d1f4",
   "metadata": {},
   "outputs": [
    {
     "name": "stdout",
     "output_type": "stream",
     "text": [
      "Vocabulary:  ABCDEGHIKLMNOPRSTUZ_abcdeghiklmnoprstuxyzë\n",
      "\n",
      "Size of vocabulary is 43\n"
     ]
    }
   ],
   "source": [
    "vocabulary = sorted(list(set(corpus)))\n",
    "\n",
    "print('Vocabulary: {}'.format(''.join(vocabulary)))\n",
    "print(f'\\nSize of vocabulary is {len(vocabulary)}')"
   ]
  },
  {
   "cell_type": "markdown",
   "id": "6046e72e-7d95-4a4a-8467-c45c226523db",
   "metadata": {},
   "source": [
    "We'll need a function to tokenize and detokenize the data.\n",
    "\n",
    "- **tokenize**: 'abc' $\\rightarrow$ [1,2,3]\n",
    "- **detokenize**: [1,2,3] $\\rightarrow$ 'abc'"
   ]
  },
  {
   "cell_type": "code",
   "execution_count": 6,
   "id": "415eb9d2-ef54-400d-924d-a1f0cc3f9f22",
   "metadata": {},
   "outputs": [],
   "source": [
    "char2idx = {char:i for i, char in enumerate(vocabulary)}\n",
    "idx2char = {i:char for i, char in enumerate(vocabulary)}\n",
    "\n",
    "tokenize = lambda chars: [char2idx[char] for char in chars]\n",
    "detokenize = lambda idxs: ''.join([idx2char[int(idx)] for idx in idxs])"
   ]
  },
  {
   "cell_type": "code",
   "execution_count": 7,
   "id": "4e9d618e-6e56-40e8-b4fd-a35cf12500ad",
   "metadata": {},
   "outputs": [
    {
     "data": {
      "text/plain": [
       "[21, 22, 23]"
      ]
     },
     "execution_count": 7,
     "metadata": {},
     "output_type": "execute_result"
    }
   ],
   "source": [
    "tokenize('abc')"
   ]
  },
  {
   "cell_type": "code",
   "execution_count": 8,
   "id": "d80fc9bd-c825-40c3-bd42-01e5e01d8812",
   "metadata": {},
   "outputs": [
    {
     "data": {
      "text/plain": [
       "'abc'"
      ]
     },
     "execution_count": 8,
     "metadata": {},
     "output_type": "execute_result"
    }
   ],
   "source": [
    "detokenize(tokenize('abc'))"
   ]
  },
  {
   "cell_type": "markdown",
   "id": "1f4cdb4a-67be-4e1a-a186-6cc6ae30bfb7",
   "metadata": {},
   "source": [
    "Finally, we'll tokenize the entire corpus and transform it into a pytorch 1-dimensional tensor."
   ]
  },
  {
   "cell_type": "code",
   "execution_count": 9,
   "id": "51947915-ea22-449b-b13d-b0d3d7f4c758",
   "metadata": {},
   "outputs": [
    {
     "data": {
      "text/plain": [
       "tensor([20,  1, 34, 27, 35, 33, 24, 28, 37, 25])"
      ]
     },
     "execution_count": 9,
     "metadata": {},
     "output_type": "execute_result"
    }
   ],
   "source": [
    "corpus_tk = torch.tensor(tokenize(corpus), dtype=torch.long)\n",
    "corpus_tk[:10]"
   ]
  },
  {
   "cell_type": "markdown",
   "id": "2db18e99-cb56-4b19-a3bd-73ef578a8c33",
   "metadata": {},
   "source": [
    "### 3. Creating the Training Set\n"
   ]
  },
  {
   "cell_type": "markdown",
   "id": "f0882faf-4965-4a1d-afaf-2b9e4d4158d1",
   "metadata": {},
   "source": [
    "Building the training set with a 1-char context (bigram model)"
   ]
  },
  {
   "cell_type": "code",
   "execution_count": 10,
   "id": "b628a992-8f48-4df5-a7f8-e512846697e6",
   "metadata": {},
   "outputs": [],
   "source": [
    "x = corpus_tk[:-1]\n",
    "y = corpus_tk[1:]\n",
    "train = TensorDataset(x, y)"
   ]
  },
  {
   "cell_type": "markdown",
   "id": "8e536f2e-367c-4500-8901-035f4bf3d493",
   "metadata": {},
   "source": [
    "Showing the input (previous character) and target (next character) in our dataset."
   ]
  },
  {
   "cell_type": "code",
   "execution_count": 11,
   "id": "58d1ea3f-a605-4189-86e4-bd9d2e65a4ab",
   "metadata": {},
   "outputs": [
    {
     "data": {
      "text/plain": [
       "[('_', 'A'),\n",
       " ('A', 'p'),\n",
       " ('p', 'h'),\n",
       " ('h', 'r'),\n",
       " ('r', 'o'),\n",
       " ('o', 'd'),\n",
       " ('d', 'i'),\n",
       " ('i', 't'),\n",
       " ('t', 'e'),\n",
       " ('e', '_'),\n",
       " ('_', 'A'),\n",
       " ('A', 'p'),\n",
       " ('p', 'o'),\n",
       " ('o', 'l'),\n",
       " ('l', 'l')]"
      ]
     },
     "execution_count": 11,
     "metadata": {},
     "output_type": "execute_result"
    }
   ],
   "source": [
    "list(zip(detokenize(x[:15]), detokenize(y[:15])))"
   ]
  },
  {
   "cell_type": "markdown",
   "id": "85e0f1e5-fdfe-45f0-8e6b-1892792f6d11",
   "metadata": {},
   "source": [
    "### 4. Building Bigram Model"
   ]
  },
  {
   "cell_type": "code",
   "execution_count": 12,
   "id": "5dafd94d-10cd-42e6-92fd-b2a5df3e94d7",
   "metadata": {},
   "outputs": [],
   "source": [
    "class BigramModel(nn.Module):\n",
    "    \n",
    "    def __init__(self, vocab_size):\n",
    "        super().__init__()\n",
    "        self.vocab_size = vocab_size\n",
    "        self.emb = nn.Embedding(vocab_size, vocab_size)\n",
    "\n",
    "    # Uses the embedding as a logit\n",
    "    def forward(self, x):\n",
    "        return self.emb(x)\n",
    "\n",
    "    # It generates n tokens using the model\n",
    "    def generate(self, n_max=20):\n",
    "\n",
    "        # Pick first token randomly\n",
    "        token = torch.tensor(tokenize('_'))\n",
    "\n",
    "        # Append it to the result\n",
    "        story = []\n",
    "\n",
    "        # Iterate n times\n",
    "        for _ in range(n_max):\n",
    "\n",
    "            # Apply model to get logits\n",
    "            logits = self.forward(token)\n",
    "\n",
    "            # Use softmax to convert logits to probabilities\n",
    "            probs = F.softmax(logits, dim=-1)\n",
    "\n",
    "            # Sample next token\n",
    "            token = torch.multinomial(probs, 1)[0]\n",
    "\n",
    "            if detokenize(token)=='_':\n",
    "                break\n",
    "                \n",
    "            # Append it to the result\n",
    "            story.append(token.tolist()[0])\n",
    "\n",
    "        # Return characters instead of ids\n",
    "        return detokenize(story)"
   ]
  },
  {
   "cell_type": "code",
   "execution_count": 13,
   "id": "5e224a11-9ece-46db-9484-a79715bf5e9b",
   "metadata": {},
   "outputs": [],
   "source": [
    "bm = BigramModel(len(vocabulary))"
   ]
  },
  {
   "cell_type": "markdown",
   "id": "eb148f02-dfc8-4d30-b199-7d00d1be27b7",
   "metadata": {},
   "source": [
    "Initial generation of 10 names. They are generated autoregressively character by character until '_' is found."
   ]
  },
  {
   "cell_type": "code",
   "execution_count": 14,
   "id": "5ad11ceb-64e8-46f5-be6c-b94ad97ea518",
   "metadata": {},
   "outputs": [
    {
     "name": "stdout",
     "output_type": "stream",
     "text": [
      "CrZmrddteLEDHPAmykOm\n",
      "menOTly phRUOIIbLOxN\n",
      "RiZlNOmHSlmrDeLbldpë\n",
      "o im\n",
      "aUIR Ag unylBzoNeNoD\n",
      "NtaUAGGPazcbgxHy\n",
      "uIkkSAAylxRkZamNzcOm\n",
      "CouZtKrkAUKxSozcëcmc\n",
      "CGKspptCNBRuIxpx\n",
      "Cunleutr\n"
     ]
    }
   ],
   "source": [
    "for _ in range(10):\n",
    "    print(bm.generate())"
   ]
  },
  {
   "cell_type": "markdown",
   "id": "b86bf2dc-d595-44f1-a385-01725b325427",
   "metadata": {},
   "source": [
    "Defining loss and optimizer"
   ]
  },
  {
   "cell_type": "code",
   "execution_count": 15,
   "id": "6eaab7b3-f140-45f7-b220-5b5724aa2635",
   "metadata": {},
   "outputs": [],
   "source": [
    "loss_fn = nn.CrossEntropyLoss()\n",
    "optimizer = torch.optim.Adam(bm.parameters(), lr=1e-3)"
   ]
  },
  {
   "cell_type": "markdown",
   "id": "17d1aac4-76ae-461c-83f6-ec2b1a5d2e15",
   "metadata": {},
   "source": [
    "Defining Dataloader for the training set."
   ]
  },
  {
   "cell_type": "code",
   "execution_count": 16,
   "id": "0fcc2fe5-fac1-4593-859d-d76ce111878d",
   "metadata": {},
   "outputs": [],
   "source": [
    "train_dataloader = DataLoader(train, batch_size=32, shuffle=True)"
   ]
  },
  {
   "cell_type": "markdown",
   "id": "468f18e6-91e3-41b9-9d96-81b71bc6b54e",
   "metadata": {},
   "source": [
    "Training the model (i.e. optimizing embedding table)."
   ]
  },
  {
   "cell_type": "code",
   "execution_count": 17,
   "id": "8a388b63-51ed-45a7-8b0a-646b818298d5",
   "metadata": {},
   "outputs": [
    {
     "name": "stderr",
     "output_type": "stream",
     "text": [
      "  2%|▊                                          | 9/500 [00:00<00:11, 42.42it/s]"
     ]
    },
    {
     "name": "stdout",
     "output_type": "stream",
     "text": [
      "train loss: 4.1313611387132525\n",
      "\n"
     ]
    },
    {
     "name": "stderr",
     "output_type": "stream",
     "text": [
      " 22%|█████████                                | 111/500 [00:01<00:06, 57.94it/s]"
     ]
    },
    {
     "name": "stdout",
     "output_type": "stream",
     "text": [
      "train loss: 2.51475383857349\n",
      "\n"
     ]
    },
    {
     "name": "stderr",
     "output_type": "stream",
     "text": [
      " 41%|████████████████▉                        | 207/500 [00:03<00:05, 58.05it/s]"
     ]
    },
    {
     "name": "stdout",
     "output_type": "stream",
     "text": [
      "train loss: 2.1121503291688524\n",
      "\n"
     ]
    },
    {
     "name": "stderr",
     "output_type": "stream",
     "text": [
      " 62%|█████████████████████████▎               | 309/500 [00:05<00:03, 57.94it/s]"
     ]
    },
    {
     "name": "stdout",
     "output_type": "stream",
     "text": [
      "train loss: 2.1020765314338443\n",
      "\n"
     ]
    },
    {
     "name": "stderr",
     "output_type": "stream",
     "text": [
      " 82%|█████████████████████████████████▋       | 411/500 [00:07<00:01, 58.50it/s]"
     ]
    },
    {
     "name": "stdout",
     "output_type": "stream",
     "text": [
      "train loss: 2.1012610861202616\n",
      "\n"
     ]
    },
    {
     "name": "stderr",
     "output_type": "stream",
     "text": [
      "100%|█████████████████████████████████████████| 500/500 [00:08<00:00, 57.55it/s]\n"
     ]
    }
   ],
   "source": [
    "n_epochs = 500\n",
    "loss_train = []\n",
    "\n",
    "# For 'n_epochs':\n",
    "for i in tqdm(range(n_epochs)):\n",
    "\n",
    "    # Optimize parameters batch-by-batch\n",
    "    bm.train()\n",
    "    for x,y in train_dataloader:\n",
    "\n",
    "        y_pred = bm(x)\n",
    "\n",
    "        optimizer.zero_grad()\n",
    "\n",
    "        loss = loss_fn(y_pred, y)\n",
    "        loss_train.append(loss.item())\n",
    "        loss.backward()\n",
    "        \n",
    "        optimizer.step()\n",
    "\n",
    "    # After training set has been fully fed, get test error and print \n",
    "    bm.eval()\n",
    "    if i%int(n_epochs/5)==0:\n",
    "        # Train\n",
    "        loss_train = np.mean(loss_train)\n",
    "        print(f'train loss: {loss_train}')\n",
    "        print()\n",
    "        \n",
    "        loss_train = []"
   ]
  },
  {
   "cell_type": "markdown",
   "id": "604f93c4-1d53-4e4d-83b8-9a7c4aa31b2a",
   "metadata": {},
   "source": [
    "### 5. Creating New Greek Mythology Names\n",
    "\n",
    "Now, we build 10 more names with the trained model."
   ]
  },
  {
   "cell_type": "code",
   "execution_count": 18,
   "id": "4682837c-660d-4335-a707-ca105f61f8c3",
   "metadata": {},
   "outputs": [
    {
     "name": "stdout",
     "output_type": "stream",
     "text": [
      "Pamois\n",
      "An\n",
      "Eus\n",
      "Thuponaes\n",
      "Crarteropoiropharade\n",
      "Pysbo\n",
      "Thanalos\n",
      "Aca\n",
      "Aunde\n",
      "Pheleocyoxi\n"
     ]
    }
   ],
   "source": [
    "for _ in range(10):\n",
    "    print(bm.generate())"
   ]
  },
  {
   "cell_type": "markdown",
   "id": "0c1d89e6-81e9-4e49-b8c4-72e96b931667",
   "metadata": {},
   "source": [
    "### 5. Conclusion"
   ]
  },
  {
   "cell_type": "markdown",
   "id": "739a091d-41f5-4edd-8360-6a66f1ddaa32",
   "metadata": {},
   "source": [
    "The names now are much more convincing than the ones before training, which goes to show that the model has learned something about the structure of a Greek Mythology name, like capializing the first letter of the name, and alternating consonants and vowels.\n",
    "\n",
    "Keep in mind that all of this was learned from a simple context window of a single character. We can even build a heatmap showing the probability distribution over the next tokens given the current token, as done below."
   ]
  },
  {
   "cell_type": "code",
   "execution_count": 19,
   "id": "65209e7b-6578-440a-8c7b-680fbf3f1a32",
   "metadata": {},
   "outputs": [],
   "source": [
    "# Each column represents the current token, and each row, the next token\n",
    "connections = np.zeros([len(vocabulary), len(vocabulary)])\n",
    "\n",
    "for i, char in enumerate(vocabulary):\n",
    "    token = torch.tensor(tokenize(char))\n",
    "    logits = bm.forward(token)\n",
    "    probs = F.softmax(logits, dim=-1)\n",
    "    connections[:,i] = probs.tolist()[0]"
   ]
  },
  {
   "cell_type": "code",
   "execution_count": 22,
   "id": "776fedc2-0541-4ccd-864d-360bb6a8b9ee",
   "metadata": {},
   "outputs": [
    {
     "data": {
      "image/png": "[encoded data removed]",
      "text/plain": [
       "<Figure size 1000x2000 with 1 Axes>"
      ]
     },
     "metadata": {},
     "output_type": "display_data"
    }
   ],
   "source": [
    "import matplotlib.pyplot as plt\n",
    "\n",
    "plt.figure(figsize=(10,20))\n",
    "plt.imshow(connections, cmap='viridis')\n",
    "plt.ylabel('Next Token')\n",
    "plt.yticks(ticks=np.arange(len(vocabulary)), labels=vocabulary)\n",
    "plt.xlabel('Current Token')\n",
    "plt.xticks(ticks=np.arange(len(vocabulary)), labels=vocabulary)\n",
    "\n",
    "plt.xticks(np.arange(-0.5, len(vocabulary), 1), minor=True)\n",
    "plt.yticks(np.arange(-0.5, len(vocabulary), 1), minor=True)\n",
    "plt.grid(which=\"minor\", color=\"black\", linestyle='-', linewidth=0.7)\n",
    "plt.title('Probability distribution of the next tokens (rows) given the current token (col)')\n",
    "plt.show()"
   ]
  },
  {
   "cell_type": "code",
   "execution_count": null,
   "id": "d210d702-3702-4503-b154-f3f9e6873c96",
   "metadata": {},
   "outputs": [],
   "source": []
  }
 ],
 "metadata": {
  "kernelspec": {
   "display_name": "study",
   "language": "python",
   "name": "study"
  },
  "language_info": {
   "codemirror_mode": {
    "name": "ipython",
    "version": 3
   },
   "file_extension": ".py",
   "mimetype": "text/x-python",
   "name": "python",
   "nbconvert_exporter": "python",
   "pygments_lexer": "ipython3",
   "version": "3.10.15"
  }
 },
 "nbformat": 4,
 "nbformat_minor": 5
}
