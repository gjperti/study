{
 "cells": [
  {
   "cell_type": "markdown",
   "metadata": {},
   "source": [
    "# Pyomo: Python Optimization Model Objects\n",
    "\n",
    "Python library that can be used to define and solve optimization problems. It requires an external solver, such as _CBC_ or _GLPK_.\n",
    "\n",
    "This can be done in a few steps:\n",
    "- Define a model using pyomo's _ConcreteModel_ or _AbstractModel_ classes\n",
    "- Define decision variables: what we are optimizing over\n",
    "- Specify objective function and constraints\n",
    "- Load solver\n",
    "- Solve the model\n",
    "\n",
    "Let's go over one simple LP example.\n",
    "\n",
    "$$\n",
    "\\begin{aligned}\n",
    "    \\underset{x_1, x_2}{ \\text{minimize}} & \\quad -x_2 \\\\\n",
    "    \\text{subject to } & \\quad x_2 \\leq x_1 \\\\\n",
    "    & \\quad x_1 + x_1 \\leq 10 \\\\\n",
    "    & \\quad x_1, x_2 \\geq 0\n",
    "\\end{aligned}\n",
    "$$"
   ]
  },
  {
   "cell_type": "code",
   "execution_count": 125,
   "metadata": {},
   "outputs": [
    {
     "name": "stdout",
     "output_type": "stream",
     "text": [
      "Optimization Problem: \n",
      "\n",
      "minimize: \n",
      " \t - x2\n",
      "s.t. \n",
      "\tx2  <=  x1\n",
      "\tx1 + x2  <=  10\n",
      "\n",
      "Soluion: x1 = 5.0, x2 = 5.0\n"
     ]
    }
   ],
   "source": [
    "# Import pyomo classes and functions\n",
    "from pyomo.environ import *\n",
    "\n",
    "# Print problem\n",
    "def print_problem(model):\n",
    "    print('Optimization Problem: \\n')\n",
    "    print(f\"minimize: \\n \\t {model.obj.expr}\")\n",
    "    print(\"s.t. \")\n",
    "    for c in model.component_objects(Constraint, active=True):\n",
    "        for index in c:\n",
    "            print(f\"\\t{c[index].expr}\")\n",
    "\n",
    "# Create a concrete model\n",
    "model = ConcreteModel()\n",
    "\n",
    "# Define non-negative and real decision variables\n",
    "model.x1 = Var(domain=NonNegativeReals)\n",
    "model.x2 = Var(domain=NonNegativeReals)\n",
    "\n",
    "# Define objective function (maximize -x2)\n",
    "model.obj = Objective(expr= -model.x2, sense=minimize)\n",
    "\n",
    "# Define constraints\n",
    "model.con1 = Constraint(expr= model.x2 <= model.x1)\n",
    "model.con2 = Constraint(expr= model.x1 + model.x2 <= 10)\n",
    "\n",
    "# Solve using GLPK solver\n",
    "solver = SolverFactory('gurobi')\n",
    "result = solver.solve(model)\n",
    "\n",
    "# Print problem\n",
    "print_problem(model)\n",
    "\n",
    "# Print results\n",
    "print(f\"\\nSoluion: x1 = {model.x1()}, x2 = {model.x2()}\")"
   ]
  }
 ],
 "metadata": {
  "kernelspec": {
   "display_name": "omni",
   "language": "python",
   "name": "omni"
  },
  "language_info": {
   "codemirror_mode": {
    "name": "ipython",
    "version": 3
   },
   "file_extension": ".py",
   "mimetype": "text/x-python",
   "name": "python",
   "nbconvert_exporter": "python",
   "pygments_lexer": "ipython3",
   "version": "3.10.16"
  }
 },
 "nbformat": 4,
 "nbformat_minor": 2
}
