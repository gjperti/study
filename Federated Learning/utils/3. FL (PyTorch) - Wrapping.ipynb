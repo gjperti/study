{
 "cells": [
  {
   "cell_type": "code",
   "execution_count": 1,
   "id": "22bbdc98",
   "metadata": {},
   "outputs": [],
   "source": [
    "import torch\n",
    "import numpy as np  \n",
    "import matplotlib.pyplot as plt\n",
    "from torchvision import datasets, transforms\n",
    "from torch.utils.data import DataLoader, random_split\n",
    "from tqdm import tqdm\n",
    "from utils import *"
   ]
  },
  {
   "cell_type": "markdown",
   "id": "996e8b40",
   "metadata": {},
   "source": [
    "# 1. Downloading MNIST data"
   ]
  },
  {
   "cell_type": "code",
   "execution_count": 2,
   "id": "a2670071",
   "metadata": {},
   "outputs": [
    {
     "name": "stdout",
     "output_type": "stream",
     "text": [
      "Number of training samples: 60000\n",
      "Number of test samples: 10000\n"
     ]
    }
   ],
   "source": [
    "transform = transforms.Compose([\n",
    "    transforms.ToTensor(),\n",
    "    transforms.Normalize((0.5,), (0.5,))\n",
    "])\n",
    "\n",
    "train_dataset = datasets.MNIST(root='./data', train=True, download=True, transform=transform)\n",
    "train_loader = DataLoader(train_dataset, batch_size=64, shuffle=True)\n",
    "print(f\"Number of training samples: {len(train_dataset)}\")\n",
    "\n",
    "test_dataset = datasets.MNIST(root='./data', train=False, download=True, transform=transform)\n",
    "test_loader = DataLoader(test_dataset, batch_size=64, shuffle=False)\n",
    "print(f\"Number of test samples: {len(test_dataset)}\")"
   ]
  },
  {
   "cell_type": "markdown",
   "id": "e03e3005",
   "metadata": {},
   "source": [
    "# 3. Defining architecture that will be used for all participants"
   ]
  },
  {
   "cell_type": "code",
   "execution_count": 8,
   "id": "f5208836",
   "metadata": {},
   "outputs": [],
   "source": [
    "class Model(torch.nn.Module):\n",
    "    def __init__(self):\n",
    "        super(Model, self).__init__()\n",
    "        self.sequential = torch.nn.Sequential(\n",
    "            torch.nn.Linear(28 * 28, 128),\n",
    "            torch.nn.ReLU(),\n",
    "            torch.nn.Linear(128, 10)\n",
    "            )\n",
    "\n",
    "    def forward(self, x):\n",
    "        x = x.view(-1, 28 * 28)\n",
    "        return self.sequential(x)\n",
    "\n",
    "    def backprop(self, grad_output):\n",
    "        # Dummy backward pass\n",
    "        grad_input = torch.autograd.grad(outputs=self.fc.weight, inputs=self.fc.weight, grad_outputs=grad_output)\n",
    "        return grad_input"
   ]
  },
  {
   "cell_type": "code",
   "execution_count": 9,
   "id": "3fe60e02",
   "metadata": {},
   "outputs": [],
   "source": [
    "class Client():\n",
    "\n",
    "    def __init__(self, model, dataloader, id):\n",
    "        self.model = model\n",
    "        self.dataloader = dataloader\n",
    "        self.id = id\n",
    "        self.optimizer = torch.optim.Adam(self.model.parameters(), lr=0.001)\n",
    "        self.loss_func = torch.nn.CrossEntropyLoss()\n",
    "        self.n_params = len(self.get_params())\n",
    "\n",
    "    def train(self):\n",
    "        self.model.train()\n",
    "        data, labels = next(iter(self.dataloader))\n",
    "        \n",
    "        outputs = self.model(data)\n",
    "        loss = self.loss_func(outputs, labels)\n",
    "\n",
    "        self.optimizer.zero_grad()\n",
    "        loss.backward()\n",
    "        self.optimizer.step()\n",
    "\n",
    "    def get_params(self):\n",
    "        return torch.cat([p.view(-1,1) for p in self.model.parameters()]).detach()\n",
    "    \n",
    "    def get_grads(self):\n",
    "        return torch.cat([p.grad.view(-1,1) for p in self.model.parameters()]).detach()\n",
    "    \n",
    "    def set_params(self, server):\n",
    "        self.model.load_state_dict(server.model.state_dict())\n",
    "\n",
    "    def __call__(self,x):\n",
    "        return self.model(x)\n",
    "    \n",
    "    def __repr__ (self):\n",
    "        return f\"Client {self.id} with model\\n\\n {self.model}\""
   ]
  },
  {
   "cell_type": "code",
   "execution_count": 10,
   "id": "2e9a5b99",
   "metadata": {},
   "outputs": [],
   "source": [
    "class Server():\n",
    "\n",
    "    def __init__(self, model):\n",
    "        self.model = model\n",
    "        self.clients = []\n",
    "        self.n_params = len(self.get_params())\n",
    "\n",
    "    def get_params(self):\n",
    "        return torch.cat([p.view(-1,1) for p in self.model.parameters()]).detach()\n",
    "    \n",
    "    def update_params_from_grad(self, grads, lr):\n",
    "        j = 0\n",
    "        for param in self.model.parameters():\n",
    "            param.data -= lr*grads[j:j + param.numel(),:].mean(dim=1).view(param.shape)\n",
    "            j += param.numel()\n",
    "\n",
    "    def __call__(self, x):\n",
    "        return self.model(x)"
   ]
  },
  {
   "cell_type": "code",
   "execution_count": 11,
   "id": "f633c7dd",
   "metadata": {},
   "outputs": [],
   "source": [
    "class FedNetwork():\n",
    "    def __init__(self, clients, server):\n",
    "        self.clients = clients\n",
    "        self.server = server\n",
    "        self.n_params = server.n_params\n",
    "        self.n_clients = len(clients)\n",
    "    \n",
    "    def add_client(self, client):\n",
    "        self.clients.append(client)\n",
    "        self.n_clients += 1\n",
    "\n",
    "    def initialize_clients(self):\n",
    "        for client in self.clients:\n",
    "            client.set_params(self.server)\n",
    "    \n",
    "    def train_clients(self):\n",
    "            \n",
    "        grads = torch.zeros(self.n_params, self.n_clients)\n",
    "        params = torch.zeros(self.n_params, self.n_clients)\n",
    "\n",
    "        # Optimizing clients for 1 batch\n",
    "        for k, client in enumerate(self.clients):\n",
    "            client.train()\n",
    "            grads[:,k] = (client).get_grads().view(-1)\n",
    "            params[:,k] = client.get_params().view(-1)\n",
    "            \n",
    "        return params, grads\n",
    "    \n",
    "    def update_client(self, grads, lr=0.1):\n",
    "        self.server.update_params_from_grad(grads, lr)"
   ]
  },
  {
   "cell_type": "code",
   "execution_count": 12,
   "id": "8ca0d349",
   "metadata": {},
   "outputs": [
    {
     "name": "stdout",
     "output_type": "stream",
     "text": [
      "Number of training samples: 60000\n",
      "Number of test samples: 10000\n"
     ]
    }
   ],
   "source": [
    "transform = transforms.Compose([\n",
    "    transforms.ToTensor(),\n",
    "    transforms.Normalize((0.5,), (0.5,))\n",
    "])\n",
    "\n",
    "train_dataset = datasets.MNIST(root='./data', train=True, download=True, transform=transform)\n",
    "print(f\"Number of training samples: {len(train_dataset)}\")\n",
    "\n",
    "test_dataset = datasets.MNIST(root='./data', train=False, download=True, transform=transform)\n",
    "test_loader = DataLoader(test_dataset, batch_size=64, shuffle=False)\n",
    "print(f\"Number of test samples: {len(test_dataset)}\")"
   ]
  },
  {
   "cell_type": "code",
   "execution_count": 13,
   "id": "8247f805",
   "metadata": {},
   "outputs": [],
   "source": [
    "n_clients = 3\n",
    "\n",
    "train_loaders = split_dataset(train_dataset, n_clients)\n",
    "\n",
    "clients = [Client(model=Model(), dataloader=train_loaders[k], id=k+1) for k in range(n_clients)]\n",
    "server = Server(model=Model())\n",
    "net = FedNetwork(clients, server)"
   ]
  },
  {
   "cell_type": "code",
   "execution_count": 14,
   "id": "58322853",
   "metadata": {},
   "outputs": [
    {
     "name": "stderr",
     "output_type": "stream",
     "text": [
      " 11%|█         | 107/1000 [00:03<00:50, 17.71it/s]"
     ]
    },
    {
     "name": "stdout",
     "output_type": "stream",
     "text": [
      "Iteration 100 | Server eval: 0.8599\n"
     ]
    },
    {
     "name": "stderr",
     "output_type": "stream",
     "text": [
      " 21%|██        | 206/1000 [00:06<00:40, 19.82it/s]"
     ]
    },
    {
     "name": "stdout",
     "output_type": "stream",
     "text": [
      "Iteration 200 | Server eval: 0.8805\n"
     ]
    },
    {
     "name": "stderr",
     "output_type": "stream",
     "text": [
      " 31%|███       | 306/1000 [00:09<00:37, 18.64it/s]"
     ]
    },
    {
     "name": "stdout",
     "output_type": "stream",
     "text": [
      "Iteration 300 | Server eval: 0.896\n"
     ]
    },
    {
     "name": "stderr",
     "output_type": "stream",
     "text": [
      " 40%|████      | 405/1000 [00:12<00:31, 18.78it/s]"
     ]
    },
    {
     "name": "stdout",
     "output_type": "stream",
     "text": [
      "Iteration 400 | Server eval: 0.9034\n"
     ]
    },
    {
     "name": "stderr",
     "output_type": "stream",
     "text": [
      " 50%|█████     | 504/1000 [00:15<00:28, 17.69it/s]"
     ]
    },
    {
     "name": "stdout",
     "output_type": "stream",
     "text": [
      "Iteration 500 | Server eval: 0.9276\n"
     ]
    },
    {
     "name": "stderr",
     "output_type": "stream",
     "text": [
      " 60%|██████    | 604/1000 [00:18<00:26, 14.99it/s]"
     ]
    },
    {
     "name": "stdout",
     "output_type": "stream",
     "text": [
      "Iteration 600 | Server eval: 0.9338\n"
     ]
    },
    {
     "name": "stderr",
     "output_type": "stream",
     "text": [
      " 70%|███████   | 703/1000 [00:21<00:19, 15.05it/s]"
     ]
    },
    {
     "name": "stdout",
     "output_type": "stream",
     "text": [
      "Iteration 700 | Server eval: 0.9387\n"
     ]
    },
    {
     "name": "stderr",
     "output_type": "stream",
     "text": [
      " 81%|████████  | 808/1000 [00:24<00:09, 19.27it/s]"
     ]
    },
    {
     "name": "stdout",
     "output_type": "stream",
     "text": [
      "Iteration 800 | Server eval: 0.9433\n"
     ]
    },
    {
     "name": "stderr",
     "output_type": "stream",
     "text": [
      " 91%|█████████ | 906/1000 [00:27<00:05, 17.95it/s]"
     ]
    },
    {
     "name": "stdout",
     "output_type": "stream",
     "text": [
      "Iteration 900 | Server eval: 0.9447\n"
     ]
    },
    {
     "name": "stderr",
     "output_type": "stream",
     "text": [
      "100%|██████████| 1000/1000 [00:30<00:00, 32.94it/s]"
     ]
    },
    {
     "name": "stdout",
     "output_type": "stream",
     "text": [
      "Iteration 1000 | Server eval: 0.9507\n"
     ]
    },
    {
     "name": "stderr",
     "output_type": "stream",
     "text": [
      "\n"
     ]
    }
   ],
   "source": [
    "for i in tqdm(range(1_000)):\n",
    "\n",
    "    # Initialize clients with server parameters\n",
    "    net.initialize_clients()\n",
    "\n",
    "    # Train clients and get gradients\n",
    "    params, grads = net.train_clients()\n",
    "\n",
    "    # Update server with gradients from clients\n",
    "    net.update_client(grads, lr=0.1)\n",
    "\n",
    "    # Evaluate server every 100 iterations\n",
    "    if (i+1) % 100 == 0:\n",
    "        print(f'Iteration {i+1} | Server eval: {evaluate(net.server.model, test_loader)}')"
   ]
  },
  {
   "cell_type": "code",
   "execution_count": 16,
   "id": "86374d55",
   "metadata": {},
   "outputs": [
    {
     "data": {
      "image/png": "[encoded data removed]",
      "text/plain": [
       "<Figure size 500x500 with 2 Axes>"
      ]
     },
     "metadata": {},
     "output_type": "display_data"
    }
   ],
   "source": [
    "fig, ax = plt.subplots(2, 1, figsize=(5, 5))\n",
    "\n",
    "image = train_dataset[0][0].unsqueeze(0)  # Get a sample image\n",
    "label = train_dataset[0][1]  # Get the corresponding\n",
    "pred = net.server(image)  # Forward pass through the server model\n",
    "\n",
    "ax[0].imshow(image.squeeze(), cmap='gray')\n",
    "ax[0].set_title(f\"Label: {label} | Server pred.: {pred.argmax(dim=1).item()}\")\n",
    "\n",
    "ax[1].bar(range(10), torch.nn.functional.softmax(pred.squeeze().detach(), dim=0).numpy())\n",
    "ax[1].set_title(\"Server prediction probabilities\")      \n",
    "ax[1].set_xlabel(\"Classes\")\n",
    "ax[1].set_ylabel(\"Probability\")\n",
    "ax[1].set_ylim(0, 1)\n",
    "ax[1].set_xticks(range(10))\n",
    "ax[1].set_xticklabels(range(10))\n",
    "ax[1].grid(axis='y')\n",
    "\n",
    "plt.tight_layout()\n",
    "plt.show()"
   ]
  },
  {
   "cell_type": "code",
   "execution_count": null,
   "id": "ec51cede",
   "metadata": {},
   "outputs": [],
   "source": []
  }
 ],
 "metadata": {
  "kernelspec": {
   "display_name": "Python 3",
   "language": "python",
   "name": "python3"
  },
  "language_info": {
   "codemirror_mode": {
    "name": "ipython",
    "version": 3
   },
   "file_extension": ".py",
   "mimetype": "text/x-python",
   "name": "python",
   "nbconvert_exporter": "python",
   "pygments_lexer": "ipython3",
   "version": "3.11.9"
  }
 },
 "nbformat": 4,
 "nbformat_minor": 5
}
