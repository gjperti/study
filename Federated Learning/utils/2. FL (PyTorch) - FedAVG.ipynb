{
 "cells": [
  {
   "cell_type": "markdown",
   "id": "6137e1bd",
   "metadata": {},
   "source": [
    "# Federated Avg.\n",
    "\n",
    "Federated Learning proposed by [(McMahan et al., 2016)](https://proceedings.mlr.press/v54/mcmahan17a/mcmahan17a.pdf), where a group of clients train on their own local datasets and transmit parameter updates to a central server.\n",
    "\n",
    "In FedAVG, each client performs multiple forward-backward passes (epochs over batches), computes the new parameters and then send them to the server for aggregation.\n",
    "The server updates its parameters to be the average of the parameters of all clients, and then transmits this information to all clients."
   ]
  },
  {
   "cell_type": "code",
   "execution_count": 1,
   "id": "22bbdc98",
   "metadata": {},
   "outputs": [],
   "source": [
    "import torch\n",
    "import numpy as np  \n",
    "import matplotlib.pyplot as plt\n",
    "from torchvision import datasets, transforms\n",
    "from torch.utils.data import DataLoader, random_split\n",
    "from tqdm import tqdm\n",
    "from utils import *"
   ]
  },
  {
   "cell_type": "markdown",
   "id": "996e8b40",
   "metadata": {},
   "source": [
    "# 1. Downloading MNIST data"
   ]
  },
  {
   "cell_type": "code",
   "execution_count": 2,
   "id": "a2670071",
   "metadata": {},
   "outputs": [
    {
     "name": "stdout",
     "output_type": "stream",
     "text": [
      "Number of training samples: 60000\n",
      "Number of test samples: 10000\n"
     ]
    }
   ],
   "source": [
    "transform = transforms.Compose([\n",
    "    transforms.ToTensor(),\n",
    "    transforms.Normalize((0.5,), (0.5,))\n",
    "])\n",
    "\n",
    "train_dataset = datasets.MNIST(root='./data', train=True, download=True, transform=transform)\n",
    "train_loader = DataLoader(train_dataset, batch_size=64, shuffle=True)\n",
    "print(f\"Number of training samples: {len(train_dataset)}\")\n",
    "\n",
    "test_dataset = datasets.MNIST(root='./data', train=False, download=True, transform=transform)\n",
    "test_loader = DataLoader(test_dataset, batch_size=64, shuffle=False)\n",
    "print(f\"Number of test samples: {len(test_dataset)}\")"
   ]
  },
  {
   "cell_type": "markdown",
   "id": "53332e4a",
   "metadata": {},
   "source": [
    "# 2. Separating training data to each client"
   ]
  },
  {
   "cell_type": "code",
   "execution_count": 17,
   "id": "2da2eb4e",
   "metadata": {},
   "outputs": [
    {
     "name": "stdout",
     "output_type": "stream",
     "text": [
      "Number of training samples per client: [30000, 30000]\n"
     ]
    }
   ],
   "source": [
    "n_clients = 2\n",
    "\n",
    "# Specify lengths for the splits\n",
    "lengths = len(train_dataset) // n_clients\n",
    "splits = [lengths] * n_clients \n",
    "\n",
    "# Split the dataset\n",
    "train_datasets = random_split(train_dataset, splits)\n",
    "print(f\"Number of training samples per client: {[len(dataset) for dataset in train_datasets]}\")\n",
    "\n",
    "# # Now you can create DataLoaders for each subset if needed:\n",
    "train_loaders = [DataLoader(dataset, batch_size=64, shuffle=True) for dataset in train_datasets]"
   ]
  },
  {
   "cell_type": "markdown",
   "id": "e03e3005",
   "metadata": {},
   "source": [
    "# 3. Defining architecture that will be used for all participants"
   ]
  },
  {
   "cell_type": "code",
   "execution_count": 18,
   "id": "ed3e85cd",
   "metadata": {},
   "outputs": [],
   "source": [
    "class Model(torch.nn.Module):\n",
    "    def __init__(self):\n",
    "        super(Model, self).__init__()\n",
    "        self.sequential = torch.nn.Sequential(\n",
    "            torch.nn.Linear(28 * 28, 128),\n",
    "            torch.nn.ReLU(),\n",
    "            torch.nn.Linear(128, 10)\n",
    "            )\n",
    "\n",
    "    def forward(self, x):\n",
    "        x = x.view(-1, 28 * 28)\n",
    "        return self.sequential(x)\n",
    "\n",
    "    def backprop(self, grad_output):\n",
    "        # Dummy backward pass\n",
    "        grad_input = torch.autograd.grad(outputs=self.fc.weight, inputs=self.fc.weight, grad_outputs=grad_output)\n",
    "        return grad_input"
   ]
  },
  {
   "cell_type": "markdown",
   "id": "15b98fac",
   "metadata": {},
   "source": [
    "# 4. Initializing clients and server"
   ]
  },
  {
   "cell_type": "code",
   "execution_count": 26,
   "id": "508a5194",
   "metadata": {},
   "outputs": [
    {
     "data": {
      "image/png": "[encoded data removed]",
      "text/plain": [
       "<Figure size 500x500 with 2 Axes>"
      ]
     },
     "metadata": {},
     "output_type": "display_data"
    }
   ],
   "source": [
    "torch.manual_seed(42)\n",
    "\n",
    "server = Model()\n",
    "clients = [Model() for _ in range(n_clients)]\n",
    "copy_global(server, clients) # copying global model to clients\n",
    "\n",
    "fig, ax = plt.subplots(2, 1, figsize=(5, 5))\n",
    "\n",
    "image = train_dataset[0][0].unsqueeze(0)  # Get a sample image\n",
    "label = train_dataset[0][1]  # Get the corresponding\n",
    "pred = server(image)  # Forward pass through the server model\n",
    "\n",
    "ax[0].imshow(image.squeeze(), cmap='gray')\n",
    "ax[0].set_title(f\"Label: {label} | Server pred.: {pred.argmax(dim=1).item()}\")\n",
    "\n",
    "ax[1].bar(range(10), torch.nn.functional.softmax(pred.squeeze().detach(), dim=0).numpy())\n",
    "ax[1].set_title(\"Server prediction probabilities\")      \n",
    "ax[1].set_xlabel(\"Classes\")\n",
    "ax[1].set_ylabel(\"Probability\")\n",
    "ax[1].set_ylim(0, 1)\n",
    "ax[1].set_xticks(range(10))\n",
    "ax[1].set_xticklabels(range(10))\n",
    "ax[1].grid(axis='y')\n",
    "\n",
    "plt.tight_layout()\n",
    "plt.show()"
   ]
  },
  {
   "cell_type": "markdown",
   "id": "1797c030",
   "metadata": {},
   "source": [
    "# 5. Training loop\n",
    "- each model is trained on a single batch\n",
    "- the generated param grad is sent to the global model\n",
    "- the global model runs a simple GD step using the mean of all grads (FedSGD)\n",
    "- the global params are copied to the clients"
   ]
  },
  {
   "cell_type": "code",
   "execution_count": 27,
   "id": "86347ce9",
   "metadata": {},
   "outputs": [
    {
     "name": "stderr",
     "output_type": "stream",
     "text": [
      " 10%|█         | 1/10 [00:09<01:23,  9.30s/it]"
     ]
    },
    {
     "name": "stdout",
     "output_type": "stream",
     "text": [
      "Iteration 1/10 | Server eval: 0.5644\n"
     ]
    },
    {
     "name": "stderr",
     "output_type": "stream",
     "text": [
      " 20%|██        | 2/10 [00:21<01:26, 10.81s/it]"
     ]
    },
    {
     "name": "stdout",
     "output_type": "stream",
     "text": [
      "Iteration 2/10 | Server eval: 0.847\n"
     ]
    },
    {
     "name": "stderr",
     "output_type": "stream",
     "text": [
      " 30%|███       | 3/10 [00:34<01:22, 11.85s/it]"
     ]
    },
    {
     "name": "stdout",
     "output_type": "stream",
     "text": [
      "Iteration 3/10 | Server eval: 0.8953\n"
     ]
    },
    {
     "name": "stderr",
     "output_type": "stream",
     "text": [
      " 40%|████      | 4/10 [00:43<01:05, 10.86s/it]"
     ]
    },
    {
     "name": "stdout",
     "output_type": "stream",
     "text": [
      "Iteration 4/10 | Server eval: 0.9364\n"
     ]
    },
    {
     "name": "stderr",
     "output_type": "stream",
     "text": [
      " 50%|█████     | 5/10 [00:53<00:52, 10.56s/it]"
     ]
    },
    {
     "name": "stdout",
     "output_type": "stream",
     "text": [
      "Iteration 5/10 | Server eval: 0.9388\n"
     ]
    },
    {
     "name": "stderr",
     "output_type": "stream",
     "text": [
      " 60%|██████    | 6/10 [01:03<00:41, 10.30s/it]"
     ]
    },
    {
     "name": "stdout",
     "output_type": "stream",
     "text": [
      "Iteration 6/10 | Server eval: 0.9425\n"
     ]
    },
    {
     "name": "stderr",
     "output_type": "stream",
     "text": [
      " 70%|███████   | 7/10 [01:15<00:32, 10.77s/it]"
     ]
    },
    {
     "name": "stdout",
     "output_type": "stream",
     "text": [
      "Iteration 7/10 | Server eval: 0.9412\n"
     ]
    },
    {
     "name": "stderr",
     "output_type": "stream",
     "text": [
      " 80%|████████  | 8/10 [01:25<00:21, 10.63s/it]"
     ]
    },
    {
     "name": "stdout",
     "output_type": "stream",
     "text": [
      "Iteration 8/10 | Server eval: 0.9381\n"
     ]
    },
    {
     "name": "stderr",
     "output_type": "stream",
     "text": [
      " 90%|█████████ | 9/10 [01:34<00:10, 10.06s/it]"
     ]
    },
    {
     "name": "stdout",
     "output_type": "stream",
     "text": [
      "Iteration 9/10 | Server eval: 0.9422\n"
     ]
    },
    {
     "name": "stderr",
     "output_type": "stream",
     "text": [
      "100%|██████████| 10/10 [01:43<00:00, 10.39s/it]"
     ]
    },
    {
     "name": "stdout",
     "output_type": "stream",
     "text": [
      "Iteration 10/10 | Server eval: 0.9395\n"
     ]
    },
    {
     "name": "stderr",
     "output_type": "stream",
     "text": [
      "\n"
     ]
    }
   ],
   "source": [
    "n_iters = 10\n",
    "n_epochs = 1\n",
    "n_params = len(get_params(server))\n",
    "lr = 0.1\n",
    "optimizers = [torch.optim.Adam(client.parameters(), lr=0.01) for client in clients]\n",
    "loss_func = torch.nn.CrossEntropyLoss()\n",
    "\n",
    "results = []\n",
    "\n",
    "for i in tqdm(range(n_iters)):\n",
    "\n",
    "    copy_global(server, clients)\n",
    "\n",
    "    params = torch.zeros(n_clients, n_params)\n",
    "\n",
    "    # Optimizing clients for 1 batch\n",
    "    for k, client in enumerate(clients):\n",
    "\n",
    "        client.train()\n",
    "\n",
    "        for e in range(n_epochs):\n",
    "            # Get a single batch of data\n",
    "            for data, target in train_loaders[k]:\n",
    "\n",
    "                # Batch is fed to the client\n",
    "                output = client(data)\n",
    "\n",
    "                # loss is calculated\n",
    "                loss = loss_func(output, target)\n",
    "\n",
    "                # loss gradient to each param is calculated\n",
    "                optimizers[k].zero_grad()\n",
    "                loss.backward()\n",
    "                optimizers[k].step()\n",
    "\n",
    "        # gradients are collected\n",
    "        params[k] = get_params(client).view(1,-1)\n",
    "\n",
    "    # Update server parameters\n",
    "    k = 0\n",
    "    for j, param in enumerate(server.parameters()):\n",
    "        param.data = params[:, k:k + param.numel()].mean(dim=0).view(param.shape)\n",
    "        k = k + param.numel()\n",
    "\n",
    "    # Evaluate server every K iterations\n",
    "    if (i+1) % 1 == 0:\n",
    "        print(f'Iteration {i+1}/{n_iters} | Server eval: {evaluate(server, test_loader)}')"
   ]
  },
  {
   "cell_type": "code",
   "execution_count": 28,
   "id": "86374d55",
   "metadata": {},
   "outputs": [
    {
     "data": {
      "image/png": "[encoded data removed]",
      "text/plain": [
       "<Figure size 500x500 with 2 Axes>"
      ]
     },
     "metadata": {},
     "output_type": "display_data"
    }
   ],
   "source": [
    "fig, ax = plt.subplots(2, 1, figsize=(5, 5))\n",
    "\n",
    "image = train_dataset[0][0].unsqueeze(0)  # Get a sample image\n",
    "label = train_dataset[0][1]  # Get the corresponding\n",
    "pred = server(image)  # Forward pass through the server model\n",
    "\n",
    "ax[0].imshow(image.squeeze(), cmap='gray')\n",
    "ax[0].set_title(f\"Label: {label} | Server pred.: {pred.argmax(dim=1).item()}\")\n",
    "\n",
    "ax[1].bar(range(10), torch.nn.functional.softmax(pred.squeeze().detach(), dim=0).numpy())\n",
    "ax[1].set_title(\"Server prediction probabilities\")      \n",
    "ax[1].set_xlabel(\"Classes\")\n",
    "ax[1].set_ylabel(\"Probability\")\n",
    "ax[1].set_ylim(0, 1)\n",
    "ax[1].set_xticks(range(10))\n",
    "ax[1].set_xticklabels(range(10))\n",
    "ax[1].grid(axis='y')\n",
    "\n",
    "plt.tight_layout()\n",
    "plt.show()"
   ]
  },
  {
   "cell_type": "code",
   "execution_count": null,
   "id": "ec51cede",
   "metadata": {},
   "outputs": [],
   "source": []
  }
 ],
 "metadata": {
  "kernelspec": {
   "display_name": "Python 3",
   "language": "python",
   "name": "python3"
  },
  "language_info": {
   "codemirror_mode": {
    "name": "ipython",
    "version": 3
   },
   "file_extension": ".py",
   "mimetype": "text/x-python",
   "name": "python",
   "nbconvert_exporter": "python",
   "pygments_lexer": "ipython3",
   "version": "3.11.9"
  }
 },
 "nbformat": 4,
 "nbformat_minor": 5
}
