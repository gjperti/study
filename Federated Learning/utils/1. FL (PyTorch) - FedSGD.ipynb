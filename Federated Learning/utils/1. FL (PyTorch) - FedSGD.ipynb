{
 "cells": [
  {
   "cell_type": "markdown",
   "id": "7003315e",
   "metadata": {},
   "source": [
    "# Federated SGD\n",
    "\n",
    "Federated Learning proposed by [(McMahan et al., 2016)](https://proceedings.mlr.press/v54/mcmahan17a/mcmahan17a.pdf), where a group of clients train on their own local datasets and transmit parameter updates to a central server.\n",
    "\n",
    "In FedSGD, each client performs a single forward-backward pass on the entire local data, computes the gradients and then send them to the server for aggregation.\n",
    "The server performs a simple SGD update with the clients' gradients and copies its new parameters to each client.\n",
    "\n",
    "In this notebook, instead of a doing a full epoch at once, the clients are trained with a single batch of its local dataset. This was done for speed purposes."
   ]
  },
  {
   "cell_type": "code",
   "execution_count": 2,
   "id": "22bbdc98",
   "metadata": {},
   "outputs": [],
   "source": [
    "import torch\n",
    "import numpy as np  \n",
    "import matplotlib.pyplot as plt\n",
    "from torchvision import datasets, transforms\n",
    "from torch.utils.data import DataLoader, random_split\n",
    "from tqdm import tqdm\n",
    "from utils import *"
   ]
  },
  {
   "cell_type": "markdown",
   "id": "996e8b40",
   "metadata": {},
   "source": [
    "# 1. Downloading MNIST data"
   ]
  },
  {
   "cell_type": "code",
   "execution_count": 3,
   "id": "a2670071",
   "metadata": {},
   "outputs": [
    {
     "name": "stderr",
     "output_type": "stream",
     "text": [
      "100%|██████████| 9.91M/9.91M [00:00<00:00, 10.0MB/s]\n",
      "100%|██████████| 28.9k/28.9k [00:00<00:00, 295kB/s]\n",
      "100%|██████████| 1.65M/1.65M [00:00<00:00, 2.42MB/s]\n",
      "100%|██████████| 4.54k/4.54k [00:00<?, ?B/s]"
     ]
    },
    {
     "name": "stdout",
     "output_type": "stream",
     "text": [
      "Number of training samples: 60000\n",
      "Number of test samples: 10000\n"
     ]
    },
    {
     "name": "stderr",
     "output_type": "stream",
     "text": [
      "\n"
     ]
    }
   ],
   "source": [
    "transform = transforms.Compose([\n",
    "    transforms.ToTensor(),\n",
    "    transforms.Normalize((0.5,), (0.5,))\n",
    "])\n",
    "\n",
    "train_dataset = datasets.MNIST(root='./data', train=True, download=True, transform=transform)\n",
    "print(f\"Number of training samples: {len(train_dataset)}\")\n",
    "\n",
    "test_dataset = datasets.MNIST(root='./data', train=False, download=True, transform=transform)\n",
    "test_loader = DataLoader(test_dataset, batch_size=64, shuffle=False)\n",
    "print(f\"Number of test samples: {len(test_dataset)}\")"
   ]
  },
  {
   "cell_type": "markdown",
   "id": "53332e4a",
   "metadata": {},
   "source": [
    "# 2. Separating training data to each client"
   ]
  },
  {
   "cell_type": "code",
   "execution_count": 4,
   "id": "2da2eb4e",
   "metadata": {},
   "outputs": [
    {
     "name": "stdout",
     "output_type": "stream",
     "text": [
      "Number of training samples per client: [20000, 20000, 20000]\n"
     ]
    }
   ],
   "source": [
    "n_clients = 3\n",
    "\n",
    "# Specify lengths for the splits\n",
    "lengths = len(train_dataset) // n_clients\n",
    "splits = [lengths] * n_clients \n",
    "\n",
    "# Split the dataset\n",
    "train_datasets = random_split(train_dataset, splits)\n",
    "print(f\"Number of training samples per client: {[len(dataset) for dataset in train_datasets]}\")\n",
    "\n",
    "# # Now you can create DataLoaders for each subset if needed:\n",
    "train_loaders = [DataLoader(dataset, batch_size=64, shuffle=True) for dataset in train_datasets]"
   ]
  },
  {
   "cell_type": "markdown",
   "id": "e03e3005",
   "metadata": {},
   "source": [
    "# 3. Defining architecture that will be used for all participants"
   ]
  },
  {
   "cell_type": "code",
   "execution_count": 5,
   "id": "ed3e85cd",
   "metadata": {},
   "outputs": [],
   "source": [
    "class Model(torch.nn.Module):\n",
    "    def __init__(self):\n",
    "        super(Model, self).__init__()\n",
    "        self.sequential = torch.nn.Sequential(\n",
    "            torch.nn.Linear(28 * 28, 128),\n",
    "            torch.nn.ReLU(),\n",
    "            torch.nn.Linear(128, 10)\n",
    "            )\n",
    "\n",
    "    def forward(self, x):\n",
    "        x = x.view(-1, 28 * 28)\n",
    "        return self.sequential(x)\n",
    "\n",
    "    def backprop(self, grad_output):\n",
    "        # Dummy backward pass\n",
    "        grad_input = torch.autograd.grad(outputs=self.fc.weight, inputs=self.fc.weight, grad_outputs=grad_output)\n",
    "        return grad_input"
   ]
  },
  {
   "cell_type": "markdown",
   "id": "15b98fac",
   "metadata": {},
   "source": [
    "# 4. Initializing clients and server"
   ]
  },
  {
   "cell_type": "code",
   "execution_count": 6,
   "id": "508a5194",
   "metadata": {},
   "outputs": [
    {
     "data": {
      "image/png": "[encoded data removed]",
      "text/plain": [
       "<Figure size 500x500 with 2 Axes>"
      ]
     },
     "metadata": {},
     "output_type": "display_data"
    }
   ],
   "source": [
    "torch.manual_seed(42)\n",
    "\n",
    "server = Model()\n",
    "clients = [Model() for _ in range(n_clients)]\n",
    "copy_global(server, clients) # copying global model to clients\n",
    "\n",
    "fig, ax = plt.subplots(2, 1, figsize=(5, 5))\n",
    "\n",
    "image = train_dataset[0][0].unsqueeze(0)  # Get a sample image\n",
    "label = train_dataset[0][1]  # Get the corresponding\n",
    "pred = server(image)  # Forward pass through the server model\n",
    "\n",
    "ax[0].imshow(image.squeeze(), cmap='gray')\n",
    "ax[0].set_title(f\"Label: {label} | Server pred.: {pred.argmax(dim=1).item()}\")\n",
    "\n",
    "ax[1].bar(range(10), torch.nn.functional.softmax(pred.squeeze().detach(), dim=0).numpy())\n",
    "ax[1].set_title(\"Server prediction probabilities\")      \n",
    "ax[1].set_xlabel(\"Classes\")\n",
    "ax[1].set_ylabel(\"Probability\")\n",
    "ax[1].set_ylim(0, 1)\n",
    "ax[1].set_xticks(range(10))\n",
    "ax[1].set_xticklabels(range(10))\n",
    "ax[1].grid(axis='y')\n",
    "\n",
    "plt.tight_layout()\n",
    "plt.show()"
   ]
  },
  {
   "cell_type": "markdown",
   "id": "1797c030",
   "metadata": {},
   "source": [
    "# 5. Training loop\n",
    "- each model is trained on a single batch\n",
    "- the generated param grad is sent to the global model\n",
    "- the global model runs a simple GD step using the mean of all grads (FedSGD)\n",
    "- the global params are copied to the clients"
   ]
  },
  {
   "cell_type": "code",
   "execution_count": 7,
   "id": "86347ce9",
   "metadata": {},
   "outputs": [
    {
     "name": "stderr",
     "output_type": "stream",
     "text": [
      " 10%|█         | 104/1000 [00:03<01:00, 14.93it/s]"
     ]
    },
    {
     "name": "stdout",
     "output_type": "stream",
     "text": [
      "Iteration 100/1000 | Server eval: 0.83\n"
     ]
    },
    {
     "name": "stderr",
     "output_type": "stream",
     "text": [
      " 20%|██        | 205/1000 [00:05<00:39, 19.90it/s]"
     ]
    },
    {
     "name": "stdout",
     "output_type": "stream",
     "text": [
      "Iteration 200/1000 | Server eval: 0.8803\n"
     ]
    },
    {
     "name": "stderr",
     "output_type": "stream",
     "text": [
      " 31%|███       | 306/1000 [00:08<00:34, 20.13it/s]"
     ]
    },
    {
     "name": "stdout",
     "output_type": "stream",
     "text": [
      "Iteration 300/1000 | Server eval: 0.9092\n"
     ]
    },
    {
     "name": "stderr",
     "output_type": "stream",
     "text": [
      " 40%|████      | 405/1000 [00:11<00:33, 17.97it/s]"
     ]
    },
    {
     "name": "stdout",
     "output_type": "stream",
     "text": [
      "Iteration 400/1000 | Server eval: 0.9035\n"
     ]
    },
    {
     "name": "stderr",
     "output_type": "stream",
     "text": [
      " 51%|█████     | 506/1000 [00:14<00:22, 21.79it/s]"
     ]
    },
    {
     "name": "stdout",
     "output_type": "stream",
     "text": [
      "Iteration 500/1000 | Server eval: 0.934\n"
     ]
    },
    {
     "name": "stderr",
     "output_type": "stream",
     "text": [
      " 61%|██████    | 606/1000 [00:16<00:19, 20.65it/s]"
     ]
    },
    {
     "name": "stdout",
     "output_type": "stream",
     "text": [
      "Iteration 600/1000 | Server eval: 0.9382\n"
     ]
    },
    {
     "name": "stderr",
     "output_type": "stream",
     "text": [
      " 71%|███████   | 709/1000 [00:19<00:13, 21.17it/s]"
     ]
    },
    {
     "name": "stdout",
     "output_type": "stream",
     "text": [
      "Iteration 700/1000 | Server eval: 0.9381\n"
     ]
    },
    {
     "name": "stderr",
     "output_type": "stream",
     "text": [
      " 81%|████████  | 809/1000 [00:22<00:08, 22.37it/s]"
     ]
    },
    {
     "name": "stdout",
     "output_type": "stream",
     "text": [
      "Iteration 800/1000 | Server eval: 0.9393\n"
     ]
    },
    {
     "name": "stderr",
     "output_type": "stream",
     "text": [
      " 90%|█████████ | 904/1000 [00:24<00:05, 18.55it/s]"
     ]
    },
    {
     "name": "stdout",
     "output_type": "stream",
     "text": [
      "Iteration 900/1000 | Server eval: 0.9475\n"
     ]
    },
    {
     "name": "stderr",
     "output_type": "stream",
     "text": [
      "100%|██████████| 1000/1000 [00:27<00:00, 36.36it/s]"
     ]
    },
    {
     "name": "stdout",
     "output_type": "stream",
     "text": [
      "Iteration 1000/1000 | Server eval: 0.9486\n"
     ]
    },
    {
     "name": "stderr",
     "output_type": "stream",
     "text": [
      "\n"
     ]
    }
   ],
   "source": [
    "n_iters = 1000\n",
    "n_params = len(get_params(server))\n",
    "lr = 0.1\n",
    "optimizers = [torch.optim.SGD(client.parameters(), lr=0.01) for client in clients]\n",
    "loss_func = torch.nn.CrossEntropyLoss()\n",
    "\n",
    "results = []\n",
    "\n",
    "for i in tqdm(range(n_iters)):\n",
    "\n",
    "    copy_global(server, clients)\n",
    "\n",
    "    grads = torch.zeros(n_clients, n_params)\n",
    "\n",
    "    # Optimizing clients for 1 batch\n",
    "    for k, client in enumerate(clients):\n",
    "\n",
    "        client.train()\n",
    "\n",
    "        # Get a single batch of data\n",
    "        data,target = next(iter(train_loaders[k]))\n",
    "\n",
    "        # Batch is fed to the client\n",
    "        output = client(data)\n",
    "\n",
    "        # loss is calculated\n",
    "        loss = loss_func(output, target)\n",
    "\n",
    "        # loss gradient to each param is calculated\n",
    "        optimizers[k].zero_grad()\n",
    "        loss.backward()\n",
    "\n",
    "        # gradients are collected\n",
    "        grads[k] = get_grads(client).detach().view(-1)\n",
    "\n",
    "    # Update server parameters\n",
    "    k = 0\n",
    "    for j, param in enumerate(server.parameters()):\n",
    "        param.data -= lr*grads[:, k:k + param.numel()].mean(dim=0).view(param.shape)\n",
    "        k = k + param.numel()\n",
    "\n",
    "    # Evaluate server every K iterations\n",
    "    if (i+1) % 100 == 0:\n",
    "        print(f'Iteration {i+1}/{n_iters} | Server eval: {evaluate(server, test_loader)}')"
   ]
  },
  {
   "cell_type": "code",
   "execution_count": 8,
   "id": "86374d55",
   "metadata": {},
   "outputs": [
    {
     "data": {
      "image/png": "[encoded data removed]",
      "text/plain": [
       "<Figure size 500x500 with 2 Axes>"
      ]
     },
     "metadata": {},
     "output_type": "display_data"
    }
   ],
   "source": [
    "fig, ax = plt.subplots(2, 1, figsize=(5, 5))\n",
    "\n",
    "image = train_dataset[0][0].unsqueeze(0)  # Get a sample image\n",
    "label = train_dataset[0][1]  # Get the corresponding\n",
    "pred = server(image)  # Forward pass through the server model\n",
    "\n",
    "ax[0].imshow(image.squeeze(), cmap='gray')\n",
    "ax[0].set_title(f\"Label: {label} | Server pred.: {pred.argmax(dim=1).item()}\")\n",
    "\n",
    "ax[1].bar(range(10), torch.nn.functional.softmax(pred.squeeze().detach(), dim=0).numpy())\n",
    "ax[1].set_title(\"Server prediction probabilities\")      \n",
    "ax[1].set_xlabel(\"Classes\")\n",
    "ax[1].set_ylabel(\"Probability\")\n",
    "ax[1].set_ylim(0, 1)\n",
    "ax[1].set_xticks(range(10))\n",
    "ax[1].set_xticklabels(range(10))\n",
    "ax[1].grid(axis='y')\n",
    "\n",
    "plt.tight_layout()\n",
    "plt.show()"
   ]
  },
  {
   "cell_type": "code",
   "execution_count": null,
   "id": "ec51cede",
   "metadata": {},
   "outputs": [],
   "source": []
  }
 ],
 "metadata": {
  "kernelspec": {
   "display_name": "Python 3",
   "language": "python",
   "name": "python3"
  },
  "language_info": {
   "codemirror_mode": {
    "name": "ipython",
    "version": 3
   },
   "file_extension": ".py",
   "mimetype": "text/x-python",
   "name": "python",
   "nbconvert_exporter": "python",
   "pygments_lexer": "ipython3",
   "version": "3.11.9"
  }
 },
 "nbformat": 4,
 "nbformat_minor": 5
}
